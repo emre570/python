{
  "cells":[
    {
      "cell_type":"markdown",
      "source":[
        "# Introduction of Tensorflow and Basics of ML"
      ],
      "attachments":{
        
      },
      "metadata":{
        "datalore":{
          "sheet_delimiter":false
        }
      }
    },
    {
      "cell_type":"markdown",
      "source":[
        "\n",
        "This notebook is created and edited by: https:\/\/github.com\/emre570"
      ],
      "attachments":{
        
      },
      "metadata":{
        "datalore":{
          "sheet_delimiter":false
        }
      }
    },
    {
      "cell_type":"markdown",
      "source":[
        "Taken from: https:\/\/github.com\/atilsamancioglu"
      ],
      "attachments":{
        
      },
      "metadata":{
        "datalore":{
          "sheet_delimiter":false
        }
      }
    },
    {
      "cell_type":"code",
      "source":[
        "#Import necessary libraries\n",
        "import pandas as pd\n",
        "import matplotlib.pyplot as plt\n",
        "import seaborn as sb"
      ],
      "execution_count":7,
      "outputs":[
        
      ],
      "metadata":{
        "datalore":{
          "sheet_delimiter":false
        }
      }
    },
    {
      "cell_type":"code",
      "source":[
        "#Fetch the database and assign it to a Dataframe\n",
        "df = pd.read_excel(\"merc.xlsx\")\n",
        "df.head()"
      ],
      "execution_count":8,
      "outputs":[
        {
          "data":{
            "text\/html":[
              "<div>\n",
              "<style scoped>\n",
              "    .dataframe tbody tr th:only-of-type {\n",
              "        vertical-align: middle;\n",
              "    }\n",
              "\n",
              "    .dataframe tbody tr th {\n",
              "        vertical-align: top;\n",
              "    }\n",
              "\n",
              "    .dataframe thead th {\n",
              "        text-align: right;\n",
              "    }\n",
              "<\/style>\n",
              "<table border=\"1\" class=\"dataframe\">\n",
              "  <thead>\n",
              "    <tr style=\"text-align: right;\">\n",
              "      <th><\/th>\n",
              "      <th>year<\/th>\n",
              "      <th>price<\/th>\n",
              "      <th>transmission<\/th>\n",
              "      <th>mileage<\/th>\n",
              "      <th>tax<\/th>\n",
              "      <th>mpg<\/th>\n",
              "      <th>engineSize<\/th>\n",
              "    <\/tr>\n",
              "  <\/thead>\n",
              "  <tbody>\n",
              "    <tr>\n",
              "      <th>0<\/th>\n",
              "      <td>2005<\/td>\n",
              "      <td>5200<\/td>\n",
              "      <td>Automatic<\/td>\n",
              "      <td>63000<\/td>\n",
              "      <td>325<\/td>\n",
              "      <td>32.1<\/td>\n",
              "      <td>1.8<\/td>\n",
              "    <\/tr>\n",
              "    <tr>\n",
              "      <th>1<\/th>\n",
              "      <td>2017<\/td>\n",
              "      <td>34948<\/td>\n",
              "      <td>Automatic<\/td>\n",
              "      <td>27000<\/td>\n",
              "      <td>20<\/td>\n",
              "      <td>61.4<\/td>\n",
              "      <td>2.1<\/td>\n",
              "    <\/tr>\n",
              "    <tr>\n",
              "      <th>2<\/th>\n",
              "      <td>2016<\/td>\n",
              "      <td>49948<\/td>\n",
              "      <td>Automatic<\/td>\n",
              "      <td>6200<\/td>\n",
              "      <td>555<\/td>\n",
              "      <td>28.0<\/td>\n",
              "      <td>5.5<\/td>\n",
              "    <\/tr>\n",
              "    <tr>\n",
              "      <th>3<\/th>\n",
              "      <td>2016<\/td>\n",
              "      <td>61948<\/td>\n",
              "      <td>Automatic<\/td>\n",
              "      <td>16000<\/td>\n",
              "      <td>325<\/td>\n",
              "      <td>30.4<\/td>\n",
              "      <td>4.0<\/td>\n",
              "    <\/tr>\n",
              "    <tr>\n",
              "      <th>4<\/th>\n",
              "      <td>2016<\/td>\n",
              "      <td>73948<\/td>\n",
              "      <td>Automatic<\/td>\n",
              "      <td>4000<\/td>\n",
              "      <td>325<\/td>\n",
              "      <td>30.1<\/td>\n",
              "      <td>4.0<\/td>\n",
              "    <\/tr>\n",
              "  <\/tbody>\n",
              "<\/table>\n",
              "<\/div>"
            ]
          },
          "metadata":{
            
          },
          "output_type":"display_data"
        }
      ],
      "metadata":{
        "datalore":{
          "sheet_delimiter":false
        }
      }
    },
    {
      "cell_type":"code",
      "source":[
        "#Summary of Dataframe\n",
        "df.describe()"
      ],
      "execution_count":9,
      "outputs":[
        {
          "data":{
            "text\/html":[
              "<div>\n",
              "<style scoped>\n",
              "    .dataframe tbody tr th:only-of-type {\n",
              "        vertical-align: middle;\n",
              "    }\n",
              "\n",
              "    .dataframe tbody tr th {\n",
              "        vertical-align: top;\n",
              "    }\n",
              "\n",
              "    .dataframe thead th {\n",
              "        text-align: right;\n",
              "    }\n",
              "<\/style>\n",
              "<table border=\"1\" class=\"dataframe\">\n",
              "  <thead>\n",
              "    <tr style=\"text-align: right;\">\n",
              "      <th><\/th>\n",
              "      <th>year<\/th>\n",
              "      <th>price<\/th>\n",
              "      <th>mileage<\/th>\n",
              "      <th>tax<\/th>\n",
              "      <th>mpg<\/th>\n",
              "      <th>engineSize<\/th>\n",
              "    <\/tr>\n",
              "  <\/thead>\n",
              "  <tbody>\n",
              "    <tr>\n",
              "      <th>count<\/th>\n",
              "      <td>13119.000000<\/td>\n",
              "      <td>13119.000000<\/td>\n",
              "      <td>13119.000000<\/td>\n",
              "      <td>13119.000000<\/td>\n",
              "      <td>13119.000000<\/td>\n",
              "      <td>13119.000000<\/td>\n",
              "    <\/tr>\n",
              "    <tr>\n",
              "      <th>mean<\/th>\n",
              "      <td>2017.296288<\/td>\n",
              "      <td>24698.596920<\/td>\n",
              "      <td>21949.559037<\/td>\n",
              "      <td>129.972178<\/td>\n",
              "      <td>55.155843<\/td>\n",
              "      <td>2.071530<\/td>\n",
              "    <\/tr>\n",
              "    <tr>\n",
              "      <th>std<\/th>\n",
              "      <td>2.224709<\/td>\n",
              "      <td>11842.675542<\/td>\n",
              "      <td>21176.512267<\/td>\n",
              "      <td>65.260286<\/td>\n",
              "      <td>15.220082<\/td>\n",
              "      <td>0.572426<\/td>\n",
              "    <\/tr>\n",
              "    <tr>\n",
              "      <th>min<\/th>\n",
              "      <td>1970.000000<\/td>\n",
              "      <td>650.000000<\/td>\n",
              "      <td>1.000000<\/td>\n",
              "      <td>0.000000<\/td>\n",
              "      <td>1.100000<\/td>\n",
              "      <td>0.000000<\/td>\n",
              "    <\/tr>\n",
              "    <tr>\n",
              "      <th>25%<\/th>\n",
              "      <td>2016.000000<\/td>\n",
              "      <td>17450.000000<\/td>\n",
              "      <td>6097.500000<\/td>\n",
              "      <td>125.000000<\/td>\n",
              "      <td>45.600000<\/td>\n",
              "      <td>1.800000<\/td>\n",
              "    <\/tr>\n",
              "    <tr>\n",
              "      <th>50%<\/th>\n",
              "      <td>2018.000000<\/td>\n",
              "      <td>22480.000000<\/td>\n",
              "      <td>15189.000000<\/td>\n",
              "      <td>145.000000<\/td>\n",
              "      <td>56.500000<\/td>\n",
              "      <td>2.000000<\/td>\n",
              "    <\/tr>\n",
              "    <tr>\n",
              "      <th>75%<\/th>\n",
              "      <td>2019.000000<\/td>\n",
              "      <td>28980.000000<\/td>\n",
              "      <td>31779.500000<\/td>\n",
              "      <td>145.000000<\/td>\n",
              "      <td>64.200000<\/td>\n",
              "      <td>2.100000<\/td>\n",
              "    <\/tr>\n",
              "    <tr>\n",
              "      <th>max<\/th>\n",
              "      <td>2020.000000<\/td>\n",
              "      <td>159999.000000<\/td>\n",
              "      <td>259000.000000<\/td>\n",
              "      <td>580.000000<\/td>\n",
              "      <td>217.300000<\/td>\n",
              "      <td>6.200000<\/td>\n",
              "    <\/tr>\n",
              "  <\/tbody>\n",
              "<\/table>\n",
              "<\/div>"
            ]
          },
          "metadata":{
            
          },
          "output_type":"display_data"
        }
      ],
      "metadata":{
        "datalore":{
          "sheet_delimiter":false
        }
      }
    },
    {
      "cell_type":"code",
      "source":[
        "#Check if any row has null values\n",
        "df.isnull().sum()"
      ],
      "execution_count":10,
      "outputs":[
        {
          "data":{
            "text\/html":[
              
            ]
          },
          "metadata":{
            
          },
          "output_type":"display_data"
        }
      ],
      "metadata":{
        "datalore":{
          "sheet_delimiter":false
        }
      }
    },
    {
      "cell_type":"markdown",
      "source":[
        "## Graphical Analysis"
      ],
      "attachments":{
        
      },
      "metadata":{
        "datalore":{
          "sheet_delimiter":false
        }
      }
    },
    {
      "cell_type":"code",
      "source":[
        "#Distribution graph of Dataframe\n",
        "sb.displot(df[\"price\"])"
      ],
      "execution_count":11,
      "outputs":[
        {
          "data":{
            "text\/plain":[
              "<seaborn.axisgrid.FacetGrid at 0x7f6500ae24f0>"
            ],
            "image\/png":"[encoded data removed]"
          },
          "metadata":{
            "image\/png":{
              
            }
          },
          "output_type":"display_data"
        }
      ],
      "metadata":{
        "datalore":{
          "sheet_delimiter":false
        }
      }
    },
    {
      "cell_type":"code",
      "source":[
        "#Let's take its correlation to find out what the price is changing the most.\n",
        "df.corr()[\"price\"].sort_values()"
      ],
      "execution_count":12,
      "outputs":[
        {
          "data":{
            "text\/html":[
              
            ]
          },
          "metadata":{
            
          },
          "output_type":"display_data"
        }
      ],
      "metadata":{
        "datalore":{
          "sheet_delimiter":false
        }
      }
    },
    {
      "cell_type":"code",
      "source":[
        "#Most relevant result is year, which means as the year increases, the price increases.\n",
        "#Let's visualize it.\n",
        "sb.scatterplot(x=\"mileage\", y=\"price\", data=df)"
      ],
      "execution_count":13,
      "outputs":[
        {
          "data":{
            "text\/plain":[
              "<AxesSubplot:xlabel='mileage', ylabel='price'>"
            ],
            "image\/png":"[encoded data removed]"
          },
          "metadata":{
            "image\/png":{
              
            }
          },
          "output_type":"display_data"
        }
      ],
      "metadata":{
        "datalore":{
          "sheet_delimiter":false
        }
      }
    },
    {
      "cell_type":"code",
      "source":[
        "#Numbers of each year's cars\n",
        "sb.countplot(df[\"year\"])"
      ],
      "execution_count":16,
      "outputs":[
        {
          "name":"stderr",
          "text":[
            "\/opt\/python\/envs\/default\/lib\/python3.8\/site-packages\/seaborn\/_decorators.py:36: FutureWarning: Pass the following variable as a keyword arg: x. From version 0.12, the only valid positional argument will be `data`, and passing other arguments without an explicit keyword will result in an error or misinterpretation.\n",
            "  warnings.warn(\n"
          ],
          "output_type":"stream"
        },
        {
          "data":{
            "text\/plain":[
              "<AxesSubplot:xlabel='year', ylabel='count'>"
            ],
            "image\/png":"[encoded data removed]"
          },
          "metadata":{
            "image\/png":{
              
            }
          },
          "output_type":"display_data"
        }
      ],
      "metadata":{
        "datalore":{
          "sheet_delimiter":false
        }
      }
    },
    {
      "cell_type":"markdown",
      "source":[
        "## Cleaning Data"
      ],
      "attachments":{
        
      },
      "metadata":{
        "datalore":{
          "sheet_delimiter":false
        }
      }
    },
    {
      "cell_type":"code",
      "source":[
        "# We want to clean %1 of data, because high priced cars are\n",
        "# distrupting our other works. Let's start with sorting\n",
        "\n",
        "clean_df = df.sort_values('price', ascending = False).iloc[131:]\n",
        "\n",
        "# 131 means that number of %1 of all data. \n",
        "#And the high priced cars are gone now."
      ],
      "execution_count":17,
      "outputs":[
        
      ],
      "metadata":{
        "datalore":{
          "sheet_delimiter":false
        }
      }
    },
    {
      "cell_type":"code",
      "source":[
        "# Let's summarize our clean Dataframe\n",
        "clean_df.describe()"
      ],
      "execution_count":18,
      "outputs":[
        {
          "data":{
            "text\/html":[
              "<div>\n",
              "<style scoped>\n",
              "    .dataframe tbody tr th:only-of-type {\n",
              "        vertical-align: middle;\n",
              "    }\n",
              "\n",
              "    .dataframe tbody tr th {\n",
              "        vertical-align: top;\n",
              "    }\n",
              "\n",
              "    .dataframe thead th {\n",
              "        text-align: right;\n",
              "    }\n",
              "<\/style>\n",
              "<table border=\"1\" class=\"dataframe\">\n",
              "  <thead>\n",
              "    <tr style=\"text-align: right;\">\n",
              "      <th><\/th>\n",
              "      <th>year<\/th>\n",
              "      <th>price<\/th>\n",
              "      <th>mileage<\/th>\n",
              "      <th>tax<\/th>\n",
              "      <th>mpg<\/th>\n",
              "      <th>engineSize<\/th>\n",
              "    <\/tr>\n",
              "  <\/thead>\n",
              "  <tbody>\n",
              "    <tr>\n",
              "      <th>count<\/th>\n",
              "      <td>12988.000000<\/td>\n",
              "      <td>12988.000000<\/td>\n",
              "      <td>12988.000000<\/td>\n",
              "      <td>12988.000000<\/td>\n",
              "      <td>12988.000000<\/td>\n",
              "      <td>12988.000000<\/td>\n",
              "    <\/tr>\n",
              "    <tr>\n",
              "      <th>mean<\/th>\n",
              "      <td>2017.281876<\/td>\n",
              "      <td>24074.926933<\/td>\n",
              "      <td>22132.741146<\/td>\n",
              "      <td>129.689714<\/td>\n",
              "      <td>55.437142<\/td>\n",
              "      <td>2.050901<\/td>\n",
              "    <\/tr>\n",
              "    <tr>\n",
              "      <th>std<\/th>\n",
              "      <td>2.228515<\/td>\n",
              "      <td>9866.224575<\/td>\n",
              "      <td>21196.776401<\/td>\n",
              "      <td>65.183076<\/td>\n",
              "      <td>15.025999<\/td>\n",
              "      <td>0.532596<\/td>\n",
              "    <\/tr>\n",
              "    <tr>\n",
              "      <th>min<\/th>\n",
              "      <td>1970.000000<\/td>\n",
              "      <td>650.000000<\/td>\n",
              "      <td>1.000000<\/td>\n",
              "      <td>0.000000<\/td>\n",
              "      <td>1.100000<\/td>\n",
              "      <td>0.000000<\/td>\n",
              "    <\/tr>\n",
              "    <tr>\n",
              "      <th>25%<\/th>\n",
              "      <td>2016.000000<\/td>\n",
              "      <td>17357.500000<\/td>\n",
              "      <td>6322.000000<\/td>\n",
              "      <td>125.000000<\/td>\n",
              "      <td>45.600000<\/td>\n",
              "      <td>1.675000<\/td>\n",
              "    <\/tr>\n",
              "    <tr>\n",
              "      <th>50%<\/th>\n",
              "      <td>2018.000000<\/td>\n",
              "      <td>22299.000000<\/td>\n",
              "      <td>15369.500000<\/td>\n",
              "      <td>145.000000<\/td>\n",
              "      <td>56.500000<\/td>\n",
              "      <td>2.000000<\/td>\n",
              "    <\/tr>\n",
              "    <tr>\n",
              "      <th>75%<\/th>\n",
              "      <td>2019.000000<\/td>\n",
              "      <td>28706.000000<\/td>\n",
              "      <td>31982.250000<\/td>\n",
              "      <td>145.000000<\/td>\n",
              "      <td>64.200000<\/td>\n",
              "      <td>2.100000<\/td>\n",
              "    <\/tr>\n",
              "    <tr>\n",
              "      <th>max<\/th>\n",
              "      <td>2020.000000<\/td>\n",
              "      <td>65990.000000<\/td>\n",
              "      <td>259000.000000<\/td>\n",
              "      <td>580.000000<\/td>\n",
              "      <td>217.300000<\/td>\n",
              "      <td>6.200000<\/td>\n",
              "    <\/tr>\n",
              "  <\/tbody>\n",
              "<\/table>\n",
              "<\/div>"
            ]
          },
          "metadata":{
            
          },
          "output_type":"display_data"
        }
      ],
      "metadata":{
        "datalore":{
          "sheet_delimiter":false
        }
      }
    },
    {
      "cell_type":"code",
      "source":[
        "# Let's visualize our clean Dataframe\n",
        "sb.displot(clean_df['price'])"
      ],
      "execution_count":19,
      "outputs":[
        {
          "data":{
            "text\/plain":[
              "<seaborn.axisgrid.FacetGrid at 0x7f64bd192fa0>"
            ],
            "image\/png":"[encoded data removed]"
          },
          "metadata":{
            "image\/png":{
              
            }
          },
          "output_type":"display_data"
        }
      ],
      "metadata":{
        "datalore":{
          "sheet_delimiter":false
        }
      }
    },
    {
      "cell_type":"code",
      "source":[
        "# Believe me, that's better.\n",
        "# Now, let's drop the 1970 model cars\n",
        "clean_df = clean_df[clean_df.year != 1970]"
      ],
      "execution_count":21,
      "outputs":[
        
      ],
      "metadata":{
        "datalore":{
          "sheet_delimiter":false
        }
      }
    },
    {
      "cell_type":"code",
      "source":[
        "# Preparing for regression\n",
        "clean_df.head()"
      ],
      "execution_count":22,
      "outputs":[
        {
          "data":{
            "text\/html":[
              "<div>\n",
              "<style scoped>\n",
              "    .dataframe tbody tr th:only-of-type {\n",
              "        vertical-align: middle;\n",
              "    }\n",
              "\n",
              "    .dataframe tbody tr th {\n",
              "        vertical-align: top;\n",
              "    }\n",
              "\n",
              "    .dataframe thead th {\n",
              "        text-align: right;\n",
              "    }\n",
              "<\/style>\n",
              "<table border=\"1\" class=\"dataframe\">\n",
              "  <thead>\n",
              "    <tr style=\"text-align: right;\">\n",
              "      <th><\/th>\n",
              "      <th>year<\/th>\n",
              "      <th>price<\/th>\n",
              "      <th>transmission<\/th>\n",
              "      <th>mileage<\/th>\n",
              "      <th>tax<\/th>\n",
              "      <th>mpg<\/th>\n",
              "      <th>engineSize<\/th>\n",
              "    <\/tr>\n",
              "  <\/thead>\n",
              "  <tbody>\n",
              "    <tr>\n",
              "      <th>6177<\/th>\n",
              "      <td>2019<\/td>\n",
              "      <td>65990<\/td>\n",
              "      <td>Semi-Auto<\/td>\n",
              "      <td>5076<\/td>\n",
              "      <td>150<\/td>\n",
              "      <td>30.4<\/td>\n",
              "      <td>3.0<\/td>\n",
              "    <\/tr>\n",
              "    <tr>\n",
              "      <th>5779<\/th>\n",
              "      <td>2020<\/td>\n",
              "      <td>65990<\/td>\n",
              "      <td>Semi-Auto<\/td>\n",
              "      <td>999<\/td>\n",
              "      <td>145<\/td>\n",
              "      <td>28.0<\/td>\n",
              "      <td>4.0<\/td>\n",
              "    <\/tr>\n",
              "    <tr>\n",
              "      <th>3191<\/th>\n",
              "      <td>2020<\/td>\n",
              "      <td>65980<\/td>\n",
              "      <td>Semi-Auto<\/td>\n",
              "      <td>3999<\/td>\n",
              "      <td>145<\/td>\n",
              "      <td>28.0<\/td>\n",
              "      <td>4.0<\/td>\n",
              "    <\/tr>\n",
              "    <tr>\n",
              "      <th>4727<\/th>\n",
              "      <td>2019<\/td>\n",
              "      <td>65000<\/td>\n",
              "      <td>Semi-Auto<\/td>\n",
              "      <td>3398<\/td>\n",
              "      <td>145<\/td>\n",
              "      <td>27.2<\/td>\n",
              "      <td>4.0<\/td>\n",
              "    <\/tr>\n",
              "    <tr>\n",
              "      <th>8814<\/th>\n",
              "      <td>2019<\/td>\n",
              "      <td>64999<\/td>\n",
              "      <td>Semi-Auto<\/td>\n",
              "      <td>119<\/td>\n",
              "      <td>145<\/td>\n",
              "      <td>40.9<\/td>\n",
              "      <td>3.0<\/td>\n",
              "    <\/tr>\n",
              "  <\/tbody>\n",
              "<\/table>\n",
              "<\/div>"
            ]
          },
          "metadata":{
            
          },
          "output_type":"display_data"
        }
      ],
      "metadata":{
        "datalore":{
          "sheet_delimiter":false
        }
      }
    },
    {
      "cell_type":"code",
      "source":[
        "# As you can see, there is a column called transmission.\n",
        "# We can't make regression with this column.\n",
        "# Let's drop transmission column.\n",
        "clean_df = clean_df.drop(\"transmission\", axis=1)"
      ],
      "execution_count":23,
      "outputs":[
        
      ],
      "metadata":{
        "datalore":{
          "sheet_delimiter":false
        }
      }
    },
    {
      "cell_type":"markdown",
      "source":[
        "## Regression"
      ],
      "attachments":{
        
      },
      "metadata":{
        "datalore":{
          "sheet_delimiter":false
        }
      }
    },
    {
      "cell_type":"code",
      "source":[
        "# Our data is ready. We can do regression now. \n",
        "# Prepare x and y arrays\n",
        "\n",
        "y = clean_df['price'].values\n",
        "x = clean_df.drop('price', axis=1).values"
      ],
      "execution_count":24,
      "outputs":[
        
      ],
      "metadata":{
        "datalore":{
          "sheet_delimiter":false
        }
      }
    },
    {
      "cell_type":"code",
      "source":[
        "# Import necessary libraries\n",
        "from sklearn.model_selection import train_test_split\n",
        "from sklearn.preprocessing import MinMaxScaler"
      ],
      "execution_count":25,
      "outputs":[
        
      ],
      "metadata":{
        "datalore":{
          "sheet_delimiter":false
        }
      }
    },
    {
      "cell_type":"code",
      "source":[
        "# Preparing our test and train arrays\n",
        "x_train, x_test, y_train, y_test = train_test_split(x,y,test_size=0.3,random_state=10)"
      ],
      "execution_count":26,
      "outputs":[
        
      ],
      "metadata":{
        "datalore":{
          "sheet_delimiter":false
        }
      }
    },
    {
      "cell_type":"code",
      "source":[
        "sc = MinMaxScaler()\n",
        "x_train = sc.fit_transform(x_train)\n",
        "x_test = sc.transform(x_test)"
      ],
      "execution_count":27,
      "outputs":[
        
      ],
      "metadata":{
        "datalore":{
          "sheet_delimiter":false
        }
      }
    },
    {
      "cell_type":"code",
      "source":[
        "# Import libraries\n",
        "from tensorflow.keras.models import Sequential\n",
        "from tensorflow.keras.layers import Dense\n",
        "\n",
        "# Adding and preparing our neuron enviroment\n",
        "model = Sequential()\n",
        "\n",
        "# Neuron layers\n",
        "model.add(Dense(12, activation='relu'))\n",
        "model.add(Dense(12, activation='relu'))\n",
        "model.add(Dense(12, activation='relu'))\n",
        "model.add(Dense(12, activation='relu'))\n",
        "\n",
        "# Output layer\n",
        "model.add(Dense(1))\n",
        "\n",
        "model.compile(optimizer='adam', loss='mse')"
      ],
      "execution_count":28,
      "outputs":[
        
      ],
      "metadata":{
        "datalore":{
          "sheet_delimiter":false
        }
      }
    },
    {
      "cell_type":"code",
      "source":[
        "# Makes the regression\n",
        "model.fit(x = x_train, y = y_train, \n",
        "          validation_data = (x_test, y_test),\n",
        "          batch_size = 250, epochs = 300)"
      ],
      "execution_count":29,
      "outputs":[
        {
          "name":"stdout",
          "text":[
            "Epoch 1\/300\n",
            "\r 1\/37 [..............................] - ETA: 20s - loss: 733387008.0000\b\b\b\b\b\b\b\b\b\b\b\b\b\b\b\b\b\b\b\b\b\b\b\b\b\b\b\b\b\b\b\b\b\b\b\b\b\b\b\b\b\b\b\b\b\b\b\b\b\b\b\b\b\b\b\b\b\b\b\b\b\b\b\b\b\b\b\b\b\b\b\b\r35\/37 [===========================>..] - ETA: 0s - loss: 672693952.0000 \b\b\b\b\b\b\b\b\b\b\b\b\b\b\b\b\b\b\b\b\b\b\b\b\b\b\b\b\b\b\b\b\b\b\b\b\b\b\b\b\b\b\b\b\b\b\b\b\b\b\b\b\b\b\b\b\b\b\b\b\b\b\b\b\b\b\b\b\b\b\b\r37\/37 [==============================] - 1s 7ms\/step - loss: 672140992.0000 - val_loss: 688092352.0000\n",
            "Epoch 2\/300\n",
            "\r 1\/37 [..............................] - ETA: 0s - loss: 661809408.0000\b\b\b\b\b\b\b\b\b\b\b\b\b\b\b\b\b\b\b\b\b\b\b\b\b\b\b\b\b\b\b\b\b\b\b\b\b\b\b\b\b\b\b\b\b\b\b\b\b\b\b\b\b\b\b\b\b\b\b\b\b\b\b\b\b\b\b\b\b\b\b\r37\/37 [==============================] - 0s 2ms\/step - loss: 672100224.0000 - val_loss: 688019520.0000\n",
            "Epoch 3\/300\n",
            "\r 1\/37 [..............................] - ETA: 0s - loss: 708476672.0000\b\b\b\b\b\b\b\b\b\b\b\b\b\b\b\b\b\b\b\b\b\b\b\b\b\b\b\b\b\b\b\b\b\b\b\b\b\b\b\b\b\b\b\b\b\b\b\b\b\b\b\b\b\b\b\b\b\b\b\b\b\b\b\b\b\b\b\b\b\b\b\r37\/37 [==============================] - 0s 2ms\/step - loss: 671951232.0000 - val_loss: 687733056.0000\n",
            "Epoch 4\/300\n",
            "\r 1\/37 [..............................] - ETA: 0s - loss: 636548672.0000\b\b\b\b\b\b\b\b\b\b\b\b\b\b\b\b\b\b\b\b\b\b\b\b\b\b\b\b\b\b\b\b\b\b\b\b\b\b\b\b\b\b\b\b\b\b\b\b\b\b\b\b\b\b\b\b\b\b\b\b\b\b\b\b\b\b\b\b\b\b\b\r37\/37 [==============================] - 0s 3ms\/step - loss: 671393216.0000 - val_loss: 686730176.0000\n",
            "Epoch 5\/300\n",
            "\r 1\/37 [..............................] - ETA: 0s - loss: 705713600.0000\b\b\b\b\b\b\b\b\b\b\b\b\b\b\b\b\b\b\b\b\b\b\b\b\b\b\b\b\b\b\b\b\b\b\b\b\b\b\b\b\b\b\b\b\b\b\b\b\b\b\b\b\b\b\b\b\b\b\b\b\b\b\b\b\b\b\b\b\b\b\b\r37\/37 [==============================] - 0s 2ms\/step - loss: 669665024.0000 - val_loss: 683856128.0000\n",
            "Epoch 6\/300\n",
            "\r 1\/37 [..............................] - ETA: 0s - loss: 687803136.0000\b\b\b\b\b\b\b\b\b\b\b\b\b\b\b\b\b\b\b\b\b\b\b\b\b\b\b\b\b\b\b\b\b\b\b\b\b\b\b\b\b\b\b\b\b\b\b\b\b\b\b\b\b\b\b\b\b\b\b\b\b\b\b\b\b\b\b\b\b\b\b\r36\/37 [============================>.] - ETA: 0s - loss: 664460416.0000\b\b\b\b\b\b\b\b\b\b\b\b\b\b\b\b\b\b\b\b\b\b\b\b\b\b\b\b\b\b\b\b\b\b\b\b\b\b\b\b\b\b\b\b\b\b\b\b\b\b\b\b\b\b\b\b\b\b\b\b\b\b\b\b\b\b\b\b\b\b\b\r37\/37 [==============================] - 0s 2ms\/step - loss: 665012608.0000 - val_loss: 676568704.0000\n",
            "Epoch 7\/300\n",
            "\r 1\/37 [..............................] - ETA: 0s - loss: 670788416.0000\b\b\b\b\b\b\b\b\b\b\b\b\b\b\b\b\b\b\b\b\b\b\b\b\b\b\b\b\b\b\b\b\b\b\b\b\b\b\b\b\b\b\b\b\b\b\b\b\b\b\b\b\b\b\b\b\b\b\b\b\b\b\b\b\b\b\b\b\b\b\b\r37\/37 [==============================] - ETA: 0s - loss: 654310144.0000\b\b\b\b\b\b\b\b\b\b\b\b\b\b\b\b\b\b\b\b\b\b\b\b\b\b\b\b\b\b\b\b\b\b\b\b\b\b\b\b\b\b\b\b\b\b\b\b\b\b\b\b\b\b\b\b\b\b\b\b\b\b\b\b\b\b\b\b\b\b\b\r37\/37 [==============================] - 0s 3ms\/step - loss: 654310144.0000 - val_loss: 661020992.0000\n",
            "Epoch 8\/300\n",
            "\r 1\/37 [..............................] - ETA: 0s - loss: 619069376.0000\b\b\b\b\b\b\b\b\b\b\b\b\b\b\b\b\b\b\b\b\b\b\b\b\b\b\b\b\b\b\b\b\b\b\b\b\b\b\b\b\b\b\b\b\b\b\b\b\b\b\b\b\b\b\b\b\b\b\b\b\b\b\b\b\b\b\b\b\b\b\b\r37\/37 [==============================] - ETA: 0s - loss: 632952448.0000\b\b\b\b\b\b\b\b\b\b\b\b\b\b\b\b\b\b\b\b\b\b\b\b\b\b\b\b\b\b\b\b\b\b\b\b\b\b\b\b\b\b\b\b\b\b\b\b\b\b\b\b\b\b\b\b\b\b\b\b\b\b\b\b\b\b\b\b\b\b\b\r37\/37 [==============================] - 0s 2ms\/step - loss: 632952448.0000 - val_loss: 631483584.0000\n",
            "Epoch 9\/300\n",
            "\r 1\/37 [..............................] - ETA: 0s - loss: 606125248.0000\b\b\b\b\b\b\b\b\b\b\b\b\b\b\b\b\b\b\b\b\b\b\b\b\b\b\b\b\b\b\b\b\b\b\b\b\b\b\b\b\b\b\b\b\b\b\b\b\b\b\b\b\b\b\b\b\b\b\b\b\b\b\b\b\b\b\b\b\b\b\b\r36\/37 [============================>.] - ETA: 0s - loss: 596104000.0000\b\b\b\b\b\b\b\b\b\b\b\b\b\b\b\b\b\b\b\b\b\b\b\b\b\b\b\b\b\b\b\b\b\b\b\b\b\b\b\b\b\b\b\b\b\b\b\b\b\b\b\b\b\b\b\b\b\b\b\b\b\b\b\b\b\b\b\b\b\b\b\r37\/37 [==============================] - 0s 3ms\/step - loss: 594628672.0000 - val_loss: 581294592.0000\n",
            "Epoch 10\/300\n",
            "\r 1\/37 [..............................] - ETA: 0s - loss: 551536192.0000\b\b\b\b\b\b\b\b\b\b\b\b\b\b\b\b\b\b\b\b\b\b\b\b\b\b\b\b\b\b\b\b\b\b\b\b\b\b\b\b\b\b\b\b\b\b\b\b\b\b\b\b\b\b\b\b\b\b\b\b\b\b\b\b\b\b\b\b\b\b\b\r36\/37 [============================>.] - ETA: 0s - loss: 533043264.0000\b\b\b\b\b\b\b\b\b\b\b\b\b\b\b\b\b\b\b\b\b\b\b\b\b\b\b\b\b\b\b\b\b\b\b\b\b\b\b\b\b\b\b\b\b\b\b\b\b\b\b\b\b\b\b\b\b\b\b\b\b\b\b\b\b\b\b\b\b\b\b\r37\/37 [==============================] - 0s 3ms\/step - loss: 533413440.0000 - val_loss: 505548416.0000\n",
            "Epoch 11\/300\n",
            "\r 1\/37 [..............................] - ETA: 0s - loss: 491987520.0000\b\b\b\b\b\b\b\b\b\b\b\b\b\b\b\b\b\b\b\b\b\b\b\b\b\b\b\b\b\b\b\b\b\b\b\b\b\b\b\b\b\b\b\b\b\b\b\b\b\b\b\b\b\b\b\b\b\b\b\b\b\b\b\b\b\b\b\b\b\b\b\r37\/37 [==============================] - 0s 2ms\/step - loss: 446656160.0000 - val_loss: 405058816.0000\n",
            "Epoch 12\/300\n",
            "\r 1\/37 [..............................] - ETA: 0s - loss: 392925248.0000\b\b\b\b\b\b\b\b\b\b\b\b\b\b\b\b\b\b\b\b\b\b\b\b\b\b\b\b\b\b\b\b\b\b\b\b\b\b\b\b\b\b\b\b\b\b\b\b\b\b\b\b\b\b\b\b\b\b\b\b\b\b\b\b\b\b\b\b\b\b\b\r37\/37 [==============================] - 0s 2ms\/step - loss: 340558496.0000 - val_loss: 292068160.0000\n",
            "Epoch 13\/300\n",
            "\r 1\/37 [..............................] - ETA: 0s - loss: 288531456.0000\b\b\b\b\b\b\b\b\b\b\b\b\b\b\b\b\b\b\b\b\b\b\b\b\b\b\b\b\b\b\b\b\b\b\b\b\b\b\b\b\b\b\b\b\b\b\b\b\b\b\b\b\b\b\b\b\b\b\b\b\b\b\b\b\b\b\b\b\b\b\b\r37\/37 [==============================] - 0s 2ms\/step - loss: 232800368.0000 - val_loss: 190096752.0000\n",
            "Epoch 14\/300\n",
            "\r 1\/37 [..............................] - ETA: 0s - loss: 185644880.0000\b\b\b\b\b\b\b\b\b\b\b\b\b\b\b\b\b\b\b\b\b\b\b\b\b\b\b\b\b\b\b\b\b\b\b\b\b\b\b\b\b\b\b\b\b\b\b\b\b\b\b\b\b\b\b\b\b\b\b\b\b\b\b\b\b\b\b\b\b\b\b\r37\/37 [==============================] - 0s 2ms\/step - loss: 148884656.0000 - val_loss: 124102800.0000\n",
            "Epoch 15\/300\n",
            "\r 1\/37 [..............................] - ETA: 0s - loss: 112258952.0000\b\b\b\b\b\b\b\b\b\b\b\b\b\b\b\b\b\b\b\b\b\b\b\b\b\b\b\b\b\b\b\b\b\b\b\b\b\b\b\b\b\b\b\b\b\b\b\b\b\b\b\b\b\b\b\b\b\b\b\b\b\b\b\b\b\b\b\b\b\b\b\r37\/37 [==============================] - 0s 2ms\/step - loss: 104747376.0000 - val_loss: 96960056.0000\n",
            "Epoch 16\/300\n",
            "\r 1\/37 [..............................] - ETA: 0s - loss: 96364992.0000\b\b\b\b\b\b\b\b\b\b\b\b\b\b\b\b\b\b\b\b\b\b\b\b\b\b\b\b\b\b\b\b\b\b\b\b\b\b\b\b\b\b\b\b\b\b\b\b\b\b\b\b\b\b\b\b\b\b\b\b\b\b\b\b\b\b\b\b\b\b\r37\/37 [==============================] - ETA: 0s - loss: 90496008.0000\b\b\b\b\b\b\b\b\b\b\b\b\b\b\b\b\b\b\b\b\b\b\b\b\b\b\b\b\b\b\b\b\b\b\b\b\b\b\b\b\b\b\b\b\b\b\b\b\b\b\b\b\b\b\b\b\b\b\b\b\b\b\b\b\b\b\b\b\b\b\r37\/37 [==============================] - 0s 2ms\/step - loss: 90496008.0000 - val_loss: 90395000.0000\n",
            "Epoch 17\/300\n",
            "\r 1\/37 [..............................] - ETA: 0s - loss: 85867496.0000\b\b\b\b\b\b\b\b\b\b\b\b\b\b\b\b\b\b\b\b\b\b\b\b\b\b\b\b\b\b\b\b\b\b\b\b\b\b\b\b\b\b\b\b\b\b\b\b\b\b\b\b\b\b\b\b\b\b\b\b\b\b\b\b\b\b\b\b\b\b\r37\/37 [==============================] - ETA: 0s - loss: 87463632.0000\b\b\b\b\b\b\b\b\b\b\b\b\b\b\b\b\b\b\b\b\b\b\b\b\b\b\b\b\b\b\b\b\b\b\b\b\b\b\b\b\b\b\b\b\b\b\b\b\b\b\b\b\b\b\b\b\b\b\b\b\b\b\b\b\b\b\b\b\b\b\r37\/37 [==============================] - 0s 3ms\/step - loss: 87463632.0000 - val_loss: 88771664.0000\n",
            "Epoch 18\/300\n",
            "\r 1\/37 [..............................] - ETA: 0s - loss: 86843272.0000\b\b\b\b\b\b\b\b\b\b\b\b\b\b\b\b\b\b\b\b\b\b\b\b\b\b\b\b\b\b\b\b\b\b\b\b\b\b\b\b\b\b\b\b\b\b\b\b\b\b\b\b\b\b\b\b\b\b\b\b\b\b\b\b\b\b\b\b\b\b\r37\/37 [==============================] - 0s 2ms\/step - loss: 86519672.0000 - val_loss: 87966216.0000\n",
            "Epoch 19\/300\n",
            "\r 1\/37 [..............................] - ETA: 0s - loss: 96692224.0000\b\b\b\b\b\b\b\b\b\b\b\b\b\b\b\b\b\b\b\b\b\b\b\b\b\b\b\b\b\b\b\b\b\b\b\b\b\b\b\b\b\b\b\b\b\b\b\b\b\b\b\b\b\b\b\b\b\b\b\b\b\b\b\b\b\b\b\b\b\b\r37\/37 [==============================] - 0s 2ms\/step - loss: 85845968.0000 - val_loss: 87251656.0000\n",
            "Epoch 20\/300\n",
            "\r 1\/37 [..............................] - ETA: 0s - loss: 96107824.0000\b\b\b\b\b\b\b\b\b\b\b\b\b\b\b\b\b\b\b\b\b\b\b\b\b\b\b\b\b\b\b\b\b\b\b\b\b\b\b\b\b\b\b\b\b\b\b\b\b\b\b\b\b\b\b\b\b\b\b\b\b\b\b\b\b\b\b\b\b\b\r37\/37 [==============================] - ETA: 0s - loss: 85210024.0000\b\b\b\b\b\b\b\b\b\b\b\b\b\b\b\b\b\b\b\b\b\b\b\b\b\b\b\b\b\b\b\b\b\b\b\b\b\b\b\b\b\b\b\b\b\b\b\b\b\b\b\b\b\b\b\b\b\b\b\b\b\b\b\b\b\b\b\b\b\b\r37\/37 [==============================] - 0s 2ms\/step - loss: 85210024.0000 - val_loss: 86629928.0000\n",
            "Epoch 21\/300\n",
            "\r 1\/37 [..............................] - ETA: 0s - loss: 85771104.0000\b\b\b\b\b\b\b\b\b\b\b\b\b\b\b\b\b\b\b\b\b\b\b\b\b\b\b\b\b\b\b\b\b\b\b\b\b\b\b\b\b\b\b\b\b\b\b\b\b\b\b\b\b\b\b\b\b\b\b\b\b\b\b\b\b\b\b\b\b\b\r37\/37 [==============================] - 0s 2ms\/step - loss: 84601872.0000 - val_loss: 86067512.0000\n",
            "Epoch 22\/300\n",
            "\r 1\/37 [..............................] - ETA: 0s - loss: 84359504.0000\b\b\b\b\b\b\b\b\b\b\b\b\b\b\b\b\b\b\b\b\b\b\b\b\b\b\b\b\b\b\b\b\b\b\b\b\b\b\b\b\b\b\b\b\b\b\b\b\b\b\b\b\b\b\b\b\b\b\b\b\b\b\b\b\b\b\b\b\b\b\r37\/37 [==============================] - 0s 2ms\/step - loss: 84020616.0000 - val_loss: 85497536.0000\n",
            "Epoch 23\/300\n",
            "\r 1\/37 [..............................] - ETA: 0s - loss: 92085088.0000\b\b\b\b\b\b\b\b\b\b\b\b\b\b\b\b\b\b\b\b\b\b\b\b\b\b\b\b\b\b\b\b\b\b\b\b\b\b\b\b\b\b\b\b\b\b\b\b\b\b\b\b\b\b\b\b\b\b\b\b\b\b\b\b\b\b\b\b\b\b\r37\/37 [==============================] - 0s 2ms\/step - loss: 83453640.0000 - val_loss: 84930416.0000\n",
            "Epoch 24\/300\n",
            "\r 1\/37 [..............................] - ETA: 0s - loss: 80676440.0000\b\b\b\b\b\b\b\b\b\b\b\b\b\b\b\b\b\b\b\b\b\b\b\b\b\b\b\b\b\b\b\b\b\b\b\b\b\b\b\b\b\b\b\b\b\b\b\b\b\b\b\b\b\b\b\b\b\b\b\b\b\b\b\b\b\b\b\b\b\b\r37\/37 [==============================] - 0s 2ms\/step - loss: 82896192.0000 - val_loss: 84377912.0000\n",
            "Epoch 25\/300\n",
            "\r 1\/37 [..............................] - ETA: 0s - loss: 59983180.0000\b\b\b\b\b\b\b\b\b\b\b\b\b\b\b\b\b\b\b\b\b\b\b\b\b\b\b\b\b\b\b\b\b\b\b\b\b\b\b\b\b\b\b\b\b\b\b\b\b\b\b\b\b\b\b\b\b\b\b\b\b\b\b\b\b\b\b\b\b\b\r37\/37 [==============================] - ETA: 0s - loss: 82360104.0000\b\b\b\b\b\b\b\b\b\b\b\b\b\b\b\b\b\b\b\b\b\b\b\b\b\b\b\b\b\b\b\b\b\b\b\b\b\b\b\b\b\b\b\b\b\b\b\b\b\b\b\b\b\b\b\b\b\b\b\b\b\b\b\b\b\b\b\b\b\b\r37\/37 [==============================] - 0s 2ms\/step - loss: 82360104.0000 - val_loss: 83814768.0000\n",
            "Epoch 26\/300\n",
            "\r 1\/37 [..............................] - ETA: 0s - loss: 85443448.0000\b\b\b\b\b\b\b\b\b\b\b\b\b\b\b\b\b\b\b\b\b\b\b\b\b\b\b\b\b\b\b\b\b\b\b\b\b\b\b\b\b\b\b\b\b\b\b\b\b\b\b\b\b\b\b\b\b\b\b\b\b\b\b\b\b\b\b\b\b\b\r37\/37 [==============================] - 0s 2ms\/step - loss: 81813728.0000 - val_loss: 83305920.0000\n",
            "Epoch 27\/300\n",
            "\r 1\/37 [..............................] - ETA: 0s - loss: 119516024.0000\b\b\b\b\b\b\b\b\b\b\b\b\b\b\b\b\b\b\b\b\b\b\b\b\b\b\b\b\b\b\b\b\b\b\b\b\b\b\b\b\b\b\b\b\b\b\b\b\b\b\b\b\b\b\b\b\b\b\b\b\b\b\b\b\b\b\b\b\b\b\b\r37\/37 [==============================] - ETA: 0s - loss: 81281096.0000 \b\b\b\b\b\b\b\b\b\b\b\b\b\b\b\b\b\b\b\b\b\b\b\b\b\b\b\b\b\b\b\b\b\b\b\b\b\b\b\b\b\b\b\b\b\b\b\b\b\b\b\b\b\b\b\b\b\b\b\b\b\b\b\b\b\b\b\b\b\b\r37\/37 [==============================] - 0s 3ms\/step - loss: 81281096.0000 - val_loss: 82791920.0000\n",
            "Epoch 28\/300\n",
            "\r 1\/37 [..............................] - ETA: 0s - loss: 83798544.0000\b\b\b\b\b\b\b\b\b\b\b\b\b\b\b\b\b\b\b\b\b\b\b\b\b\b\b\b\b\b\b\b\b\b\b\b\b\b\b\b\b\b\b\b\b\b\b\b\b\b\b\b\b\b\b\b\b\b\b\b\b\b\b\b\b\b\b\b\b\b\r37\/37 [==============================] - ETA: 0s - loss: 80761832.0000\b\b\b\b\b\b\b\b\b\b\b\b\b\b\b\b\b\b\b\b\b\b\b\b\b\b\b\b\b\b\b\b\b\b\b\b\b\b\b\b\b\b\b\b\b\b\b\b\b\b\b\b\b\b\b\b\b\b\b\b\b\b\b\b\b\b\b\b\b\b\r37\/37 [==============================] - 0s 3ms\/step - loss: 80761832.0000 - val_loss: 82275176.0000\n",
            "Epoch 29\/300\n",
            "\r 1\/37 [..............................] - ETA: 0s - loss: 63696004.0000\b\b\b\b\b\b\b\b\b\b\b\b\b\b\b\b\b\b\b\b\b\b\b\b\b\b\b\b\b\b\b\b\b\b\b\b\b\b\b\b\b\b\b\b\b\b\b\b\b\b\b\b\b\b\b\b\b\b\b\b\b\b\b\b\b\b\b\b\b\b\r37\/37 [==============================] - 0s 2ms\/step - loss: 80239800.0000 - val_loss: 81714160.0000\n",
            "Epoch 30\/300\n",
            "\r 1\/37 [..............................] - ETA: 0s - loss: 88886928.0000\b\b\b\b\b\b\b\b\b\b\b\b\b\b\b\b\b\b\b\b\b\b\b\b\b\b\b\b\b\b\b\b\b\b\b\b\b\b\b\b\b\b\b\b\b\b\b\b\b\b\b\b\b\b\b\b\b\b\b\b\b\b\b\b\b\b\b\b\b\b\r37\/37 [==============================] - ETA: 0s - loss: 79720160.0000\b\b\b\b\b\b\b\b\b\b\b\b\b\b\b\b\b\b\b\b\b\b\b\b\b\b\b\b\b\b\b\b\b\b\b\b\b\b\b\b\b\b\b\b\b\b\b\b\b\b\b\b\b\b\b\b\b\b\b\b\b\b\b\b\b\b\b\b\b\b\r37\/37 [==============================] - 0s 3ms\/step - loss: 79720160.0000 - val_loss: 81222976.0000\n",
            "Epoch 31\/300\n",
            "\r 1\/37 [..............................] - ETA: 0s - loss: 97165088.0000\b\b\b\b\b\b\b\b\b\b\b\b\b\b\b\b\b\b\b\b\b\b\b\b\b\b\b\b\b\b\b\b\b\b\b\b\b\b\b\b\b\b\b\b\b\b\b\b\b\b\b\b\b\b\b\b\b\b\b\b\b\b\b\b\b\b\b\b\b\b\r36\/37 [============================>.] - ETA: 0s - loss: 79327368.0000\b\b\b\b\b\b\b\b\b\b\b\b\b\b\b\b\b\b\b\b\b\b\b\b\b\b\b\b\b\b\b\b\b\b\b\b\b\b\b\b\b\b\b\b\b\b\b\b\b\b\b\b\b\b\b\b\b\b\b\b\b\b\b\b\b\b\b\b\b\b\r37\/37 [==============================] - 0s 3ms\/step - loss: 79199544.0000 - val_loss: 80694032.0000\n",
            "Epoch 32\/300\n",
            "\r 1\/37 [..............................] - ETA: 0s - loss: 71040832.0000\b\b\b\b\b\b\b\b\b\b\b\b\b\b\b\b\b\b\b\b\b\b\b\b\b\b\b\b\b\b\b\b\b\b\b\b\b\b\b\b\b\b\b\b\b\b\b\b\b\b\b\b\b\b\b\b\b\b\b\b\b\b\b\b\b\b\b\b\b\b\r36\/37 [============================>.] - ETA: 0s - loss: 78951760.0000\b\b\b\b\b\b\b\b\b\b\b\b\b\b\b\b\b\b\b\b\b\b\b\b\b\b\b\b\b\b\b\b\b\b\b\b\b\b\b\b\b\b\b\b\b\b\b\b\b\b\b\b\b\b\b\b\b\b\b\b\b\b\b\b\b\b\b\b\b\b\r37\/37 [==============================] - 0s 3ms\/step - loss: 78684544.0000 - val_loss: 80197720.0000\n",
            "Epoch 33\/300\n",
            "\r 1\/37 [..............................] - ETA: 0s - loss: 75482480.0000\b\b\b\b\b\b\b\b\b\b\b\b\b\b\b\b\b\b\b\b\b\b\b\b\b\b\b\b\b\b\b\b\b\b\b\b\b\b\b\b\b\b\b\b\b\b\b\b\b\b\b\b\b\b\b\b\b\b\b\b\b\b\b\b\b\b\b\b\b\b\r36\/37 [============================>.] - ETA: 0s - loss: 78319984.0000\b\b\b\b\b\b\b\b\b\b\b\b\b\b\b\b\b\b\b\b\b\b\b\b\b\b\b\b\b\b\b\b\b\b\b\b\b\b\b\b\b\b\b\b\b\b\b\b\b\b\b\b\b\b\b\b\b\b\b\b\b\b\b\b\b\b\b\b\b\b\r37\/37 [==============================] - 0s 3ms\/step - loss: 78185568.0000 - val_loss: 79694440.0000\n",
            "Epoch 34\/300\n",
            "\r 1\/37 [..............................] - ETA: 0s - loss: 80620040.0000\b\b\b\b\b\b\b\b\b\b\b\b\b\b\b\b\b\b\b\b\b\b\b\b\b\b\b\b\b\b\b\b\b\b\b\b\b\b\b\b\b\b\b\b\b\b\b\b\b\b\b\b\b\b\b\b\b\b\b\b\b\b\b\b\b\b\b\b\b\b\r34\/37 [==========================>...] - ETA: 0s - loss: 78559256.0000\b\b\b\b\b\b\b\b\b\b\b\b\b\b\b\b\b\b\b\b\b\b\b\b\b\b\b\b\b\b\b\b\b\b\b\b\b\b\b\b\b\b\b\b\b\b\b\b\b\b\b\b\b\b\b\b\b\b\b\b\b\b\b\b\b\b\b\b\b\b\r37\/37 [==============================] - 0s 3ms\/step - loss: 77672824.0000 - val_loss: 79185096.0000\n",
            "Epoch 35\/300\n",
            "\r 1\/37 [..............................] - ETA: 0s - loss: 64080528.0000\b\b\b\b\b\b\b\b\b\b\b\b\b\b\b\b\b\b\b\b\b\b\b\b\b\b\b\b\b\b\b\b\b\b\b\b\b\b\b\b\b\b\b\b\b\b\b\b\b\b\b\b\b\b\b\b\b\b\b\b\b\b\b\b\b\b\b\b\b\b\r27\/37 [====================>.........] - ETA: 0s - loss: 77609496.0000\b\b\b\b\b\b\b\b\b\b\b\b\b\b\b\b\b\b\b\b\b\b\b\b\b\b\b\b\b\b\b\b\b\b\b\b\b\b\b\b\b\b\b\b\b\b\b\b\b\b\b\b\b\b\b\b\b\b\b\b\b\b\b\b\b\b\b\b\b\b\r37\/37 [==============================] - 0s 3ms\/step - loss: 77171072.0000 - val_loss: 78702864.0000\n",
            "Epoch 36\/300\n",
            "\r 1\/37 [..............................] - ETA: 0s - loss: 86932968.0000\b\b\b\b\b\b\b\b\b\b\b\b\b\b\b\b\b\b\b\b\b\b\b\b\b\b\b\b\b\b\b\b\b\b\b\b\b\b\b\b\b\b\b\b\b\b\b\b\b\b\b\b\b\b\b\b\b\b\b\b\b\b\b\b\b\b\b\b\b\b\r32\/37 [========================>.....] - ETA: 0s - loss: 77335704.0000\b\b\b\b\b\b\b\b\b\b\b\b\b\b\b\b\b\b\b\b\b\b\b\b\b\b\b\b\b\b\b\b\b\b\b\b\b\b\b\b\b\b\b\b\b\b\b\b\b\b\b\b\b\b\b\b\b\b\b\b\b\b\b\b\b\b\b\b\b\b\r37\/37 [==============================] - 0s 3ms\/step - loss: 76646928.0000 - val_loss: 78178136.0000\n",
            "Epoch 37\/300\n",
            "\r 1\/37 [..............................] - ETA: 0s - loss: 67121296.0000\b\b\b\b\b\b\b\b\b\b\b\b\b\b\b\b\b\b\b\b\b\b\b\b\b\b\b\b\b\b\b\b\b\b\b\b\b\b\b\b\b\b\b\b\b\b\b\b\b\b\b\b\b\b\b\b\b\b\b\b\b\b\b\b\b\b\b\b\b\b\r36\/37 [============================>.] - ETA: 0s - loss: 76435696.0000\b\b\b\b\b\b\b\b\b\b\b\b\b\b\b\b\b\b\b\b\b\b\b\b\b\b\b\b\b\b\b\b\b\b\b\b\b\b\b\b\b\b\b\b\b\b\b\b\b\b\b\b\b\b\b\b\b\b\b\b\b\b\b\b\b\b\b\b\b\b\r37\/37 [==============================] - 0s 3ms\/step - loss: 76136856.0000 - val_loss: 77674424.0000\n",
            "Epoch 38\/300\n",
            "\r 1\/37 [..............................] - ETA: 0s - loss: 81644248.0000\b\b\b\b\b\b\b\b\b\b\b\b\b\b\b\b\b\b\b\b\b\b\b\b\b\b\b\b\b\b\b\b\b\b\b\b\b\b\b\b\b\b\b\b\b\b\b\b\b\b\b\b\b\b\b\b\b\b\b\b\b\b\b\b\b\b\b\b\b\b\r35\/37 [===========================>..] - ETA: 0s - loss: 75668520.0000\b\b\b\b\b\b\b\b\b\b\b\b\b\b\b\b\b\b\b\b\b\b\b\b\b\b\b\b\b\b\b\b\b\b\b\b\b\b\b\b\b\b\b\b\b\b\b\b\b\b\b\b\b\b\b\b\b\b\b\b\b\b\b\b\b\b\b\b\b\b\r37\/37 [==============================] - 0s 3ms\/step - loss: 75625568.0000 - val_loss: 77167176.0000\n",
            "Epoch 39\/300\n",
            "\r 1\/37 [..............................] - ETA: 0s - loss: 81778072.0000\b\b\b\b\b\b\b\b\b\b\b\b\b\b\b\b\b\b\b\b\b\b\b\b\b\b\b\b\b\b\b\b\b\b\b\b\b\b\b\b\b\b\b\b\b\b\b\b\b\b\b\b\b\b\b\b\b\b\b\b\b\b\b\b\b\b\b\b\b\b\r37\/37 [==============================] - ETA: 0s - loss: 75125864.0000\b\b\b\b\b\b\b\b\b\b\b\b\b\b\b\b\b\b\b\b\b\b\b\b\b\b\b\b\b\b\b\b\b\b\b\b\b\b\b\b\b\b\b\b\b\b\b\b\b\b\b\b\b\b\b\b\b\b\b\b\b\b\b\b\b\b\b\b\b\b\r37\/37 [==============================] - 0s 3ms\/step - loss: 75125864.0000 - val_loss: 76651752.0000\n",
            "Epoch 40\/300\n",
            "\r 1\/37 [..............................] - ETA: 0s - loss: 70105312.0000\b\b\b\b\b\b\b\b\b\b\b\b\b\b\b\b\b\b\b\b\b\b\b\b\b\b\b\b\b\b\b\b\b\b\b\b\b\b\b\b\b\b\b\b\b\b\b\b\b\b\b\b\b\b\b\b\b\b\b\b\b\b\b\b\b\b\b\b\b\b\r36\/37 [============================>.] - ETA: 0s - loss: 74604344.0000\b\b\b\b\b\b\b\b\b\b\b\b\b\b\b\b\b\b\b\b\b\b\b\b\b\b\b\b\b\b\b\b\b\b\b\b\b\b\b\b\b\b\b\b\b\b\b\b\b\b\b\b\b\b\b\b\b\b\b\b\b\b\b\b\b\b\b\b\b\b\r37\/37 [==============================] - 0s 3ms\/step - loss: 74608088.0000 - val_loss: 76157128.0000\n",
            "Epoch 41\/300\n",
            "\r 1\/37 [..............................] - ETA: 0s - loss: 66469324.0000\b\b\b\b\b\b\b\b\b\b\b\b\b\b\b\b\b\b\b\b\b\b\b\b\b\b\b\b\b\b\b\b\b\b\b\b\b\b\b\b\b\b\b\b\b\b\b\b\b\b\b\b\b\b\b\b\b\b\b\b\b\b\b\b\b\b\b\b\b\b\r36\/37 [============================>.] - ETA: 0s - loss: 74047288.0000\b\b\b\b\b\b\b\b\b\b\b\b\b\b\b\b\b\b\b\b\b\b\b\b\b\b\b\b\b\b\b\b\b\b\b\b\b\b\b\b\b\b\b\b\b\b\b\b\b\b\b\b\b\b\b\b\b\b\b\b\b\b\b\b\b\b\b\b\b\b\r37\/37 [==============================] - 0s 3ms\/step - loss: 74104576.0000 - val_loss: 75617616.0000\n",
            "Epoch 42\/300\n",
            "\r 1\/37 [..............................] - ETA: 0s - loss: 74021672.0000\b\b\b\b\b\b\b\b\b\b\b\b\b\b\b\b\b\b\b\b\b\b\b\b\b\b\b\b\b\b\b\b\b\b\b\b\b\b\b\b\b\b\b\b\b\b\b\b\b\b\b\b\b\b\b\b\b\b\b\b\b\b\b\b\b\b\b\b\b\b\r37\/37 [==============================] - ETA: 0s - loss: 73574728.0000\b\b\b\b\b\b\b\b\b\b\b\b\b\b\b\b\b\b\b\b\b\b\b\b\b\b\b\b\b\b\b\b\b\b\b\b\b\b\b\b\b\b\b\b\b\b\b\b\b\b\b\b\b\b\b\b\b\b\b\b\b\b\b\b\b\b\b\b\b\b\r37\/37 [==============================] - 0s 3ms\/step - loss: 73574728.0000 - val_loss: 75113296.0000\n",
            "Epoch 43\/300\n",
            "\r 1\/37 [..............................] - ETA: 0s - loss: 67613648.0000\b\b\b\b\b\b\b\b\b\b\b\b\b\b\b\b\b\b\b\b\b\b\b\b\b\b\b\b\b\b\b\b\b\b\b\b\b\b\b\b\b\b\b\b\b\b\b\b\b\b\b\b\b\b\b\b\b\b\b\b\b\b\b\b\b\b\b\b\b\b\r37\/37 [==============================] - 0s 2ms\/step - loss: 73047584.0000 - val_loss: 74612392.0000\n",
            "Epoch 44\/300\n",
            "\r 1\/37 [..............................] - ETA: 0s - loss: 77994544.0000\b\b\b\b\b\b\b\b\b\b\b\b\b\b\b\b\b\b\b\b\b\b\b\b\b\b\b\b\b\b\b\b\b\b\b\b\b\b\b\b\b\b\b\b\b\b\b\b\b\b\b\b\b\b\b\b\b\b\b\b\b\b\b\b\b\b\b\b\b\b\r33\/37 [=========================>....] - ETA: 0s - loss: 73298560.0000\b\b\b\b\b\b\b\b\b\b\b\b\b\b\b\b\b\b\b\b\b\b\b\b\b\b\b\b\b\b\b\b\b\b\b\b\b\b\b\b\b\b\b\b\b\b\b\b\b\b\b\b\b\b\b\b\b\b\b\b\b\b\b\b\b\b\b\b\b\b\r37\/37 [==============================] - 0s 3ms\/step - loss: 72539312.0000 - val_loss: 74069696.0000\n",
            "Epoch 45\/300\n",
            "\r 1\/37 [..............................] - ETA: 0s - loss: 76069472.0000\b\b\b\b\b\b\b\b\b\b\b\b\b\b\b\b\b\b\b\b\b\b\b\b\b\b\b\b\b\b\b\b\b\b\b\b\b\b\b\b\b\b\b\b\b\b\b\b\b\b\b\b\b\b\b\b\b\b\b\b\b\b\b\b\b\b\b\b\b\b\r17\/37 [============>.................] - ETA: 0s - loss: 74222312.0000\b\b\b\b\b\b\b\b\b\b\b\b\b\b\b\b\b\b\b\b\b\b\b\b\b\b\b\b\b\b\b\b\b\b\b\b\b\b\b\b\b\b\b\b\b\b\b\b\b\b\b\b\b\b\b\b\b\b\b\b\b\b\b\b\b\b\b\b\b\b\r37\/37 [==============================] - 0s 4ms\/step - loss: 72001992.0000 - val_loss: 73579168.0000\n",
            "Epoch 46\/300\n",
            "\r 1\/37 [..............................] - ETA: 0s - loss: 86252904.0000\b\b\b\b\b\b\b\b\b\b\b\b\b\b\b\b\b\b\b\b\b\b\b\b\b\b\b\b\b\b\b\b\b\b\b\b\b\b\b\b\b\b\b\b\b\b\b\b\b\b\b\b\b\b\b\b\b\b\b\b\b\b\b\b\b\b\b\b\b\b\r34\/37 [==========================>...] - ETA: 0s - loss: 71788368.0000\b\b\b\b\b\b\b\b\b\b\b\b\b\b\b\b\b\b\b\b\b\b\b\b\b\b\b\b\b\b\b\b\b\b\b\b\b\b\b\b\b\b\b\b\b\b\b\b\b\b\b\b\b\b\b\b\b\b\b\b\b\b\b\b\b\b\b\b\b\b\r37\/37 [==============================] - 0s 3ms\/step - loss: 71487120.0000 - val_loss: 73066232.0000\n",
            "Epoch 47\/300\n",
            "\r 1\/37 [..............................] - ETA: 0s - loss: 71543904.0000\b\b\b\b\b\b\b\b\b\b\b\b\b\b\b\b\b\b\b\b\b\b\b\b\b\b\b\b\b\b\b\b\b\b\b\b\b\b\b\b\b\b\b\b\b\b\b\b\b\b\b\b\b\b\b\b\b\b\b\b\b\b\b\b\b\b\b\b\b\b\r24\/37 [==================>...........] - ETA: 0s - loss: 73827984.0000\b\b\b\b\b\b\b\b\b\b\b\b\b\b\b\b\b\b\b\b\b\b\b\b\b\b\b\b\b\b\b\b\b\b\b\b\b\b\b\b\b\b\b\b\b\b\b\b\b\b\b\b\b\b\b\b\b\b\b\b\b\b\b\b\b\b\b\b\b\b\r35\/37 [===========================>..] - ETA: 0s - loss: 71700072.0000\b\b\b\b\b\b\b\b\b\b\b\b\b\b\b\b\b\b\b\b\b\b\b\b\b\b\b\b\b\b\b\b\b\b\b\b\b\b\b\b\b\b\b\b\b\b\b\b\b\b\b\b\b\b\b\b\b\b\b\b\b\b\b\b\b\b\b\b\b\b\r37\/37 [==============================] - 0s 5ms\/step - loss: 71003840.0000 - val_loss: 72527272.0000\n",
            "Epoch 48\/300\n",
            "\r 1\/37 [..............................] - ETA: 0s - loss: 87561536.0000\b\b\b\b\b\b\b\b\b\b\b\b\b\b\b\b\b\b\b\b\b\b\b\b\b\b\b\b\b\b\b\b\b\b\b\b\b\b\b\b\b\b\b\b\b\b\b\b\b\b\b\b\b\b\b\b\b\b\b\b\b\b\b\b\b\b\b\b\b\b\r19\/37 [==============>...............] - ETA: 0s - loss: 69434544.0000\b\b\b\b\b\b\b\b\b\b\b\b\b\b\b\b\b\b\b\b\b\b\b\b\b\b\b\b\b\b\b\b\b\b\b\b\b\b\b\b\b\b\b\b\b\b\b\b\b\b\b\b\b\b\b\b\b\b\b\b\b\b\b\b\b\b\b\b\b\b\r35\/37 [===========================>..] - ETA: 0s - loss: 70527640.0000\b\b\b\b\b\b\b\b\b\b\b\b\b\b\b\b\b\b\b\b\b\b\b\b\b\b\b\b\b\b\b\b\b\b\b\b\b\b\b\b\b\b\b\b\b\b\b\b\b\b\b\b\b\b\b\b\b\b\b\b\b\b\b\b\b\b\b\b\b\b\r37\/37 [==============================] - 0s 6ms\/step - loss: 70439056.0000 - val_loss: 71990912.0000\n",
            "Epoch 49\/300\n",
            "\r 1\/37 [..............................] - ETA: 0s - loss: 59656132.0000\b\b\b\b\b\b\b\b\b\b\b\b\b\b\b\b\b\b\b\b\b\b\b\b\b\b\b\b\b\b\b\b\b\b\b\b\b\b\b\b\b\b\b\b\b\b\b\b\b\b\b\b\b\b\b\b\b\b\b\b\b\b\b\b\b\b\b\b\b\b\r 5\/37 [===>..........................] - ETA: 0s - loss: 66984780.0000\b\b\b\b\b\b\b\b\b\b\b\b\b\b\b\b\b\b\b\b\b\b\b\b\b\b\b\b\b\b\b\b\b\b\b\b\b\b\b\b\b\b\b\b\b\b\b\b\b\b\b\b\b\b\b\b\b\b\b\b\b\b\b\b\b\b\b\b\b\b\r23\/37 [=================>............] - ETA: 0s - loss: 69477816.0000\b\b\b\b\b\b\b\b\b\b\b\b\b\b\b\b\b\b\b\b\b\b\b\b\b\b\b\b\b\b\b\b\b\b\b\b\b\b\b\b\b\b\b\b\b\b\b\b\b\b\b\b\b\b\b\b\b\b\b\b\b\b\b\b\b\b\b\b\b\b\r37\/37 [==============================] - 0s 6ms\/step - loss: 69875976.0000 - val_loss: 71431808.0000\n",
            "Epoch 50\/300\n",
            "\r 1\/37 [..............................] - ETA: 0s - loss: 83601704.0000\b\b\b\b\b\b\b\b\b\b\b\b\b\b\b\b\b\b\b\b\b\b\b\b\b\b\b\b\b\b\b\b\b\b\b\b\b\b\b\b\b\b\b\b\b\b\b\b\b\b\b\b\b\b\b\b\b\b\b\b\b\b\b\b\b\b\b\b\b\b\r25\/37 [===================>..........] - ETA: 0s - loss: 69686880.0000\b\b\b\b\b\b\b\b\b\b\b\b\b\b\b\b\b\b\b\b\b\b\b\b\b\b\b\b\b\b\b\b\b\b\b\b\b\b\b\b\b\b\b\b\b\b\b\b\b\b\b\b\b\b\b\b\b\b\b\b\b\b\b\b\b\b\b\b\b\b\r37\/37 [==============================] - 0s 5ms\/step - loss: 69341400.0000 - val_loss: 70928496.0000\n",
            "Epoch 51\/300\n",
            "\r 1\/37 [..............................] - ETA: 0s - loss: 73088960.0000\b\b\b\b\b\b\b\b\b\b\b\b\b\b\b\b\b\b\b\b\b\b\b\b\b\b\b\b\b\b\b\b\b\b\b\b\b\b\b\b\b\b\b\b\b\b\b\b\b\b\b\b\b\b\b\b\b\b\b\b\b\b\b\b\b\b\b\b\b\b\r28\/37 [=====================>........] - ETA: 0s - loss: 69031000.0000\b\b\b\b\b\b\b\b\b\b\b\b\b\b\b\b\b\b\b\b\b\b\b\b\b\b\b\b\b\b\b\b\b\b\b\b\b\b\b\b\b\b\b\b\b\b\b\b\b\b\b\b\b\b\b\b\b\b\b\b\b\b\b\b\b\b\b\b\b\b\r37\/37 [==============================] - 0s 3ms\/step - loss: 68779048.0000 - val_loss: 70376824.0000\n",
            "Epoch 52\/300\n",
            "\r 1\/37 [..............................] - ETA: 0s - loss: 50533552.0000\b\b\b\b\b\b\b\b\b\b\b\b\b\b\b\b\b\b\b\b\b\b\b\b\b\b\b\b\b\b\b\b\b\b\b\b\b\b\b\b\b\b\b\b\b\b\b\b\b\b\b\b\b\b\b\b\b\b\b\b\b\b\b\b\b\b\b\b\b\b\r30\/37 [=======================>......] - ETA: 0s - loss: 68532840.0000\b\b\b\b\b\b\b\b\b\b\b\b\b\b\b\b\b\b\b\b\b\b\b\b\b\b\b\b\b\b\b\b\b\b\b\b\b\b\b\b\b\b\b\b\b\b\b\b\b\b\b\b\b\b\b\b\b\b\b\b\b\b\b\b\b\b\b\b\b\b\r37\/37 [==============================] - 0s 3ms\/step - loss: 68228448.0000 - val_loss: 69822504.0000\n",
            "Epoch 53\/300\n",
            "\r 1\/37 [..............................] - ETA: 0s - loss: 74755808.0000\b\b\b\b\b\b\b\b\b\b\b\b\b\b\b\b\b\b\b\b\b\b\b\b\b\b\b\b\b\b\b\b\b\b\b\b\b\b\b\b\b\b\b\b\b\b\b\b\b\b\b\b\b\b\b\b\b\b\b\b\b\b\b\b\b\b\b\b\b\b\r34\/37 [==========================>...] - ETA: 0s - loss: 66769396.0000\b\b\b\b\b\b\b\b\b\b\b\b\b\b\b\b\b\b\b\b\b\b\b\b\b\b\b\b\b\b\b\b\b\b\b\b\b\b\b\b\b\b\b\b\b\b\b\b\b\b\b\b\b\b\b\b\b\b\b\b\b\b\b\b\b\b\b\b\b\b\r37\/37 [==============================] - 0s 3ms\/step - loss: 67662200.0000 - val_loss: 69265800.0000\n",
            "Epoch 54\/300\n",
            "\r 1\/37 [..............................] - ETA: 0s - loss: 83195584.0000\b\b\b\b\b\b\b\b\b\b\b\b\b\b\b\b\b\b\b\b\b\b\b\b\b\b\b\b\b\b\b\b\b\b\b\b\b\b\b\b\b\b\b\b\b\b\b\b\b\b\b\b\b\b\b\b\b\b\b\b\b\b\b\b\b\b\b\b\b\b\r36\/37 [============================>.] - ETA: 0s - loss: 67099360.0000\b\b\b\b\b\b\b\b\b\b\b\b\b\b\b\b\b\b\b\b\b\b\b\b\b\b\b\b\b\b\b\b\b\b\b\b\b\b\b\b\b\b\b\b\b\b\b\b\b\b\b\b\b\b\b\b\b\b\b\b\b\b\b\b\b\b\b\b\b\b\r37\/37 [==============================] - 0s 3ms\/step - loss: 67095808.0000 - val_loss: 68675632.0000\n",
            "Epoch 55\/300\n",
            "\r 1\/37 [..............................] - ETA: 0s - loss: 51187020.0000\b\b\b\b\b\b\b\b\b\b\b\b\b\b\b\b\b\b\b\b\b\b\b\b\b\b\b\b\b\b\b\b\b\b\b\b\b\b\b\b\b\b\b\b\b\b\b\b\b\b\b\b\b\b\b\b\b\b\b\b\b\b\b\b\b\b\b\b\b\b\r35\/37 [===========================>..] - ETA: 0s - loss: 66480392.0000\b\b\b\b\b\b\b\b\b\b\b\b\b\b\b\b\b\b\b\b\b\b\b\b\b\b\b\b\b\b\b\b\b\b\b\b\b\b\b\b\b\b\b\b\b\b\b\b\b\b\b\b\b\b\b\b\b\b\b\b\b\b\b\b\b\b\b\b\b\b\r37\/37 [==============================] - 0s 3ms\/step - loss: 66514424.0000 - val_loss: 68125672.0000\n",
            "Epoch 56\/300\n",
            "\r 1\/37 [..............................] - ETA: 0s - loss: 66218284.0000\b\b\b\b\b\b\b\b\b\b\b\b\b\b\b\b\b\b\b\b\b\b\b\b\b\b\b\b\b\b\b\b\b\b\b\b\b\b\b\b\b\b\b\b\b\b\b\b\b\b\b\b\b\b\b\b\b\b\b\b\b\b\b\b\b\b\b\b\b\b\r37\/37 [==============================] - 0s 3ms\/step - loss: 65943728.0000 - val_loss: 67533520.0000\n",
            "Epoch 57\/300\n",
            "\r 1\/37 [..............................] - ETA: 0s - loss: 56846996.0000\b\b\b\b\b\b\b\b\b\b\b\b\b\b\b\b\b\b\b\b\b\b\b\b\b\b\b\b\b\b\b\b\b\b\b\b\b\b\b\b\b\b\b\b\b\b\b\b\b\b\b\b\b\b\b\b\b\b\b\b\b\b\b\b\b\b\b\b\b\b\r36\/37 [============================>.] - ETA: 0s - loss: 65427420.0000\b\b\b\b\b\b\b\b\b\b\b\b\b\b\b\b\b\b\b\b\b\b\b\b\b\b\b\b\b\b\b\b\b\b\b\b\b\b\b\b\b\b\b\b\b\b\b\b\b\b\b\b\b\b\b\b\b\b\b\b\b\b\b\b\b\b\b\b\b\b\r37\/37 [==============================] - 0s 3ms\/step - loss: 65364660.0000 - val_loss: 66959796.0000\n",
            "Epoch 58\/300\n",
            "\r 1\/37 [..............................] - ETA: 0s - loss: 60182528.0000\b\b\b\b\b\b\b\b\b\b\b\b\b\b\b\b\b\b\b\b\b\b\b\b\b\b\b\b\b\b\b\b\b\b\b\b\b\b\b\b\b\b\b\b\b\b\b\b\b\b\b\b\b\b\b\b\b\b\b\b\b\b\b\b\b\b\b\b\b\b\r36\/37 [============================>.] - ETA: 0s - loss: 64916916.0000\b\b\b\b\b\b\b\b\b\b\b\b\b\b\b\b\b\b\b\b\b\b\b\b\b\b\b\b\b\b\b\b\b\b\b\b\b\b\b\b\b\b\b\b\b\b\b\b\b\b\b\b\b\b\b\b\b\b\b\b\b\b\b\b\b\b\b\b\b\b\r37\/37 [==============================] - 0s 3ms\/step - loss: 64768852.0000 - val_loss: 66347344.0000\n",
            "Epoch 59\/300\n",
            "\r 1\/37 [..............................] - ETA: 0s - loss: 72771904.0000\b\b\b\b\b\b\b\b\b\b\b\b\b\b\b\b\b\b\b\b\b\b\b\b\b\b\b\b\b\b\b\b\b\b\b\b\b\b\b\b\b\b\b\b\b\b\b\b\b\b\b\b\b\b\b\b\b\b\b\b\b\b\b\b\b\b\b\b\b\b\r37\/37 [==============================] - 0s 4ms\/step - loss: 64173008.0000 - val_loss: 65782224.0000\n",
            "Epoch 60\/300\n",
            "\r 1\/37 [..............................] - ETA: 0s - loss: 66696628.0000\b\b\b\b\b\b\b\b\b\b\b\b\b\b\b\b\b\b\b\b\b\b\b\b\b\b\b\b\b\b\b\b\b\b\b\b\b\b\b\b\b\b\b\b\b\b\b\b\b\b\b\b\b\b\b\b\b\b\b\b\b\b\b\b\b\b\b\b\b\b\r32\/37 [========================>.....] - ETA: 0s - loss: 64128240.0000\b\b\b\b\b\b\b\b\b\b\b\b\b\b\b\b\b\b\b\b\b\b\b\b\b\b\b\b\b\b\b\b\b\b\b\b\b\b\b\b\b\b\b\b\b\b\b\b\b\b\b\b\b\b\b\b\b\b\b\b\b\b\b\b\b\b\b\b\b\b\r37\/37 [==============================] - 0s 3ms\/step - loss: 63586156.0000 - val_loss: 65151652.0000\n",
            "Epoch 61\/300\n",
            "\r 1\/37 [..............................] - ETA: 0s - loss: 66194044.0000\b\b\b\b\b\b\b\b\b\b\b\b\b\b\b\b\b\b\b\b\b\b\b\b\b\b\b\b\b\b\b\b\b\b\b\b\b\b\b\b\b\b\b\b\b\b\b\b\b\b\b\b\b\b\b\b\b\b\b\b\b\b\b\b\b\b\b\b\b\b\r36\/37 [============================>.] - ETA: 0s - loss: 63027624.0000\b\b\b\b\b\b\b\b\b\b\b\b\b\b\b\b\b\b\b\b\b\b\b\b\b\b\b\b\b\b\b\b\b\b\b\b\b\b\b\b\b\b\b\b\b\b\b\b\b\b\b\b\b\b\b\b\b\b\b\b\b\b\b\b\b\b\b\b\b\b\r37\/37 [==============================] - 0s 3ms\/step - loss: 62960080.0000 - val_loss: 64530108.0000\n",
            "Epoch 62\/300\n",
            "\r 1\/37 [..............................] - ETA: 0s - loss: 56529336.0000\b\b\b\b\b\b\b\b\b\b\b\b\b\b\b\b\b\b\b\b\b\b\b\b\b\b\b\b\b\b\b\b\b\b\b\b\b\b\b\b\b\b\b\b\b\b\b\b\b\b\b\b\b\b\b\b\b\b\b\b\b\b\b\b\b\b\b\b\b\b\r37\/37 [==============================] - ETA: 0s - loss: 62329416.0000\b\b\b\b\b\b\b\b\b\b\b\b\b\b\b\b\b\b\b\b\b\b\b\b\b\b\b\b\b\b\b\b\b\b\b\b\b\b\b\b\b\b\b\b\b\b\b\b\b\b\b\b\b\b\b\b\b\b\b\b\b\b\b\b\b\b\b\b\b\b\r37\/37 [==============================] - 0s 3ms\/step - loss: 62329416.0000 - val_loss: 63915228.0000\n",
            "Epoch 63\/300\n",
            "\r 1\/37 [..............................] - ETA: 0s - loss: 66212748.0000\b\b\b\b\b\b\b\b\b\b\b\b\b\b\b\b\b\b\b\b\b\b\b\b\b\b\b\b\b\b\b\b\b\b\b\b\b\b\b\b\b\b\b\b\b\b\b\b\b\b\b\b\b\b\b\b\b\b\b\b\b\b\b\b\b\b\b\b\b\b\r37\/37 [==============================] - 0s 2ms\/step - loss: 61689464.0000 - val_loss: 63291368.0000\n",
            "Epoch 64\/300\n",
            "\r 1\/37 [..............................] - ETA: 0s - loss: 63631032.0000\b\b\b\b\b\b\b\b\b\b\b\b\b\b\b\b\b\b\b\b\b\b\b\b\b\b\b\b\b\b\b\b\b\b\b\b\b\b\b\b\b\b\b\b\b\b\b\b\b\b\b\b\b\b\b\b\b\b\b\b\b\b\b\b\b\b\b\b\b\b\r37\/37 [==============================] - ETA: 0s - loss: 61056092.0000\b\b\b\b\b\b\b\b\b\b\b\b\b\b\b\b\b\b\b\b\b\b\b\b\b\b\b\b\b\b\b\b\b\b\b\b\b\b\b\b\b\b\b\b\b\b\b\b\b\b\b\b\b\b\b\b\b\b\b\b\b\b\b\b\b\b\b\b\b\b\r37\/37 [==============================] - 0s 3ms\/step - loss: 61056092.0000 - val_loss: 62636440.0000\n",
            "Epoch 65\/300\n",
            "\r 1\/37 [..............................] - ETA: 0s - loss: 67236432.0000\b\b\b\b\b\b\b\b\b\b\b\b\b\b\b\b\b\b\b\b\b\b\b\b\b\b\b\b\b\b\b\b\b\b\b\b\b\b\b\b\b\b\b\b\b\b\b\b\b\b\b\b\b\b\b\b\b\b\b\b\b\b\b\b\b\b\b\b\b\b\r37\/37 [==============================] - ETA: 0s - loss: 60392244.0000\b\b\b\b\b\b\b\b\b\b\b\b\b\b\b\b\b\b\b\b\b\b\b\b\b\b\b\b\b\b\b\b\b\b\b\b\b\b\b\b\b\b\b\b\b\b\b\b\b\b\b\b\b\b\b\b\b\b\b\b\b\b\b\b\b\b\b\b\b\b\r37\/37 [==============================] - 0s 3ms\/step - loss: 60392244.0000 - val_loss: 61984376.0000\n",
            "Epoch 66\/300\n",
            "\r 1\/37 [..............................] - ETA: 0s - loss: 46527460.0000\b\b\b\b\b\b\b\b\b\b\b\b\b\b\b\b\b\b\b\b\b\b\b\b\b\b\b\b\b\b\b\b\b\b\b\b\b\b\b\b\b\b\b\b\b\b\b\b\b\b\b\b\b\b\b\b\b\b\b\b\b\b\b\b\b\b\b\b\b\b\r37\/37 [==============================] - 0s 2ms\/step - loss: 59724328.0000 - val_loss: 61336952.0000\n",
            "Epoch 67\/300\n",
            "\r 1\/37 [..............................] - ETA: 0s - loss: 81013488.0000\b\b\b\b\b\b\b\b\b\b\b\b\b\b\b\b\b\b\b\b\b\b\b\b\b\b\b\b\b\b\b\b\b\b\b\b\b\b\b\b\b\b\b\b\b\b\b\b\b\b\b\b\b\b\b\b\b\b\b\b\b\b\b\b\b\b\b\b\b\b\r36\/37 [============================>.] - ETA: 0s - loss: 58843796.0000\b\b\b\b\b\b\b\b\b\b\b\b\b\b\b\b\b\b\b\b\b\b\b\b\b\b\b\b\b\b\b\b\b\b\b\b\b\b\b\b\b\b\b\b\b\b\b\b\b\b\b\b\b\b\b\b\b\b\b\b\b\b\b\b\b\b\b\b\b\b\r37\/37 [==============================] - 0s 3ms\/step - loss: 59059556.0000 - val_loss: 60661032.0000\n",
            "Epoch 68\/300\n",
            "\r 1\/37 [..............................] - ETA: 0s - loss: 67293144.0000\b\b\b\b\b\b\b\b\b\b\b\b\b\b\b\b\b\b\b\b\b\b\b\b\b\b\b\b\b\b\b\b\b\b\b\b\b\b\b\b\b\b\b\b\b\b\b\b\b\b\b\b\b\b\b\b\b\b\b\b\b\b\b\b\b\b\b\b\b\b\r35\/37 [===========================>..] - ETA: 0s - loss: 58116360.0000\b\b\b\b\b\b\b\b\b\b\b\b\b\b\b\b\b\b\b\b\b\b\b\b\b\b\b\b\b\b\b\b\b\b\b\b\b\b\b\b\b\b\b\b\b\b\b\b\b\b\b\b\b\b\b\b\b\b\b\b\b\b\b\b\b\b\b\b\b\b\r37\/37 [==============================] - 0s 3ms\/step - loss: 58368040.0000 - val_loss: 59949556.0000\n",
            "Epoch 69\/300\n",
            "\r 1\/37 [..............................] - ETA: 0s - loss: 69731456.0000\b\b\b\b\b\b\b\b\b\b\b\b\b\b\b\b\b\b\b\b\b\b\b\b\b\b\b\b\b\b\b\b\b\b\b\b\b\b\b\b\b\b\b\b\b\b\b\b\b\b\b\b\b\b\b\b\b\b\b\b\b\b\b\b\b\b\b\b\b\b\r36\/37 [============================>.] - ETA: 0s - loss: 57377472.0000\b\b\b\b\b\b\b\b\b\b\b\b\b\b\b\b\b\b\b\b\b\b\b\b\b\b\b\b\b\b\b\b\b\b\b\b\b\b\b\b\b\b\b\b\b\b\b\b\b\b\b\b\b\b\b\b\b\b\b\b\b\b\b\b\b\b\b\b\b\b\r37\/37 [==============================] - 0s 3ms\/step - loss: 57667864.0000 - val_loss: 59238960.0000\n",
            "Epoch 70\/300\n",
            "\r 1\/37 [..............................] - ETA: 0s - loss: 72828104.0000\b\b\b\b\b\b\b\b\b\b\b\b\b\b\b\b\b\b\b\b\b\b\b\b\b\b\b\b\b\b\b\b\b\b\b\b\b\b\b\b\b\b\b\b\b\b\b\b\b\b\b\b\b\b\b\b\b\b\b\b\b\b\b\b\b\b\b\b\b\b\r34\/37 [==========================>...] - ETA: 0s - loss: 56891624.0000\b\b\b\b\b\b\b\b\b\b\b\b\b\b\b\b\b\b\b\b\b\b\b\b\b\b\b\b\b\b\b\b\b\b\b\b\b\b\b\b\b\b\b\b\b\b\b\b\b\b\b\b\b\b\b\b\b\b\b\b\b\b\b\b\b\b\b\b\b\b\r37\/37 [==============================] - 0s 3ms\/step - loss: 56968936.0000 - val_loss: 58545256.0000\n",
            "Epoch 71\/300\n",
            "\r 1\/37 [..............................] - ETA: 0s - loss: 44944004.0000\b\b\b\b\b\b\b\b\b\b\b\b\b\b\b\b\b\b\b\b\b\b\b\b\b\b\b\b\b\b\b\b\b\b\b\b\b\b\b\b\b\b\b\b\b\b\b\b\b\b\b\b\b\b\b\b\b\b\b\b\b\b\b\b\b\b\b\b\b\b\r34\/37 [==========================>...] - ETA: 0s - loss: 56594328.0000\b\b\b\b\b\b\b\b\b\b\b\b\b\b\b\b\b\b\b\b\b\b\b\b\b\b\b\b\b\b\b\b\b\b\b\b\b\b\b\b\b\b\b\b\b\b\b\b\b\b\b\b\b\b\b\b\b\b\b\b\b\b\b\b\b\b\b\b\b\b\r37\/37 [==============================] - 0s 3ms\/step - loss: 56241804.0000 - val_loss: 57801276.0000\n",
            "Epoch 72\/300\n",
            "\r 1\/37 [..............................] - ETA: 0s - loss: 64536956.0000\b\b\b\b\b\b\b\b\b\b\b\b\b\b\b\b\b\b\b\b\b\b\b\b\b\b\b\b\b\b\b\b\b\b\b\b\b\b\b\b\b\b\b\b\b\b\b\b\b\b\b\b\b\b\b\b\b\b\b\b\b\b\b\b\b\b\b\b\b\b\r35\/37 [===========================>..] - ETA: 0s - loss: 55631720.0000\b\b\b\b\b\b\b\b\b\b\b\b\b\b\b\b\b\b\b\b\b\b\b\b\b\b\b\b\b\b\b\b\b\b\b\b\b\b\b\b\b\b\b\b\b\b\b\b\b\b\b\b\b\b\b\b\b\b\b\b\b\b\b\b\b\b\b\b\b\b\r37\/37 [==============================] - 0s 3ms\/step - loss: 55528508.0000 - val_loss: 57137592.0000\n",
            "Epoch 73\/300\n",
            "\r 1\/37 [..............................] - ETA: 0s - loss: 51700556.0000\b\b\b\b\b\b\b\b\b\b\b\b\b\b\b\b\b\b\b\b\b\b\b\b\b\b\b\b\b\b\b\b\b\b\b\b\b\b\b\b\b\b\b\b\b\b\b\b\b\b\b\b\b\b\b\b\b\b\b\b\b\b\b\b\b\b\b\b\b\b\r33\/37 [=========================>....] - ETA: 0s - loss: 54994532.0000\b\b\b\b\b\b\b\b\b\b\b\b\b\b\b\b\b\b\b\b\b\b\b\b\b\b\b\b\b\b\b\b\b\b\b\b\b\b\b\b\b\b\b\b\b\b\b\b\b\b\b\b\b\b\b\b\b\b\b\b\b\b\b\b\b\b\b\b\b\b\r37\/37 [==============================] - 0s 3ms\/step - loss: 54779612.0000 - val_loss: 56312456.0000\n",
            "Epoch 74\/300\n",
            "\r 1\/37 [..............................] - ETA: 0s - loss: 64930308.0000\b\b\b\b\b\b\b\b\b\b\b\b\b\b\b\b\b\b\b\b\b\b\b\b\b\b\b\b\b\b\b\b\b\b\b\b\b\b\b\b\b\b\b\b\b\b\b\b\b\b\b\b\b\b\b\b\b\b\b\b\b\b\b\b\b\b\b\b\b\b\r35\/37 [===========================>..] - ETA: 0s - loss: 54177628.0000\b\b\b\b\b\b\b\b\b\b\b\b\b\b\b\b\b\b\b\b\b\b\b\b\b\b\b\b\b\b\b\b\b\b\b\b\b\b\b\b\b\b\b\b\b\b\b\b\b\b\b\b\b\b\b\b\b\b\b\b\b\b\b\b\b\b\b\b\b\b\r37\/37 [==============================] - 0s 3ms\/step - loss: 54024636.0000 - val_loss: 55553324.0000\n",
            "Epoch 75\/300\n",
            "\r 1\/37 [..............................] - ETA: 0s - loss: 43488524.0000\b\b\b\b\b\b\b\b\b\b\b\b\b\b\b\b\b\b\b\b\b\b\b\b\b\b\b\b\b\b\b\b\b\b\b\b\b\b\b\b\b\b\b\b\b\b\b\b\b\b\b\b\b\b\b\b\b\b\b\b\b\b\b\b\b\b\b\b\b\b\r36\/37 [============================>.] - ETA: 0s - loss: 53297416.0000\b\b\b\b\b\b\b\b\b\b\b\b\b\b\b\b\b\b\b\b\b\b\b\b\b\b\b\b\b\b\b\b\b\b\b\b\b\b\b\b\b\b\b\b\b\b\b\b\b\b\b\b\b\b\b\b\b\b\b\b\b\b\b\b\b\b\b\b\b\b\r37\/37 [==============================] - 0s 2ms\/step - loss: 53255200.0000 - val_loss: 54779284.0000\n",
            "Epoch 76\/300\n",
            "\r 1\/37 [..............................] - ETA: 0s - loss: 48337932.0000\b\b\b\b\b\b\b\b\b\b\b\b\b\b\b\b\b\b\b\b\b\b\b\b\b\b\b\b\b\b\b\b\b\b\b\b\b\b\b\b\b\b\b\b\b\b\b\b\b\b\b\b\b\b\b\b\b\b\b\b\b\b\b\b\b\b\b\b\b\b\r35\/37 [===========================>..] - ETA: 0s - loss: 52513908.0000\b\b\b\b\b\b\b\b\b\b\b\b\b\b\b\b\b\b\b\b\b\b\b\b\b\b\b\b\b\b\b\b\b\b\b\b\b\b\b\b\b\b\b\b\b\b\b\b\b\b\b\b\b\b\b\b\b\b\b\b\b\b\b\b\b\b\b\b\b\b\r37\/37 [==============================] - 0s 3ms\/step - loss: 52492488.0000 - val_loss: 54001016.0000\n",
            "Epoch 77\/300\n",
            "\r 1\/37 [..............................] - ETA: 0s - loss: 47495580.0000\b\b\b\b\b\b\b\b\b\b\b\b\b\b\b\b\b\b\b\b\b\b\b\b\b\b\b\b\b\b\b\b\b\b\b\b\b\b\b\b\b\b\b\b\b\b\b\b\b\b\b\b\b\b\b\b\b\b\b\b\b\b\b\b\b\b\b\b\b\b\r35\/37 [===========================>..] - ETA: 0s - loss: 51686908.0000\b\b\b\b\b\b\b\b\b\b\b\b\b\b\b\b\b\b\b\b\b\b\b\b\b\b\b\b\b\b\b\b\b\b\b\b\b\b\b\b\b\b\b\b\b\b\b\b\b\b\b\b\b\b\b\b\b\b\b\b\b\b\b\b\b\b\b\b\b\b\r37\/37 [==============================] - 0s 3ms\/step - loss: 51713736.0000 - val_loss: 53234936.0000\n",
            "Epoch 78\/300\n",
            "\r 1\/37 [..............................] - ETA: 0s - loss: 50186908.0000\b\b\b\b\b\b\b\b\b\b\b\b\b\b\b\b\b\b\b\b\b\b\b\b\b\b\b\b\b\b\b\b\b\b\b\b\b\b\b\b\b\b\b\b\b\b\b\b\b\b\b\b\b\b\b\b\b\b\b\b\b\b\b\b\b\b\b\b\b\b\r33\/37 [=========================>....] - ETA: 0s - loss: 50852556.0000\b\b\b\b\b\b\b\b\b\b\b\b\b\b\b\b\b\b\b\b\b\b\b\b\b\b\b\b\b\b\b\b\b\b\b\b\b\b\b\b\b\b\b\b\b\b\b\b\b\b\b\b\b\b\b\b\b\b\b\b\b\b\b\b\b\b\b\b\b\b\r37\/37 [==============================] - 0s 3ms\/step - loss: 50908328.0000 - val_loss: 52394188.0000\n",
            "Epoch 79\/300\n",
            "\r 1\/37 [..............................] - ETA: 0s - loss: 53330948.0000\b\b\b\b\b\b\b\b\b\b\b\b\b\b\b\b\b\b\b\b\b\b\b\b\b\b\b\b\b\b\b\b\b\b\b\b\b\b\b\b\b\b\b\b\b\b\b\b\b\b\b\b\b\b\b\b\b\b\b\b\b\b\b\b\b\b\b\b\b\b\r35\/37 [===========================>..] - ETA: 0s - loss: 49844628.0000\b\b\b\b\b\b\b\b\b\b\b\b\b\b\b\b\b\b\b\b\b\b\b\b\b\b\b\b\b\b\b\b\b\b\b\b\b\b\b\b\b\b\b\b\b\b\b\b\b\b\b\b\b\b\b\b\b\b\b\b\b\b\b\b\b\b\b\b\b\b\r37\/37 [==============================] - 0s 3ms\/step - loss: 50112824.0000 - val_loss: 51588240.0000\n",
            "Epoch 80\/300\n",
            "\r 1\/37 [..............................] - ETA: 0s - loss: 56063372.0000\b\b\b\b\b\b\b\b\b\b\b\b\b\b\b\b\b\b\b\b\b\b\b\b\b\b\b\b\b\b\b\b\b\b\b\b\b\b\b\b\b\b\b\b\b\b\b\b\b\b\b\b\b\b\b\b\b\b\b\b\b\b\b\b\b\b\b\b\b\b\r37\/37 [==============================] - 0s 2ms\/step - loss: 49294716.0000 - val_loss: 50756676.0000\n",
            "Epoch 81\/300\n",
            "\r 1\/37 [..............................] - ETA: 0s - loss: 41056412.0000\b\b\b\b\b\b\b\b\b\b\b\b\b\b\b\b\b\b\b\b\b\b\b\b\b\b\b\b\b\b\b\b\b\b\b\b\b\b\b\b\b\b\b\b\b\b\b\b\b\b\b\b\b\b\b\b\b\b\b\b\b\b\b\b\b\b\b\b\b\b\r37\/37 [==============================] - ETA: 0s - loss: 48486828.0000\b\b\b\b\b\b\b\b\b\b\b\b\b\b\b\b\b\b\b\b\b\b\b\b\b\b\b\b\b\b\b\b\b\b\b\b\b\b\b\b\b\b\b\b\b\b\b\b\b\b\b\b\b\b\b\b\b\b\b\b\b\b\b\b\b\b\b\b\b\b\r37\/37 [==============================] - 0s 3ms\/step - loss: 48486828.0000 - val_loss: 49919096.0000\n",
            "Epoch 82\/300\n",
            "\r 1\/37 [..............................] - ETA: 0s - loss: 57787348.0000\b\b\b\b\b\b\b\b\b\b\b\b\b\b\b\b\b\b\b\b\b\b\b\b\b\b\b\b\b\b\b\b\b\b\b\b\b\b\b\b\b\b\b\b\b\b\b\b\b\b\b\b\b\b\b\b\b\b\b\b\b\b\b\b\b\b\b\b\b\b\r37\/37 [==============================] - 0s 2ms\/step - loss: 47652684.0000 - val_loss: 49070388.0000\n",
            "Epoch 83\/300\n",
            "\r 1\/37 [..............................] - ETA: 0s - loss: 53014864.0000\b\b\b\b\b\b\b\b\b\b\b\b\b\b\b\b\b\b\b\b\b\b\b\b\b\b\b\b\b\b\b\b\b\b\b\b\b\b\b\b\b\b\b\b\b\b\b\b\b\b\b\b\b\b\b\b\b\b\b\b\b\b\b\b\b\b\b\b\b\b\r37\/37 [==============================] - ETA: 0s - loss: 46815080.0000\b\b\b\b\b\b\b\b\b\b\b\b\b\b\b\b\b\b\b\b\b\b\b\b\b\b\b\b\b\b\b\b\b\b\b\b\b\b\b\b\b\b\b\b\b\b\b\b\b\b\b\b\b\b\b\b\b\b\b\b\b\b\b\b\b\b\b\b\b\b\r37\/37 [==============================] - 0s 3ms\/step - loss: 46815080.0000 - val_loss: 48213288.0000\n",
            "Epoch 84\/300\n",
            "\r 1\/37 [..............................] - ETA: 0s - loss: 39447640.0000\b\b\b\b\b\b\b\b\b\b\b\b\b\b\b\b\b\b\b\b\b\b\b\b\b\b\b\b\b\b\b\b\b\b\b\b\b\b\b\b\b\b\b\b\b\b\b\b\b\b\b\b\b\b\b\b\b\b\b\b\b\b\b\b\b\b\b\b\b\b\r37\/37 [==============================] - 0s 2ms\/step - loss: 45970304.0000 - val_loss: 47347256.0000\n",
            "Epoch 85\/300\n",
            "\r 1\/37 [..............................] - ETA: 0s - loss: 43428060.0000\b\b\b\b\b\b\b\b\b\b\b\b\b\b\b\b\b\b\b\b\b\b\b\b\b\b\b\b\b\b\b\b\b\b\b\b\b\b\b\b\b\b\b\b\b\b\b\b\b\b\b\b\b\b\b\b\b\b\b\b\b\b\b\b\b\b\b\b\b\b\r35\/37 [===========================>..] - ETA: 0s - loss: 45192196.0000\b\b\b\b\b\b\b\b\b\b\b\b\b\b\b\b\b\b\b\b\b\b\b\b\b\b\b\b\b\b\b\b\b\b\b\b\b\b\b\b\b\b\b\b\b\b\b\b\b\b\b\b\b\b\b\b\b\b\b\b\b\b\b\b\b\b\b\b\b\b\r37\/37 [==============================] - 0s 3ms\/step - loss: 45115220.0000 - val_loss: 46470560.0000\n",
            "Epoch 86\/300\n",
            "\r 1\/37 [..............................] - ETA: 0s - loss: 39994344.0000\b\b\b\b\b\b\b\b\b\b\b\b\b\b\b\b\b\b\b\b\b\b\b\b\b\b\b\b\b\b\b\b\b\b\b\b\b\b\b\b\b\b\b\b\b\b\b\b\b\b\b\b\b\b\b\b\b\b\b\b\b\b\b\b\b\b\b\b\b\b\r37\/37 [==============================] - ETA: 0s - loss: 44268872.0000\b\b\b\b\b\b\b\b\b\b\b\b\b\b\b\b\b\b\b\b\b\b\b\b\b\b\b\b\b\b\b\b\b\b\b\b\b\b\b\b\b\b\b\b\b\b\b\b\b\b\b\b\b\b\b\b\b\b\b\b\b\b\b\b\b\b\b\b\b\b\r37\/37 [==============================] - 0s 2ms\/step - loss: 44268872.0000 - val_loss: 45618924.0000\n",
            "Epoch 87\/300\n",
            "\r 1\/37 [..............................] - ETA: 0s - loss: 47370700.0000\b\b\b\b\b\b\b\b\b\b\b\b\b\b\b\b\b\b\b\b\b\b\b\b\b\b\b\b\b\b\b\b\b\b\b\b\b\b\b\b\b\b\b\b\b\b\b\b\b\b\b\b\b\b\b\b\b\b\b\b\b\b\b\b\b\b\b\b\b\b\r37\/37 [==============================] - 0s 2ms\/step - loss: 43422200.0000 - val_loss: 44743964.0000\n",
            "Epoch 88\/300\n",
            "\r 1\/37 [..............................] - ETA: 0s - loss: 41367084.0000\b\b\b\b\b\b\b\b\b\b\b\b\b\b\b\b\b\b\b\b\b\b\b\b\b\b\b\b\b\b\b\b\b\b\b\b\b\b\b\b\b\b\b\b\b\b\b\b\b\b\b\b\b\b\b\b\b\b\b\b\b\b\b\b\b\b\b\b\b\b\r34\/37 [==========================>...] - ETA: 0s - loss: 42546704.0000\b\b\b\b\b\b\b\b\b\b\b\b\b\b\b\b\b\b\b\b\b\b\b\b\b\b\b\b\b\b\b\b\b\b\b\b\b\b\b\b\b\b\b\b\b\b\b\b\b\b\b\b\b\b\b\b\b\b\b\b\b\b\b\b\b\b\b\b\b\b\r37\/37 [==============================] - 0s 3ms\/step - loss: 42589536.0000 - val_loss: 43876576.0000\n",
            "Epoch 89\/300\n",
            "\r 1\/37 [..............................] - ETA: 0s - loss: 40487540.0000\b\b\b\b\b\b\b\b\b\b\b\b\b\b\b\b\b\b\b\b\b\b\b\b\b\b\b\b\b\b\b\b\b\b\b\b\b\b\b\b\b\b\b\b\b\b\b\b\b\b\b\b\b\b\b\b\b\b\b\b\b\b\b\b\b\b\b\b\b\b\r36\/37 [============================>.] - ETA: 0s - loss: 41529472.0000\b\b\b\b\b\b\b\b\b\b\b\b\b\b\b\b\b\b\b\b\b\b\b\b\b\b\b\b\b\b\b\b\b\b\b\b\b\b\b\b\b\b\b\b\b\b\b\b\b\b\b\b\b\b\b\b\b\b\b\b\b\b\b\b\b\b\b\b\b\b\r37\/37 [==============================] - 0s 3ms\/step - loss: 41743580.0000 - val_loss: 43003968.0000\n",
            "Epoch 90\/300\n",
            "\r 1\/37 [..............................] - ETA: 0s - loss: 36964064.0000\b\b\b\b\b\b\b\b\b\b\b\b\b\b\b\b\b\b\b\b\b\b\b\b\b\b\b\b\b\b\b\b\b\b\b\b\b\b\b\b\b\b\b\b\b\b\b\b\b\b\b\b\b\b\b\b\b\b\b\b\b\b\b\b\b\b\b\b\b\b\r34\/37 [==========================>...] - ETA: 0s - loss: 40894888.0000\b\b\b\b\b\b\b\b\b\b\b\b\b\b\b\b\b\b\b\b\b\b\b\b\b\b\b\b\b\b\b\b\b\b\b\b\b\b\b\b\b\b\b\b\b\b\b\b\b\b\b\b\b\b\b\b\b\b\b\b\b\b\b\b\b\b\b\b\b\b\r37\/37 [==============================] - 0s 3ms\/step - loss: 40877216.0000 - val_loss: 42086968.0000\n",
            "Epoch 91\/300\n",
            "\r 1\/37 [..............................] - ETA: 0s - loss: 42735180.0000\b\b\b\b\b\b\b\b\b\b\b\b\b\b\b\b\b\b\b\b\b\b\b\b\b\b\b\b\b\b\b\b\b\b\b\b\b\b\b\b\b\b\b\b\b\b\b\b\b\b\b\b\b\b\b\b\b\b\b\b\b\b\b\b\b\b\b\b\b\b\r34\/37 [==========================>...] - ETA: 0s - loss: 39880188.0000\b\b\b\b\b\b\b\b\b\b\b\b\b\b\b\b\b\b\b\b\b\b\b\b\b\b\b\b\b\b\b\b\b\b\b\b\b\b\b\b\b\b\b\b\b\b\b\b\b\b\b\b\b\b\b\b\b\b\b\b\b\b\b\b\b\b\b\b\b\b\r37\/37 [==============================] - 0s 3ms\/step - loss: 40041084.0000 - val_loss: 41267332.0000\n",
            "Epoch 92\/300\n",
            "\r 1\/37 [..............................] - ETA: 0s - loss: 29044432.0000\b\b\b\b\b\b\b\b\b\b\b\b\b\b\b\b\b\b\b\b\b\b\b\b\b\b\b\b\b\b\b\b\b\b\b\b\b\b\b\b\b\b\b\b\b\b\b\b\b\b\b\b\b\b\b\b\b\b\b\b\b\b\b\b\b\b\b\b\b\b\r33\/37 [=========================>....] - ETA: 0s - loss: 39059140.0000\b\b\b\b\b\b\b\b\b\b\b\b\b\b\b\b\b\b\b\b\b\b\b\b\b\b\b\b\b\b\b\b\b\b\b\b\b\b\b\b\b\b\b\b\b\b\b\b\b\b\b\b\b\b\b\b\b\b\b\b\b\b\b\b\b\b\b\b\b\b\r37\/37 [==============================] - 0s 3ms\/step - loss: 39176532.0000 - val_loss: 40332552.0000\n",
            "Epoch 93\/300\n",
            "\r 1\/37 [..............................] - ETA: 0s - loss: 44743068.0000\b\b\b\b\b\b\b\b\b\b\b\b\b\b\b\b\b\b\b\b\b\b\b\b\b\b\b\b\b\b\b\b\b\b\b\b\b\b\b\b\b\b\b\b\b\b\b\b\b\b\b\b\b\b\b\b\b\b\b\b\b\b\b\b\b\b\b\b\b\b\r32\/37 [========================>.....] - ETA: 0s - loss: 38103820.0000\b\b\b\b\b\b\b\b\b\b\b\b\b\b\b\b\b\b\b\b\b\b\b\b\b\b\b\b\b\b\b\b\b\b\b\b\b\b\b\b\b\b\b\b\b\b\b\b\b\b\b\b\b\b\b\b\b\b\b\b\b\b\b\b\b\b\b\b\b\b\r37\/37 [==============================] - 0s 3ms\/step - loss: 38293432.0000 - val_loss: 39471724.0000\n",
            "Epoch 94\/300\n",
            "\r 1\/37 [..............................] - ETA: 0s - loss: 34986560.0000\b\b\b\b\b\b\b\b\b\b\b\b\b\b\b\b\b\b\b\b\b\b\b\b\b\b\b\b\b\b\b\b\b\b\b\b\b\b\b\b\b\b\b\b\b\b\b\b\b\b\b\b\b\b\b\b\b\b\b\b\b\b\b\b\b\b\b\b\b\b\r27\/37 [====================>.........] - ETA: 0s - loss: 37722168.0000\b\b\b\b\b\b\b\b\b\b\b\b\b\b\b\b\b\b\b\b\b\b\b\b\b\b\b\b\b\b\b\b\b\b\b\b\b\b\b\b\b\b\b\b\b\b\b\b\b\b\b\b\b\b\b\b\b\b\b\b\b\b\b\b\b\b\b\b\b\b\r37\/37 [==============================] - 0s 3ms\/step - loss: 37475768.0000 - val_loss: 38607140.0000\n",
            "Epoch 95\/300\n",
            "\r 1\/37 [..............................] - ETA: 0s - loss: 37528040.0000\b\b\b\b\b\b\b\b\b\b\b\b\b\b\b\b\b\b\b\b\b\b\b\b\b\b\b\b\b\b\b\b\b\b\b\b\b\b\b\b\b\b\b\b\b\b\b\b\b\b\b\b\b\b\b\b\b\b\b\b\b\b\b\b\b\b\b\b\b\b\r32\/37 [========================>.....] - ETA: 0s - loss: 37010580.0000\b\b\b\b\b\b\b\b\b\b\b\b\b\b\b\b\b\b\b\b\b\b\b\b\b\b\b\b\b\b\b\b\b\b\b\b\b\b\b\b\b\b\b\b\b\b\b\b\b\b\b\b\b\b\b\b\b\b\b\b\b\b\b\b\b\b\b\b\b\b\r37\/37 [==============================] - 0s 3ms\/step - loss: 36653032.0000 - val_loss: 37764208.0000\n",
            "Epoch 96\/300\n",
            "\r 1\/37 [..............................] - ETA: 0s - loss: 37028148.0000\b\b\b\b\b\b\b\b\b\b\b\b\b\b\b\b\b\b\b\b\b\b\b\b\b\b\b\b\b\b\b\b\b\b\b\b\b\b\b\b\b\b\b\b\b\b\b\b\b\b\b\b\b\b\b\b\b\b\b\b\b\b\b\b\b\b\b\b\b\b\r31\/37 [========================>.....] - ETA: 0s - loss: 35684156.0000\b\b\b\b\b\b\b\b\b\b\b\b\b\b\b\b\b\b\b\b\b\b\b\b\b\b\b\b\b\b\b\b\b\b\b\b\b\b\b\b\b\b\b\b\b\b\b\b\b\b\b\b\b\b\b\b\b\b\b\b\b\b\b\b\b\b\b\b\b\b\r37\/37 [==============================] - 0s 3ms\/step - loss: 35873192.0000 - val_loss: 36984624.0000\n",
            "Epoch 97\/300\n",
            "\r 1\/37 [..............................] - ETA: 0s - loss: 29264752.0000\b\b\b\b\b\b\b\b\b\b\b\b\b\b\b\b\b\b\b\b\b\b\b\b\b\b\b\b\b\b\b\b\b\b\b\b\b\b\b\b\b\b\b\b\b\b\b\b\b\b\b\b\b\b\b\b\b\b\b\b\b\b\b\b\b\b\b\b\b\b\r33\/37 [=========================>....] - ETA: 0s - loss: 35312820.0000\b\b\b\b\b\b\b\b\b\b\b\b\b\b\b\b\b\b\b\b\b\b\b\b\b\b\b\b\b\b\b\b\b\b\b\b\b\b\b\b\b\b\b\b\b\b\b\b\b\b\b\b\b\b\b\b\b\b\b\b\b\b\b\b\b\b\b\b\b\b\r37\/37 [==============================] - 0s 3ms\/step - loss: 35080776.0000 - val_loss: 36222196.0000\n",
            "Epoch 98\/300\n",
            "\r 1\/37 [..............................] - ETA: 0s - loss: 32679572.0000\b\b\b\b\b\b\b\b\b\b\b\b\b\b\b\b\b\b\b\b\b\b\b\b\b\b\b\b\b\b\b\b\b\b\b\b\b\b\b\b\b\b\b\b\b\b\b\b\b\b\b\b\b\b\b\b\b\b\b\b\b\b\b\b\b\b\b\b\b\b\r34\/37 [==========================>...] - ETA: 0s - loss: 34378028.0000\b\b\b\b\b\b\b\b\b\b\b\b\b\b\b\b\b\b\b\b\b\b\b\b\b\b\b\b\b\b\b\b\b\b\b\b\b\b\b\b\b\b\b\b\b\b\b\b\b\b\b\b\b\b\b\b\b\b\b\b\b\b\b\b\b\b\b\b\b\b\r37\/37 [==============================] - 0s 3ms\/step - loss: 34387920.0000 - val_loss: 35427792.0000\n",
            "Epoch 99\/300\n",
            "\r 1\/37 [..............................] - ETA: 0s - loss: 27902532.0000\b\b\b\b\b\b\b\b\b\b\b\b\b\b\b\b\b\b\b\b\b\b\b\b\b\b\b\b\b\b\b\b\b\b\b\b\b\b\b\b\b\b\b\b\b\b\b\b\b\b\b\b\b\b\b\b\b\b\b\b\b\b\b\b\b\b\b\b\b\b\r37\/37 [==============================] - ETA: 0s - loss: 33607204.0000\b\b\b\b\b\b\b\b\b\b\b\b\b\b\b\b\b\b\b\b\b\b\b\b\b\b\b\b\b\b\b\b\b\b\b\b\b\b\b\b\b\b\b\b\b\b\b\b\b\b\b\b\b\b\b\b\b\b\b\b\b\b\b\b\b\b\b\b\b\b\r37\/37 [==============================] - 0s 3ms\/step - loss: 33607204.0000 - val_loss: 34690620.0000\n",
            "Epoch 100\/300\n",
            "\r 1\/37 [..............................] - ETA: 0s - loss: 37237876.0000\b\b\b\b\b\b\b\b\b\b\b\b\b\b\b\b\b\b\b\b\b\b\b\b\b\b\b\b\b\b\b\b\b\b\b\b\b\b\b\b\b\b\b\b\b\b\b\b\b\b\b\b\b\b\b\b\b\b\b\b\b\b\b\b\b\b\b\b\b\b\r32\/37 [========================>.....] - ETA: 0s - loss: 33250128.0000\b\b\b\b\b\b\b\b\b\b\b\b\b\b\b\b\b\b\b\b\b\b\b\b\b\b\b\b\b\b\b\b\b\b\b\b\b\b\b\b\b\b\b\b\b\b\b\b\b\b\b\b\b\b\b\b\b\b\b\b\b\b\b\b\b\b\b\b\b\b\r37\/37 [==============================] - 0s 3ms\/step - loss: 32901390.0000 - val_loss: 33964492.0000\n",
            "Epoch 101\/300\n",
            "\r 1\/37 [..............................] - ETA: 0s - loss: 37640948.0000\b\b\b\b\b\b\b\b\b\b\b\b\b\b\b\b\b\b\b\b\b\b\b\b\b\b\b\b\b\b\b\b\b\b\b\b\b\b\b\b\b\b\b\b\b\b\b\b\b\b\b\b\b\b\b\b\b\b\b\b\b\b\b\b\b\b\b\b\b\b\r32\/37 [========================>.....] - ETA: 0s - loss: 32700166.0000\b\b\b\b\b\b\b\b\b\b\b\b\b\b\b\b\b\b\b\b\b\b\b\b\b\b\b\b\b\b\b\b\b\b\b\b\b\b\b\b\b\b\b\b\b\b\b\b\b\b\b\b\b\b\b\b\b\b\b\b\b\b\b\b\b\b\b\b\b\b\r37\/37 [==============================] - 0s 3ms\/step - loss: 32231910.0000 - val_loss: 33277652.0000\n",
            "Epoch 102\/300\n",
            "\r 1\/37 [..............................] - ETA: 0s - loss: 29822882.0000\b\b\b\b\b\b\b\b\b\b\b\b\b\b\b\b\b\b\b\b\b\b\b\b\b\b\b\b\b\b\b\b\b\b\b\b\b\b\b\b\b\b\b\b\b\b\b\b\b\b\b\b\b\b\b\b\b\b\b\b\b\b\b\b\b\b\b\b\b\b\r31\/37 [========================>.....] - ETA: 0s - loss: 31959132.0000\b\b\b\b\b\b\b\b\b\b\b\b\b\b\b\b\b\b\b\b\b\b\b\b\b\b\b\b\b\b\b\b\b\b\b\b\b\b\b\b\b\b\b\b\b\b\b\b\b\b\b\b\b\b\b\b\b\b\b\b\b\b\b\b\b\b\b\b\b\b\r37\/37 [==============================] - 0s 3ms\/step - loss: 31572688.0000 - val_loss: 32595060.0000\n",
            "Epoch 103\/300\n",
            "\r 1\/37 [..............................] - ETA: 0s - loss: 37020564.0000\b\b\b\b\b\b\b\b\b\b\b\b\b\b\b\b\b\b\b\b\b\b\b\b\b\b\b\b\b\b\b\b\b\b\b\b\b\b\b\b\b\b\b\b\b\b\b\b\b\b\b\b\b\b\b\b\b\b\b\b\b\b\b\b\b\b\b\b\b\b\r31\/37 [========================>.....] - ETA: 0s - loss: 30978296.0000\b\b\b\b\b\b\b\b\b\b\b\b\b\b\b\b\b\b\b\b\b\b\b\b\b\b\b\b\b\b\b\b\b\b\b\b\b\b\b\b\b\b\b\b\b\b\b\b\b\b\b\b\b\b\b\b\b\b\b\b\b\b\b\b\b\b\b\b\b\b\r37\/37 [==============================] - 0s 3ms\/step - loss: 30937714.0000 - val_loss: 31996566.0000\n",
            "Epoch 104\/300\n",
            "\r 1\/37 [..............................] - ETA: 0s - loss: 25868254.0000\b\b\b\b\b\b\b\b\b\b\b\b\b\b\b\b\b\b\b\b\b\b\b\b\b\b\b\b\b\b\b\b\b\b\b\b\b\b\b\b\b\b\b\b\b\b\b\b\b\b\b\b\b\b\b\b\b\b\b\b\b\b\b\b\b\b\b\b\b\b\r32\/37 [========================>.....] - ETA: 0s - loss: 29485814.0000\b\b\b\b\b\b\b\b\b\b\b\b\b\b\b\b\b\b\b\b\b\b\b\b\b\b\b\b\b\b\b\b\b\b\b\b\b\b\b\b\b\b\b\b\b\b\b\b\b\b\b\b\b\b\b\b\b\b\b\b\b\b\b\b\b\b\b\b\b\b\r37\/37 [==============================] - 0s 3ms\/step - loss: 30303150.0000 - val_loss: 31499700.0000\n",
            "Epoch 105\/300\n",
            "\r 1\/37 [..............................] - ETA: 0s - loss: 31382606.0000\b\b\b\b\b\b\b\b\b\b\b\b\b\b\b\b\b\b\b\b\b\b\b\b\b\b\b\b\b\b\b\b\b\b\b\b\b\b\b\b\b\b\b\b\b\b\b\b\b\b\b\b\b\b\b\b\b\b\b\b\b\b\b\b\b\b\b\b\b\b\r30\/37 [=======================>......] - ETA: 0s - loss: 29856678.0000\b\b\b\b\b\b\b\b\b\b\b\b\b\b\b\b\b\b\b\b\b\b\b\b\b\b\b\b\b\b\b\b\b\b\b\b\b\b\b\b\b\b\b\b\b\b\b\b\b\b\b\b\b\b\b\b\b\b\b\b\b\b\b\b\b\b\b\b\b\b\r37\/37 [==============================] - 0s 3ms\/step - loss: 29789602.0000 - val_loss: 30811270.0000\n",
            "Epoch 106\/300\n",
            "\r 1\/37 [..............................] - ETA: 0s - loss: 27094868.0000\b\b\b\b\b\b\b\b\b\b\b\b\b\b\b\b\b\b\b\b\b\b\b\b\b\b\b\b\b\b\b\b\b\b\b\b\b\b\b\b\b\b\b\b\b\b\b\b\b\b\b\b\b\b\b\b\b\b\b\b\b\b\b\b\b\b\b\b\b\b\r30\/37 [=======================>......] - ETA: 0s - loss: 28547400.0000\b\b\b\b\b\b\b\b\b\b\b\b\b\b\b\b\b\b\b\b\b\b\b\b\b\b\b\b\b\b\b\b\b\b\b\b\b\b\b\b\b\b\b\b\b\b\b\b\b\b\b\b\b\b\b\b\b\b\b\b\b\b\b\b\b\b\b\b\b\b\r37\/37 [==============================] - 0s 3ms\/step - loss: 29219896.0000 - val_loss: 30267582.0000\n",
            "Epoch 107\/300\n",
            "\r 1\/37 [..............................] - ETA: 0s - loss: 31030526.0000\b\b\b\b\b\b\b\b\b\b\b\b\b\b\b\b\b\b\b\b\b\b\b\b\b\b\b\b\b\b\b\b\b\b\b\b\b\b\b\b\b\b\b\b\b\b\b\b\b\b\b\b\b\b\b\b\b\b\b\b\b\b\b\b\b\b\b\b\b\b\r33\/37 [=========================>....] - ETA: 0s - loss: 28688500.0000\b\b\b\b\b\b\b\b\b\b\b\b\b\b\b\b\b\b\b\b\b\b\b\b\b\b\b\b\b\b\b\b\b\b\b\b\b\b\b\b\b\b\b\b\b\b\b\b\b\b\b\b\b\b\b\b\b\b\b\b\b\b\b\b\b\b\b\b\b\b\r37\/37 [==============================] - 0s 3ms\/step - loss: 28706634.0000 - val_loss: 29771830.0000\n",
            "Epoch 108\/300\n",
            "\r 1\/37 [..............................] - ETA: 0s - loss: 27064216.0000\b\b\b\b\b\b\b\b\b\b\b\b\b\b\b\b\b\b\b\b\b\b\b\b\b\b\b\b\b\b\b\b\b\b\b\b\b\b\b\b\b\b\b\b\b\b\b\b\b\b\b\b\b\b\b\b\b\b\b\b\b\b\b\b\b\b\b\b\b\b\r31\/37 [========================>.....] - ETA: 0s - loss: 28213312.0000\b\b\b\b\b\b\b\b\b\b\b\b\b\b\b\b\b\b\b\b\b\b\b\b\b\b\b\b\b\b\b\b\b\b\b\b\b\b\b\b\b\b\b\b\b\b\b\b\b\b\b\b\b\b\b\b\b\b\b\b\b\b\b\b\b\b\b\b\b\b\r37\/37 [==============================] - 0s 3ms\/step - loss: 28224696.0000 - val_loss: 29284024.0000\n",
            "Epoch 109\/300\n",
            "\r 1\/37 [..............................] - ETA: 0s - loss: 28015258.0000\b\b\b\b\b\b\b\b\b\b\b\b\b\b\b\b\b\b\b\b\b\b\b\b\b\b\b\b\b\b\b\b\b\b\b\b\b\b\b\b\b\b\b\b\b\b\b\b\b\b\b\b\b\b\b\b\b\b\b\b\b\b\b\b\b\b\b\b\b\b\r36\/37 [============================>.] - ETA: 0s - loss: 27588418.0000\b\b\b\b\b\b\b\b\b\b\b\b\b\b\b\b\b\b\b\b\b\b\b\b\b\b\b\b\b\b\b\b\b\b\b\b\b\b\b\b\b\b\b\b\b\b\b\b\b\b\b\b\b\b\b\b\b\b\b\b\b\b\b\b\b\b\b\b\b\b\r37\/37 [==============================] - 0s 2ms\/step - loss: 27743366.0000 - val_loss: 28840744.0000\n",
            "Epoch 110\/300\n",
            "\r 1\/37 [..............................] - ETA: 0s - loss: 28564442.0000\b\b\b\b\b\b\b\b\b\b\b\b\b\b\b\b\b\b\b\b\b\b\b\b\b\b\b\b\b\b\b\b\b\b\b\b\b\b\b\b\b\b\b\b\b\b\b\b\b\b\b\b\b\b\b\b\b\b\b\b\b\b\b\b\b\b\b\b\b\b\r32\/37 [========================>.....] - ETA: 0s - loss: 27302786.0000\b\b\b\b\b\b\b\b\b\b\b\b\b\b\b\b\b\b\b\b\b\b\b\b\b\b\b\b\b\b\b\b\b\b\b\b\b\b\b\b\b\b\b\b\b\b\b\b\b\b\b\b\b\b\b\b\b\b\b\b\b\b\b\b\b\b\b\b\b\b\r37\/37 [==============================] - 0s 3ms\/step - loss: 27335516.0000 - val_loss: 28397040.0000\n",
            "Epoch 111\/300\n",
            "\r 1\/37 [..............................] - ETA: 0s - loss: 38515020.0000\b\b\b\b\b\b\b\b\b\b\b\b\b\b\b\b\b\b\b\b\b\b\b\b\b\b\b\b\b\b\b\b\b\b\b\b\b\b\b\b\b\b\b\b\b\b\b\b\b\b\b\b\b\b\b\b\b\b\b\b\b\b\b\b\b\b\b\b\b\b\r31\/37 [========================>.....] - ETA: 0s - loss: 26647810.0000\b\b\b\b\b\b\b\b\b\b\b\b\b\b\b\b\b\b\b\b\b\b\b\b\b\b\b\b\b\b\b\b\b\b\b\b\b\b\b\b\b\b\b\b\b\b\b\b\b\b\b\b\b\b\b\b\b\b\b\b\b\b\b\b\b\b\b\b\b\b\r37\/37 [==============================] - 0s 3ms\/step - loss: 26910330.0000 - val_loss: 28036232.0000\n",
            "Epoch 112\/300\n",
            "\r 1\/37 [..............................] - ETA: 0s - loss: 26882780.0000\b\b\b\b\b\b\b\b\b\b\b\b\b\b\b\b\b\b\b\b\b\b\b\b\b\b\b\b\b\b\b\b\b\b\b\b\b\b\b\b\b\b\b\b\b\b\b\b\b\b\b\b\b\b\b\b\b\b\b\b\b\b\b\b\b\b\b\b\b\b\r30\/37 [=======================>......] - ETA: 0s - loss: 26434526.0000\b\b\b\b\b\b\b\b\b\b\b\b\b\b\b\b\b\b\b\b\b\b\b\b\b\b\b\b\b\b\b\b\b\b\b\b\b\b\b\b\b\b\b\b\b\b\b\b\b\b\b\b\b\b\b\b\b\b\b\b\b\b\b\b\b\b\b\b\b\b\r37\/37 [==============================] - 0s 3ms\/step - loss: 26485840.0000 - val_loss: 27622002.0000\n",
            "Epoch 113\/300\n",
            "\r 1\/37 [..............................] - ETA: 0s - loss: 19269860.0000\b\b\b\b\b\b\b\b\b\b\b\b\b\b\b\b\b\b\b\b\b\b\b\b\b\b\b\b\b\b\b\b\b\b\b\b\b\b\b\b\b\b\b\b\b\b\b\b\b\b\b\b\b\b\b\b\b\b\b\b\b\b\b\b\b\b\b\b\b\b\r34\/37 [==========================>...] - ETA: 0s - loss: 26170850.0000\b\b\b\b\b\b\b\b\b\b\b\b\b\b\b\b\b\b\b\b\b\b\b\b\b\b\b\b\b\b\b\b\b\b\b\b\b\b\b\b\b\b\b\b\b\b\b\b\b\b\b\b\b\b\b\b\b\b\b\b\b\b\b\b\b\b\b\b\b\b\r37\/37 [==============================] - 0s 3ms\/step - loss: 26132278.0000 - val_loss: 27254134.0000\n",
            "Epoch 114\/300\n",
            "\r 1\/37 [..............................] - ETA: 0s - loss: 20847022.0000\b\b\b\b\b\b\b\b\b\b\b\b\b\b\b\b\b\b\b\b\b\b\b\b\b\b\b\b\b\b\b\b\b\b\b\b\b\b\b\b\b\b\b\b\b\b\b\b\b\b\b\b\b\b\b\b\b\b\b\b\b\b\b\b\b\b\b\b\b\b\r30\/37 [=======================>......] - ETA: 0s - loss: 25863504.0000\b\b\b\b\b\b\b\b\b\b\b\b\b\b\b\b\b\b\b\b\b\b\b\b\b\b\b\b\b\b\b\b\b\b\b\b\b\b\b\b\b\b\b\b\b\b\b\b\b\b\b\b\b\b\b\b\b\b\b\b\b\b\b\b\b\b\b\b\b\b\r37\/37 [==============================] - 0s 3ms\/step - loss: 25783536.0000 - val_loss: 26916002.0000\n",
            "Epoch 115\/300\n",
            "\r 1\/37 [..............................] - ETA: 0s - loss: 27002696.0000\b\b\b\b\b\b\b\b\b\b\b\b\b\b\b\b\b\b\b\b\b\b\b\b\b\b\b\b\b\b\b\b\b\b\b\b\b\b\b\b\b\b\b\b\b\b\b\b\b\b\b\b\b\b\b\b\b\b\b\b\b\b\b\b\b\b\b\b\b\b\r32\/37 [========================>.....] - ETA: 0s - loss: 25759554.0000\b\b\b\b\b\b\b\b\b\b\b\b\b\b\b\b\b\b\b\b\b\b\b\b\b\b\b\b\b\b\b\b\b\b\b\b\b\b\b\b\b\b\b\b\b\b\b\b\b\b\b\b\b\b\b\b\b\b\b\b\b\b\b\b\b\b\b\b\b\b\r37\/37 [==============================] - 0s 3ms\/step - loss: 25481176.0000 - val_loss: 26639810.0000\n",
            "Epoch 116\/300\n",
            "\r 1\/37 [..............................] - ETA: 0s - loss: 19623912.0000\b\b\b\b\b\b\b\b\b\b\b\b\b\b\b\b\b\b\b\b\b\b\b\b\b\b\b\b\b\b\b\b\b\b\b\b\b\b\b\b\b\b\b\b\b\b\b\b\b\b\b\b\b\b\b\b\b\b\b\b\b\b\b\b\b\b\b\b\b\b\r29\/37 [======================>.......] - ETA: 0s - loss: 25093812.0000\b\b\b\b\b\b\b\b\b\b\b\b\b\b\b\b\b\b\b\b\b\b\b\b\b\b\b\b\b\b\b\b\b\b\b\b\b\b\b\b\b\b\b\b\b\b\b\b\b\b\b\b\b\b\b\b\b\b\b\b\b\b\b\b\b\b\b\b\b\b\r37\/37 [==============================] - 0s 3ms\/step - loss: 25166552.0000 - val_loss: 26318162.0000\n",
            "Epoch 117\/300\n",
            "\r 1\/37 [..............................] - ETA: 0s - loss: 32003380.0000\b\b\b\b\b\b\b\b\b\b\b\b\b\b\b\b\b\b\b\b\b\b\b\b\b\b\b\b\b\b\b\b\b\b\b\b\b\b\b\b\b\b\b\b\b\b\b\b\b\b\b\b\b\b\b\b\b\b\b\b\b\b\b\b\b\b\b\b\b\b\r37\/37 [==============================] - 0s 3ms\/step - loss: 24906838.0000 - val_loss: 26053698.0000\n",
            "Epoch 118\/300\n",
            "\r 1\/37 [..............................] - ETA: 0s - loss: 23130830.0000\b\b\b\b\b\b\b\b\b\b\b\b\b\b\b\b\b\b\b\b\b\b\b\b\b\b\b\b\b\b\b\b\b\b\b\b\b\b\b\b\b\b\b\b\b\b\b\b\b\b\b\b\b\b\b\b\b\b\b\b\b\b\b\b\b\b\b\b\b\b\r36\/37 [============================>.] - ETA: 0s - loss: 24698766.0000\b\b\b\b\b\b\b\b\b\b\b\b\b\b\b\b\b\b\b\b\b\b\b\b\b\b\b\b\b\b\b\b\b\b\b\b\b\b\b\b\b\b\b\b\b\b\b\b\b\b\b\b\b\b\b\b\b\b\b\b\b\b\b\b\b\b\b\b\b\b\r37\/37 [==============================] - 0s 3ms\/step - loss: 24654732.0000 - val_loss: 25829406.0000\n",
            "Epoch 119\/300\n",
            "\r 1\/37 [..............................] - ETA: 0s - loss: 22308292.0000\b\b\b\b\b\b\b\b\b\b\b\b\b\b\b\b\b\b\b\b\b\b\b\b\b\b\b\b\b\b\b\b\b\b\b\b\b\b\b\b\b\b\b\b\b\b\b\b\b\b\b\b\b\b\b\b\b\b\b\b\b\b\b\b\b\b\b\b\b\b\r37\/37 [==============================] - 0s 3ms\/step - loss: 24441692.0000 - val_loss: 25621034.0000\n",
            "Epoch 120\/300\n",
            "\r 1\/37 [..............................] - ETA: 0s - loss: 27300226.0000\b\b\b\b\b\b\b\b\b\b\b\b\b\b\b\b\b\b\b\b\b\b\b\b\b\b\b\b\b\b\b\b\b\b\b\b\b\b\b\b\b\b\b\b\b\b\b\b\b\b\b\b\b\b\b\b\b\b\b\b\b\b\b\b\b\b\b\b\b\b\r37\/37 [==============================] - ETA: 0s - loss: 24231640.0000\b\b\b\b\b\b\b\b\b\b\b\b\b\b\b\b\b\b\b\b\b\b\b\b\b\b\b\b\b\b\b\b\b\b\b\b\b\b\b\b\b\b\b\b\b\b\b\b\b\b\b\b\b\b\b\b\b\b\b\b\b\b\b\b\b\b\b\b\b\b\r37\/37 [==============================] - 0s 2ms\/step - loss: 24231640.0000 - val_loss: 25431722.0000\n",
            "Epoch 121\/300\n",
            "\r 1\/37 [..............................] - ETA: 0s - loss: 25095008.0000\b\b\b\b\b\b\b\b\b\b\b\b\b\b\b\b\b\b\b\b\b\b\b\b\b\b\b\b\b\b\b\b\b\b\b\b\b\b\b\b\b\b\b\b\b\b\b\b\b\b\b\b\b\b\b\b\b\b\b\b\b\b\b\b\b\b\b\b\b\b\r37\/37 [==============================] - ETA: 0s - loss: 24066802.0000\b\b\b\b\b\b\b\b\b\b\b\b\b\b\b\b\b\b\b\b\b\b\b\b\b\b\b\b\b\b\b\b\b\b\b\b\b\b\b\b\b\b\b\b\b\b\b\b\b\b\b\b\b\b\b\b\b\b\b\b\b\b\b\b\b\b\b\b\b\b\r37\/37 [==============================] - 0s 3ms\/step - loss: 24066802.0000 - val_loss: 25257280.0000\n",
            "Epoch 122\/300\n",
            "\r 1\/37 [..............................] - ETA: 0s - loss: 21267308.0000\b\b\b\b\b\b\b\b\b\b\b\b\b\b\b\b\b\b\b\b\b\b\b\b\b\b\b\b\b\b\b\b\b\b\b\b\b\b\b\b\b\b\b\b\b\b\b\b\b\b\b\b\b\b\b\b\b\b\b\b\b\b\b\b\b\b\b\b\b\b\r37\/37 [==============================] - 0s 2ms\/step - loss: 23902694.0000 - val_loss: 25132136.0000\n",
            "Epoch 123\/300\n",
            "\r 1\/37 [..............................] - ETA: 0s - loss: 24126526.0000\b\b\b\b\b\b\b\b\b\b\b\b\b\b\b\b\b\b\b\b\b\b\b\b\b\b\b\b\b\b\b\b\b\b\b\b\b\b\b\b\b\b\b\b\b\b\b\b\b\b\b\b\b\b\b\b\b\b\b\b\b\b\b\b\b\b\b\b\b\b\r37\/37 [==============================] - ETA: 0s - loss: 23744380.0000\b\b\b\b\b\b\b\b\b\b\b\b\b\b\b\b\b\b\b\b\b\b\b\b\b\b\b\b\b\b\b\b\b\b\b\b\b\b\b\b\b\b\b\b\b\b\b\b\b\b\b\b\b\b\b\b\b\b\b\b\b\b\b\b\b\b\b\b\b\b\r37\/37 [==============================] - 0s 2ms\/step - loss: 23744380.0000 - val_loss: 24949060.0000\n",
            "Epoch 124\/300\n",
            "\r 1\/37 [..............................] - ETA: 0s - loss: 27222942.0000\b\b\b\b\b\b\b\b\b\b\b\b\b\b\b\b\b\b\b\b\b\b\b\b\b\b\b\b\b\b\b\b\b\b\b\b\b\b\b\b\b\b\b\b\b\b\b\b\b\b\b\b\b\b\b\b\b\b\b\b\b\b\b\b\b\b\b\b\b\b\r37\/37 [==============================] - 0s 3ms\/step - loss: 23601996.0000 - val_loss: 24853466.0000\n",
            "Epoch 125\/300\n",
            "\r 1\/37 [..............................] - ETA: 0s - loss: 24150490.0000\b\b\b\b\b\b\b\b\b\b\b\b\b\b\b\b\b\b\b\b\b\b\b\b\b\b\b\b\b\b\b\b\b\b\b\b\b\b\b\b\b\b\b\b\b\b\b\b\b\b\b\b\b\b\b\b\b\b\b\b\b\b\b\b\b\b\b\b\b\b\r37\/37 [==============================] - 0s 3ms\/step - loss: 23484256.0000 - val_loss: 24705204.0000\n",
            "Epoch 126\/300\n",
            "\r 1\/37 [..............................] - ETA: 0s - loss: 20865386.0000\b\b\b\b\b\b\b\b\b\b\b\b\b\b\b\b\b\b\b\b\b\b\b\b\b\b\b\b\b\b\b\b\b\b\b\b\b\b\b\b\b\b\b\b\b\b\b\b\b\b\b\b\b\b\b\b\b\b\b\b\b\b\b\b\b\b\b\b\b\b\r37\/37 [==============================] - 0s 2ms\/step - loss: 23371978.0000 - val_loss: 24579532.0000\n",
            "Epoch 127\/300\n",
            "\r 1\/37 [..............................] - ETA: 0s - loss: 18177800.0000\b\b\b\b\b\b\b\b\b\b\b\b\b\b\b\b\b\b\b\b\b\b\b\b\b\b\b\b\b\b\b\b\b\b\b\b\b\b\b\b\b\b\b\b\b\b\b\b\b\b\b\b\b\b\b\b\b\b\b\b\b\b\b\b\b\b\b\b\b\b\r36\/37 [============================>.] - ETA: 0s - loss: 23386084.0000\b\b\b\b\b\b\b\b\b\b\b\b\b\b\b\b\b\b\b\b\b\b\b\b\b\b\b\b\b\b\b\b\b\b\b\b\b\b\b\b\b\b\b\b\b\b\b\b\b\b\b\b\b\b\b\b\b\b\b\b\b\b\b\b\b\b\b\b\b\b\r37\/37 [==============================] - 0s 2ms\/step - loss: 23274170.0000 - val_loss: 24451840.0000\n",
            "Epoch 128\/300\n",
            "\r 1\/37 [..............................] - ETA: 0s - loss: 19748806.0000\b\b\b\b\b\b\b\b\b\b\b\b\b\b\b\b\b\b\b\b\b\b\b\b\b\b\b\b\b\b\b\b\b\b\b\b\b\b\b\b\b\b\b\b\b\b\b\b\b\b\b\b\b\b\b\b\b\b\b\b\b\b\b\b\b\b\b\b\b\b\r36\/37 [============================>.] - ETA: 0s - loss: 23164188.0000\b\b\b\b\b\b\b\b\b\b\b\b\b\b\b\b\b\b\b\b\b\b\b\b\b\b\b\b\b\b\b\b\b\b\b\b\b\b\b\b\b\b\b\b\b\b\b\b\b\b\b\b\b\b\b\b\b\b\b\b\b\b\b\b\b\b\b\b\b\b\r37\/37 [==============================] - 0s 3ms\/step - loss: 23158946.0000 - val_loss: 24365510.0000\n",
            "Epoch 129\/300\n",
            "\r 1\/37 [..............................] - ETA: 0s - loss: 24744296.0000\b\b\b\b\b\b\b\b\b\b\b\b\b\b\b\b\b\b\b\b\b\b\b\b\b\b\b\b\b\b\b\b\b\b\b\b\b\b\b\b\b\b\b\b\b\b\b\b\b\b\b\b\b\b\b\b\b\b\b\b\b\b\b\b\b\b\b\b\b\b\r36\/37 [============================>.] - ETA: 0s - loss: 22998050.0000\b\b\b\b\b\b\b\b\b\b\b\b\b\b\b\b\b\b\b\b\b\b\b\b\b\b\b\b\b\b\b\b\b\b\b\b\b\b\b\b\b\b\b\b\b\b\b\b\b\b\b\b\b\b\b\b\b\b\b\b\b\b\b\b\b\b\b\b\b\b\r37\/37 [==============================] - 0s 3ms\/step - loss: 23026604.0000 - val_loss: 24237764.0000\n",
            "Epoch 130\/300\n",
            "\r 1\/37 [..............................] - ETA: 0s - loss: 23240702.0000\b\b\b\b\b\b\b\b\b\b\b\b\b\b\b\b\b\b\b\b\b\b\b\b\b\b\b\b\b\b\b\b\b\b\b\b\b\b\b\b\b\b\b\b\b\b\b\b\b\b\b\b\b\b\b\b\b\b\b\b\b\b\b\b\b\b\b\b\b\b\r36\/37 [============================>.] - ETA: 0s - loss: 22855412.0000\b\b\b\b\b\b\b\b\b\b\b\b\b\b\b\b\b\b\b\b\b\b\b\b\b\b\b\b\b\b\b\b\b\b\b\b\b\b\b\b\b\b\b\b\b\b\b\b\b\b\b\b\b\b\b\b\b\b\b\b\b\b\b\b\b\b\b\b\b\b\r37\/37 [==============================] - 0s 3ms\/step - loss: 22937572.0000 - val_loss: 24151170.0000\n",
            "Epoch 131\/300\n",
            "\r 1\/37 [..............................] - ETA: 0s - loss: 22477364.0000\b\b\b\b\b\b\b\b\b\b\b\b\b\b\b\b\b\b\b\b\b\b\b\b\b\b\b\b\b\b\b\b\b\b\b\b\b\b\b\b\b\b\b\b\b\b\b\b\b\b\b\b\b\b\b\b\b\b\b\b\b\b\b\b\b\b\b\b\b\b\r36\/37 [============================>.] - ETA: 0s - loss: 22773940.0000\b\b\b\b\b\b\b\b\b\b\b\b\b\b\b\b\b\b\b\b\b\b\b\b\b\b\b\b\b\b\b\b\b\b\b\b\b\b\b\b\b\b\b\b\b\b\b\b\b\b\b\b\b\b\b\b\b\b\b\b\b\b\b\b\b\b\b\b\b\b\r37\/37 [==============================] - 0s 2ms\/step - loss: 22861162.0000 - val_loss: 24048986.0000\n",
            "Epoch 132\/300\n",
            "\r 1\/37 [..............................] - ETA: 0s - loss: 26362278.0000\b\b\b\b\b\b\b\b\b\b\b\b\b\b\b\b\b\b\b\b\b\b\b\b\b\b\b\b\b\b\b\b\b\b\b\b\b\b\b\b\b\b\b\b\b\b\b\b\b\b\b\b\b\b\b\b\b\b\b\b\b\b\b\b\b\b\b\b\b\b\r37\/37 [==============================] - 0s 2ms\/step - loss: 22752308.0000 - val_loss: 23956490.0000\n",
            "Epoch 133\/300\n",
            "\r 1\/37 [..............................] - ETA: 0s - loss: 18227270.0000\b\b\b\b\b\b\b\b\b\b\b\b\b\b\b\b\b\b\b\b\b\b\b\b\b\b\b\b\b\b\b\b\b\b\b\b\b\b\b\b\b\b\b\b\b\b\b\b\b\b\b\b\b\b\b\b\b\b\b\b\b\b\b\b\b\b\b\b\b\b\r37\/37 [==============================] - 0s 3ms\/step - loss: 22674190.0000 - val_loss: 23879408.0000\n",
            "Epoch 134\/300\n",
            "\r 1\/37 [..............................] - ETA: 0s - loss: 24168624.0000\b\b\b\b\b\b\b\b\b\b\b\b\b\b\b\b\b\b\b\b\b\b\b\b\b\b\b\b\b\b\b\b\b\b\b\b\b\b\b\b\b\b\b\b\b\b\b\b\b\b\b\b\b\b\b\b\b\b\b\b\b\b\b\b\b\b\b\b\b\b\r37\/37 [==============================] - 0s 3ms\/step - loss: 22582988.0000 - val_loss: 23802744.0000\n",
            "Epoch 135\/300\n",
            "\r 1\/37 [..............................] - ETA: 0s - loss: 19574506.0000\b\b\b\b\b\b\b\b\b\b\b\b\b\b\b\b\b\b\b\b\b\b\b\b\b\b\b\b\b\b\b\b\b\b\b\b\b\b\b\b\b\b\b\b\b\b\b\b\b\b\b\b\b\b\b\b\b\b\b\b\b\b\b\b\b\b\b\b\b\b\r37\/37 [==============================] - 0s 2ms\/step - loss: 22513006.0000 - val_loss: 23720068.0000\n",
            "Epoch 136\/300\n",
            "\r 1\/37 [..............................] - ETA: 0s - loss: 32298988.0000\b\b\b\b\b\b\b\b\b\b\b\b\b\b\b\b\b\b\b\b\b\b\b\b\b\b\b\b\b\b\b\b\b\b\b\b\b\b\b\b\b\b\b\b\b\b\b\b\b\b\b\b\b\b\b\b\b\b\b\b\b\b\b\b\b\b\b\b\b\b\r37\/37 [==============================] - 0s 2ms\/step - loss: 22439094.0000 - val_loss: 23662210.0000\n",
            "Epoch 137\/300\n",
            "\r 1\/37 [..............................] - ETA: 0s - loss: 22781976.0000\b\b\b\b\b\b\b\b\b\b\b\b\b\b\b\b\b\b\b\b\b\b\b\b\b\b\b\b\b\b\b\b\b\b\b\b\b\b\b\b\b\b\b\b\b\b\b\b\b\b\b\b\b\b\b\b\b\b\b\b\b\b\b\b\b\b\b\b\b\b\r37\/37 [==============================] - 0s 2ms\/step - loss: 22370502.0000 - val_loss: 23584686.0000\n",
            "Epoch 138\/300\n",
            "\r 1\/37 [..............................] - ETA: 0s - loss: 25897008.0000\b\b\b\b\b\b\b\b\b\b\b\b\b\b\b\b\b\b\b\b\b\b\b\b\b\b\b\b\b\b\b\b\b\b\b\b\b\b\b\b\b\b\b\b\b\b\b\b\b\b\b\b\b\b\b\b\b\b\b\b\b\b\b\b\b\b\b\b\b\b\r37\/37 [==============================] - 0s 2ms\/step - loss: 22313800.0000 - val_loss: 23518352.0000\n",
            "Epoch 139\/300\n",
            "\r 1\/37 [..............................] - ETA: 0s - loss: 27927796.0000\b\b\b\b\b\b\b\b\b\b\b\b\b\b\b\b\b\b\b\b\b\b\b\b\b\b\b\b\b\b\b\b\b\b\b\b\b\b\b\b\b\b\b\b\b\b\b\b\b\b\b\b\b\b\b\b\b\b\b\b\b\b\b\b\b\b\b\b\b\b\r36\/37 [============================>.] - ETA: 0s - loss: 22217244.0000\b\b\b\b\b\b\b\b\b\b\b\b\b\b\b\b\b\b\b\b\b\b\b\b\b\b\b\b\b\b\b\b\b\b\b\b\b\b\b\b\b\b\b\b\b\b\b\b\b\b\b\b\b\b\b\b\b\b\b\b\b\b\b\b\b\b\b\b\b\b\r37\/37 [==============================] - 0s 3ms\/step - loss: 22226874.0000 - val_loss: 23491504.0000\n",
            "Epoch 140\/300\n",
            "\r 1\/37 [..............................] - ETA: 0s - loss: 25395150.0000\b\b\b\b\b\b\b\b\b\b\b\b\b\b\b\b\b\b\b\b\b\b\b\b\b\b\b\b\b\b\b\b\b\b\b\b\b\b\b\b\b\b\b\b\b\b\b\b\b\b\b\b\b\b\b\b\b\b\b\b\b\b\b\b\b\b\b\b\b\b\r37\/37 [==============================] - 0s 2ms\/step - loss: 22189002.0000 - val_loss: 23398928.0000\n",
            "Epoch 141\/300\n",
            "\r 1\/37 [..............................] - ETA: 0s - loss: 18582326.0000\b\b\b\b\b\b\b\b\b\b\b\b\b\b\b\b\b\b\b\b\b\b\b\b\b\b\b\b\b\b\b\b\b\b\b\b\b\b\b\b\b\b\b\b\b\b\b\b\b\b\b\b\b\b\b\b\b\b\b\b\b\b\b\b\b\b\b\b\b\b\r37\/37 [==============================] - ETA: 0s - loss: 22109726.0000\b\b\b\b\b\b\b\b\b\b\b\b\b\b\b\b\b\b\b\b\b\b\b\b\b\b\b\b\b\b\b\b\b\b\b\b\b\b\b\b\b\b\b\b\b\b\b\b\b\b\b\b\b\b\b\b\b\b\b\b\b\b\b\b\b\b\b\b\b\b\r37\/37 [==============================] - 0s 3ms\/step - loss: 22109726.0000 - val_loss: 23345714.0000\n",
            "Epoch 142\/300\n",
            "\r 1\/37 [..............................] - ETA: 0s - loss: 24664590.0000\b\b\b\b\b\b\b\b\b\b\b\b\b\b\b\b\b\b\b\b\b\b\b\b\b\b\b\b\b\b\b\b\b\b\b\b\b\b\b\b\b\b\b\b\b\b\b\b\b\b\b\b\b\b\b\b\b\b\b\b\b\b\b\b\b\b\b\b\b\b\r37\/37 [==============================] - ETA: 0s - loss: 22056856.0000\b\b\b\b\b\b\b\b\b\b\b\b\b\b\b\b\b\b\b\b\b\b\b\b\b\b\b\b\b\b\b\b\b\b\b\b\b\b\b\b\b\b\b\b\b\b\b\b\b\b\b\b\b\b\b\b\b\b\b\b\b\b\b\b\b\b\b\b\b\b\r37\/37 [==============================] - 0s 3ms\/step - loss: 22056856.0000 - val_loss: 23282452.0000\n",
            "Epoch 143\/300\n",
            "\r 1\/37 [..............................] - ETA: 0s - loss: 17534354.0000\b\b\b\b\b\b\b\b\b\b\b\b\b\b\b\b\b\b\b\b\b\b\b\b\b\b\b\b\b\b\b\b\b\b\b\b\b\b\b\b\b\b\b\b\b\b\b\b\b\b\b\b\b\b\b\b\b\b\b\b\b\b\b\b\b\b\b\b\b\b\r37\/37 [==============================] - ETA: 0s - loss: 22012480.0000\b\b\b\b\b\b\b\b\b\b\b\b\b\b\b\b\b\b\b\b\b\b\b\b\b\b\b\b\b\b\b\b\b\b\b\b\b\b\b\b\b\b\b\b\b\b\b\b\b\b\b\b\b\b\b\b\b\b\b\b\b\b\b\b\b\b\b\b\b\b\r37\/37 [==============================] - 0s 3ms\/step - loss: 22012480.0000 - val_loss: 23231700.0000\n",
            "Epoch 144\/300\n",
            "\r 1\/37 [..............................] - ETA: 0s - loss: 15674518.0000\b\b\b\b\b\b\b\b\b\b\b\b\b\b\b\b\b\b\b\b\b\b\b\b\b\b\b\b\b\b\b\b\b\b\b\b\b\b\b\b\b\b\b\b\b\b\b\b\b\b\b\b\b\b\b\b\b\b\b\b\b\b\b\b\b\b\b\b\b\b\r36\/37 [============================>.] - ETA: 0s - loss: 21920684.0000\b\b\b\b\b\b\b\b\b\b\b\b\b\b\b\b\b\b\b\b\b\b\b\b\b\b\b\b\b\b\b\b\b\b\b\b\b\b\b\b\b\b\b\b\b\b\b\b\b\b\b\b\b\b\b\b\b\b\b\b\b\b\b\b\b\b\b\b\b\b\r37\/37 [==============================] - 0s 3ms\/step - loss: 21938004.0000 - val_loss: 23154434.0000\n",
            "Epoch 145\/300\n",
            "\r 1\/37 [..............................] - ETA: 0s - loss: 19189828.0000\b\b\b\b\b\b\b\b\b\b\b\b\b\b\b\b\b\b\b\b\b\b\b\b\b\b\b\b\b\b\b\b\b\b\b\b\b\b\b\b\b\b\b\b\b\b\b\b\b\b\b\b\b\b\b\b\b\b\b\b\b\b\b\b\b\b\b\b\b\b\r37\/37 [==============================] - 0s 2ms\/step - loss: 21882778.0000 - val_loss: 23155074.0000\n",
            "Epoch 146\/300\n",
            "\r 1\/37 [..............................] - ETA: 0s - loss: 23279882.0000\b\b\b\b\b\b\b\b\b\b\b\b\b\b\b\b\b\b\b\b\b\b\b\b\b\b\b\b\b\b\b\b\b\b\b\b\b\b\b\b\b\b\b\b\b\b\b\b\b\b\b\b\b\b\b\b\b\b\b\b\b\b\b\b\b\b\b\b\b\b\r37\/37 [==============================] - 0s 2ms\/step - loss: 21850052.0000 - val_loss: 23048612.0000\n",
            "Epoch 147\/300\n",
            "\r 1\/37 [..............................] - ETA: 0s - loss: 23004722.0000\b\b\b\b\b\b\b\b\b\b\b\b\b\b\b\b\b\b\b\b\b\b\b\b\b\b\b\b\b\b\b\b\b\b\b\b\b\b\b\b\b\b\b\b\b\b\b\b\b\b\b\b\b\b\b\b\b\b\b\b\b\b\b\b\b\b\b\b\b\b\r36\/37 [============================>.] - ETA: 0s - loss: 21766520.0000\b\b\b\b\b\b\b\b\b\b\b\b\b\b\b\b\b\b\b\b\b\b\b\b\b\b\b\b\b\b\b\b\b\b\b\b\b\b\b\b\b\b\b\b\b\b\b\b\b\b\b\b\b\b\b\b\b\b\b\b\b\b\b\b\b\b\b\b\b\b\r37\/37 [==============================] - 0s 3ms\/step - loss: 21768328.0000 - val_loss: 23000346.0000\n",
            "Epoch 148\/300\n",
            "\r 1\/37 [..............................] - ETA: 0s - loss: 20841906.0000\b\b\b\b\b\b\b\b\b\b\b\b\b\b\b\b\b\b\b\b\b\b\b\b\b\b\b\b\b\b\b\b\b\b\b\b\b\b\b\b\b\b\b\b\b\b\b\b\b\b\b\b\b\b\b\b\b\b\b\b\b\b\b\b\b\b\b\b\b\b\r25\/37 [===================>..........] - ETA: 0s - loss: 21989398.0000\b\b\b\b\b\b\b\b\b\b\b\b\b\b\b\b\b\b\b\b\b\b\b\b\b\b\b\b\b\b\b\b\b\b\b\b\b\b\b\b\b\b\b\b\b\b\b\b\b\b\b\b\b\b\b\b\b\b\b\b\b\b\b\b\b\b\b\b\b\b\r37\/37 [==============================] - 0s 3ms\/step - loss: 21725408.0000 - val_loss: 22948930.0000\n",
            "Epoch 149\/300\n",
            "\r 1\/37 [..............................] - ETA: 0s - loss: 26563304.0000\b\b\b\b\b\b\b\b\b\b\b\b\b\b\b\b\b\b\b\b\b\b\b\b\b\b\b\b\b\b\b\b\b\b\b\b\b\b\b\b\b\b\b\b\b\b\b\b\b\b\b\b\b\b\b\b\b\b\b\b\b\b\b\b\b\b\b\b\b\b\r30\/37 [=======================>......] - ETA: 0s - loss: 21450400.0000\b\b\b\b\b\b\b\b\b\b\b\b\b\b\b\b\b\b\b\b\b\b\b\b\b\b\b\b\b\b\b\b\b\b\b\b\b\b\b\b\b\b\b\b\b\b\b\b\b\b\b\b\b\b\b\b\b\b\b\b\b\b\b\b\b\b\b\b\b\b\r37\/37 [==============================] - 0s 3ms\/step - loss: 21689114.0000 - val_loss: 22916916.0000\n",
            "Epoch 150\/300\n",
            "\r 1\/37 [..............................] - ETA: 0s - loss: 23487042.0000\b\b\b\b\b\b\b\b\b\b\b\b\b\b\b\b\b\b\b\b\b\b\b\b\b\b\b\b\b\b\b\b\b\b\b\b\b\b\b\b\b\b\b\b\b\b\b\b\b\b\b\b\b\b\b\b\b\b\b\b\b\b\b\b\b\b\b\b\b\b\r34\/37 [==========================>...] - ETA: 0s - loss: 21673644.0000\b\b\b\b\b\b\b\b\b\b\b\b\b\b\b\b\b\b\b\b\b\b\b\b\b\b\b\b\b\b\b\b\b\b\b\b\b\b\b\b\b\b\b\b\b\b\b\b\b\b\b\b\b\b\b\b\b\b\b\b\b\b\b\b\b\b\b\b\b\b\r37\/37 [==============================] - 0s 3ms\/step - loss: 21638312.0000 - val_loss: 22862480.0000\n",
            "Epoch 151\/300\n",
            "\r 1\/37 [..............................] - ETA: 0s - loss: 22052474.0000\b\b\b\b\b\b\b\b\b\b\b\b\b\b\b\b\b\b\b\b\b\b\b\b\b\b\b\b\b\b\b\b\b\b\b\b\b\b\b\b\b\b\b\b\b\b\b\b\b\b\b\b\b\b\b\b\b\b\b\b\b\b\b\b\b\b\b\b\b\b\r37\/37 [==============================] - ETA: 0s - loss: 21570158.0000\b\b\b\b\b\b\b\b\b\b\b\b\b\b\b\b\b\b\b\b\b\b\b\b\b\b\b\b\b\b\b\b\b\b\b\b\b\b\b\b\b\b\b\b\b\b\b\b\b\b\b\b\b\b\b\b\b\b\b\b\b\b\b\b\b\b\b\b\b\b\r37\/37 [==============================] - 0s 2ms\/step - loss: 21570158.0000 - val_loss: 22803858.0000\n",
            "Epoch 152\/300\n",
            "\r 1\/37 [..............................] - ETA: 0s - loss: 18189712.0000\b\b\b\b\b\b\b\b\b\b\b\b\b\b\b\b\b\b\b\b\b\b\b\b\b\b\b\b\b\b\b\b\b\b\b\b\b\b\b\b\b\b\b\b\b\b\b\b\b\b\b\b\b\b\b\b\b\b\b\b\b\b\b\b\b\b\b\b\b\b\r35\/37 [===========================>..] - ETA: 0s - loss: 21471234.0000\b\b\b\b\b\b\b\b\b\b\b\b\b\b\b\b\b\b\b\b\b\b\b\b\b\b\b\b\b\b\b\b\b\b\b\b\b\b\b\b\b\b\b\b\b\b\b\b\b\b\b\b\b\b\b\b\b\b\b\b\b\b\b\b\b\b\b\b\b\b\r37\/37 [==============================] - 0s 3ms\/step - loss: 21517616.0000 - val_loss: 22768612.0000\n",
            "Epoch 153\/300\n",
            "\r 1\/37 [..............................] - ETA: 0s - loss: 19905670.0000\b\b\b\b\b\b\b\b\b\b\b\b\b\b\b\b\b\b\b\b\b\b\b\b\b\b\b\b\b\b\b\b\b\b\b\b\b\b\b\b\b\b\b\b\b\b\b\b\b\b\b\b\b\b\b\b\b\b\b\b\b\b\b\b\b\b\b\b\b\b\r37\/37 [==============================] - 0s 2ms\/step - loss: 21478722.0000 - val_loss: 22742182.0000\n",
            "Epoch 154\/300\n",
            "\r 1\/37 [..............................] - ETA: 0s - loss: 18719410.0000\b\b\b\b\b\b\b\b\b\b\b\b\b\b\b\b\b\b\b\b\b\b\b\b\b\b\b\b\b\b\b\b\b\b\b\b\b\b\b\b\b\b\b\b\b\b\b\b\b\b\b\b\b\b\b\b\b\b\b\b\b\b\b\b\b\b\b\b\b\b\r37\/37 [==============================] - 0s 2ms\/step - loss: 21425982.0000 - val_loss: 22706308.0000\n",
            "Epoch 155\/300\n",
            "\r 1\/37 [..............................] - ETA: 0s - loss: 24218958.0000\b\b\b\b\b\b\b\b\b\b\b\b\b\b\b\b\b\b\b\b\b\b\b\b\b\b\b\b\b\b\b\b\b\b\b\b\b\b\b\b\b\b\b\b\b\b\b\b\b\b\b\b\b\b\b\b\b\b\b\b\b\b\b\b\b\b\b\b\b\b\r37\/37 [==============================] - ETA: 0s - loss: 21389374.0000\b\b\b\b\b\b\b\b\b\b\b\b\b\b\b\b\b\b\b\b\b\b\b\b\b\b\b\b\b\b\b\b\b\b\b\b\b\b\b\b\b\b\b\b\b\b\b\b\b\b\b\b\b\b\b\b\b\b\b\b\b\b\b\b\b\b\b\b\b\b\r37\/37 [==============================] - 0s 3ms\/step - loss: 21389374.0000 - val_loss: 22622184.0000\n",
            "Epoch 156\/300\n",
            "\r 1\/37 [..............................] - ETA: 0s - loss: 15148780.0000\b\b\b\b\b\b\b\b\b\b\b\b\b\b\b\b\b\b\b\b\b\b\b\b\b\b\b\b\b\b\b\b\b\b\b\b\b\b\b\b\b\b\b\b\b\b\b\b\b\b\b\b\b\b\b\b\b\b\b\b\b\b\b\b\b\b\b\b\b\b\r37\/37 [==============================] - ETA: 0s - loss: 21330980.0000\b\b\b\b\b\b\b\b\b\b\b\b\b\b\b\b\b\b\b\b\b\b\b\b\b\b\b\b\b\b\b\b\b\b\b\b\b\b\b\b\b\b\b\b\b\b\b\b\b\b\b\b\b\b\b\b\b\b\b\b\b\b\b\b\b\b\b\b\b\b\r37\/37 [==============================] - 0s 2ms\/step - loss: 21330980.0000 - val_loss: 22581148.0000\n",
            "Epoch 157\/300\n",
            "\r 1\/37 [..............................] - ETA: 0s - loss: 24278840.0000\b\b\b\b\b\b\b\b\b\b\b\b\b\b\b\b\b\b\b\b\b\b\b\b\b\b\b\b\b\b\b\b\b\b\b\b\b\b\b\b\b\b\b\b\b\b\b\b\b\b\b\b\b\b\b\b\b\b\b\b\b\b\b\b\b\b\b\b\b\b\r37\/37 [==============================] - ETA: 0s - loss: 21273022.0000\b\b\b\b\b\b\b\b\b\b\b\b\b\b\b\b\b\b\b\b\b\b\b\b\b\b\b\b\b\b\b\b\b\b\b\b\b\b\b\b\b\b\b\b\b\b\b\b\b\b\b\b\b\b\b\b\b\b\b\b\b\b\b\b\b\b\b\b\b\b\r37\/37 [==============================] - 0s 3ms\/step - loss: 21273022.0000 - val_loss: 22571294.0000\n",
            "Epoch 158\/300\n",
            "\r 1\/37 [..............................] - ETA: 0s - loss: 22262426.0000\b\b\b\b\b\b\b\b\b\b\b\b\b\b\b\b\b\b\b\b\b\b\b\b\b\b\b\b\b\b\b\b\b\b\b\b\b\b\b\b\b\b\b\b\b\b\b\b\b\b\b\b\b\b\b\b\b\b\b\b\b\b\b\b\b\b\b\b\b\b\r37\/37 [==============================] - 0s 2ms\/step - loss: 21253068.0000 - val_loss: 22551368.0000\n",
            "Epoch 159\/300\n",
            "\r 1\/37 [..............................] - ETA: 0s - loss: 24838414.0000\b\b\b\b\b\b\b\b\b\b\b\b\b\b\b\b\b\b\b\b\b\b\b\b\b\b\b\b\b\b\b\b\b\b\b\b\b\b\b\b\b\b\b\b\b\b\b\b\b\b\b\b\b\b\b\b\b\b\b\b\b\b\b\b\b\b\b\b\b\b\r37\/37 [==============================] - 0s 2ms\/step - loss: 21184552.0000 - val_loss: 22476566.0000\n",
            "Epoch 160\/300\n",
            "\r 1\/37 [..............................] - ETA: 0s - loss: 22189430.0000\b\b\b\b\b\b\b\b\b\b\b\b\b\b\b\b\b\b\b\b\b\b\b\b\b\b\b\b\b\b\b\b\b\b\b\b\b\b\b\b\b\b\b\b\b\b\b\b\b\b\b\b\b\b\b\b\b\b\b\b\b\b\b\b\b\b\b\b\b\b\r37\/37 [==============================] - 0s 2ms\/step - loss: 21173700.0000 - val_loss: 22445228.0000\n",
            "Epoch 161\/300\n",
            "\r 1\/37 [..............................] - ETA: 0s - loss: 25743326.0000\b\b\b\b\b\b\b\b\b\b\b\b\b\b\b\b\b\b\b\b\b\b\b\b\b\b\b\b\b\b\b\b\b\b\b\b\b\b\b\b\b\b\b\b\b\b\b\b\b\b\b\b\b\b\b\b\b\b\b\b\b\b\b\b\b\b\b\b\b\b\r37\/37 [==============================] - 0s 2ms\/step - loss: 21117852.0000 - val_loss: 22405780.0000\n",
            "Epoch 162\/300\n",
            "\r 1\/37 [..............................] - ETA: 0s - loss: 23204172.0000\b\b\b\b\b\b\b\b\b\b\b\b\b\b\b\b\b\b\b\b\b\b\b\b\b\b\b\b\b\b\b\b\b\b\b\b\b\b\b\b\b\b\b\b\b\b\b\b\b\b\b\b\b\b\b\b\b\b\b\b\b\b\b\b\b\b\b\b\b\b\r37\/37 [==============================] - ETA: 0s - loss: 21064476.0000\b\b\b\b\b\b\b\b\b\b\b\b\b\b\b\b\b\b\b\b\b\b\b\b\b\b\b\b\b\b\b\b\b\b\b\b\b\b\b\b\b\b\b\b\b\b\b\b\b\b\b\b\b\b\b\b\b\b\b\b\b\b\b\b\b\b\b\b\b\b\r37\/37 [==============================] - 0s 2ms\/step - loss: 21064476.0000 - val_loss: 22367734.0000\n",
            "Epoch 163\/300\n",
            "\r 1\/37 [..............................] - ETA: 0s - loss: 20907616.0000\b\b\b\b\b\b\b\b\b\b\b\b\b\b\b\b\b\b\b\b\b\b\b\b\b\b\b\b\b\b\b\b\b\b\b\b\b\b\b\b\b\b\b\b\b\b\b\b\b\b\b\b\b\b\b\b\b\b\b\b\b\b\b\b\b\b\b\b\b\b\r37\/37 [==============================] - 0s 2ms\/step - loss: 21028806.0000 - val_loss: 22337004.0000\n",
            "Epoch 164\/300\n",
            "\r 1\/37 [..............................] - ETA: 0s - loss: 21875620.0000\b\b\b\b\b\b\b\b\b\b\b\b\b\b\b\b\b\b\b\b\b\b\b\b\b\b\b\b\b\b\b\b\b\b\b\b\b\b\b\b\b\b\b\b\b\b\b\b\b\b\b\b\b\b\b\b\b\b\b\b\b\b\b\b\b\b\b\b\b\b\r37\/37 [==============================] - ETA: 0s - loss: 20966430.0000\b\b\b\b\b\b\b\b\b\b\b\b\b\b\b\b\b\b\b\b\b\b\b\b\b\b\b\b\b\b\b\b\b\b\b\b\b\b\b\b\b\b\b\b\b\b\b\b\b\b\b\b\b\b\b\b\b\b\b\b\b\b\b\b\b\b\b\b\b\b\r37\/37 [==============================] - 0s 2ms\/step - loss: 20966430.0000 - val_loss: 22293396.0000\n",
            "Epoch 165\/300\n",
            "\r 1\/37 [..............................] - ETA: 0s - loss: 17944162.0000\b\b\b\b\b\b\b\b\b\b\b\b\b\b\b\b\b\b\b\b\b\b\b\b\b\b\b\b\b\b\b\b\b\b\b\b\b\b\b\b\b\b\b\b\b\b\b\b\b\b\b\b\b\b\b\b\b\b\b\b\b\b\b\b\b\b\b\b\b\b\r37\/37 [==============================] - 0s 2ms\/step - loss: 20946978.0000 - val_loss: 22262384.0000\n",
            "Epoch 166\/300\n",
            "\r 1\/37 [..............................] - ETA: 0s - loss: 19464192.0000\b\b\b\b\b\b\b\b\b\b\b\b\b\b\b\b\b\b\b\b\b\b\b\b\b\b\b\b\b\b\b\b\b\b\b\b\b\b\b\b\b\b\b\b\b\b\b\b\b\b\b\b\b\b\b\b\b\b\b\b\b\b\b\b\b\b\b\b\b\b\r37\/37 [==============================] - 0s 2ms\/step - loss: 20899278.0000 - val_loss: 22235258.0000\n",
            "Epoch 167\/300\n",
            "\r 1\/37 [..............................] - ETA: 0s - loss: 18471100.0000\b\b\b\b\b\b\b\b\b\b\b\b\b\b\b\b\b\b\b\b\b\b\b\b\b\b\b\b\b\b\b\b\b\b\b\b\b\b\b\b\b\b\b\b\b\b\b\b\b\b\b\b\b\b\b\b\b\b\b\b\b\b\b\b\b\b\b\b\b\b\r37\/37 [==============================] - 0s 2ms\/step - loss: 20864518.0000 - val_loss: 22209718.0000\n",
            "Epoch 168\/300\n",
            "\r 1\/37 [..............................] - ETA: 0s - loss: 16772132.0000\b\b\b\b\b\b\b\b\b\b\b\b\b\b\b\b\b\b\b\b\b\b\b\b\b\b\b\b\b\b\b\b\b\b\b\b\b\b\b\b\b\b\b\b\b\b\b\b\b\b\b\b\b\b\b\b\b\b\b\b\b\b\b\b\b\b\b\b\b\b\r37\/37 [==============================] - 0s 2ms\/step - loss: 20825656.0000 - val_loss: 22173522.0000\n",
            "Epoch 169\/300\n",
            "\r 1\/37 [..............................] - ETA: 0s - loss: 20363164.0000\b\b\b\b\b\b\b\b\b\b\b\b\b\b\b\b\b\b\b\b\b\b\b\b\b\b\b\b\b\b\b\b\b\b\b\b\b\b\b\b\b\b\b\b\b\b\b\b\b\b\b\b\b\b\b\b\b\b\b\b\b\b\b\b\b\b\b\b\b\b\r37\/37 [==============================] - 0s 2ms\/step - loss: 20804186.0000 - val_loss: 22151232.0000\n",
            "Epoch 170\/300\n",
            "\r 1\/37 [..............................] - ETA: 0s - loss: 21378714.0000\b\b\b\b\b\b\b\b\b\b\b\b\b\b\b\b\b\b\b\b\b\b\b\b\b\b\b\b\b\b\b\b\b\b\b\b\b\b\b\b\b\b\b\b\b\b\b\b\b\b\b\b\b\b\b\b\b\b\b\b\b\b\b\b\b\b\b\b\b\b\r37\/37 [==============================] - ETA: 0s - loss: 20771254.0000\b\b\b\b\b\b\b\b\b\b\b\b\b\b\b\b\b\b\b\b\b\b\b\b\b\b\b\b\b\b\b\b\b\b\b\b\b\b\b\b\b\b\b\b\b\b\b\b\b\b\b\b\b\b\b\b\b\b\b\b\b\b\b\b\b\b\b\b\b\b\r37\/37 [==============================] - 0s 2ms\/step - loss: 20771254.0000 - val_loss: 22129432.0000\n",
            "Epoch 171\/300\n",
            "\r 1\/37 [..............................] - ETA: 0s - loss: 23996606.0000\b\b\b\b\b\b\b\b\b\b\b\b\b\b\b\b\b\b\b\b\b\b\b\b\b\b\b\b\b\b\b\b\b\b\b\b\b\b\b\b\b\b\b\b\b\b\b\b\b\b\b\b\b\b\b\b\b\b\b\b\b\b\b\b\b\b\b\b\b\b\r37\/37 [==============================] - ETA: 0s - loss: 20732204.0000\b\b\b\b\b\b\b\b\b\b\b\b\b\b\b\b\b\b\b\b\b\b\b\b\b\b\b\b\b\b\b\b\b\b\b\b\b\b\b\b\b\b\b\b\b\b\b\b\b\b\b\b\b\b\b\b\b\b\b\b\b\b\b\b\b\b\b\b\b\b\r37\/37 [==============================] - 0s 3ms\/step - loss: 20732204.0000 - val_loss: 22125248.0000\n",
            "Epoch 172\/300\n",
            "\r 1\/37 [..............................] - ETA: 0s - loss: 17892662.0000\b\b\b\b\b\b\b\b\b\b\b\b\b\b\b\b\b\b\b\b\b\b\b\b\b\b\b\b\b\b\b\b\b\b\b\b\b\b\b\b\b\b\b\b\b\b\b\b\b\b\b\b\b\b\b\b\b\b\b\b\b\b\b\b\b\b\b\b\b\b\r36\/37 [============================>.] - ETA: 0s - loss: 20777314.0000\b\b\b\b\b\b\b\b\b\b\b\b\b\b\b\b\b\b\b\b\b\b\b\b\b\b\b\b\b\b\b\b\b\b\b\b\b\b\b\b\b\b\b\b\b\b\b\b\b\b\b\b\b\b\b\b\b\b\b\b\b\b\b\b\b\b\b\b\b\b\r37\/37 [==============================] - 0s 3ms\/step - loss: 20707422.0000 - val_loss: 22063642.0000\n",
            "Epoch 173\/300\n",
            "\r 1\/37 [..............................] - ETA: 0s - loss: 19335590.0000\b\b\b\b\b\b\b\b\b\b\b\b\b\b\b\b\b\b\b\b\b\b\b\b\b\b\b\b\b\b\b\b\b\b\b\b\b\b\b\b\b\b\b\b\b\b\b\b\b\b\b\b\b\b\b\b\b\b\b\b\b\b\b\b\b\b\b\b\b\b\r35\/37 [===========================>..] - ETA: 0s - loss: 20638314.0000\b\b\b\b\b\b\b\b\b\b\b\b\b\b\b\b\b\b\b\b\b\b\b\b\b\b\b\b\b\b\b\b\b\b\b\b\b\b\b\b\b\b\b\b\b\b\b\b\b\b\b\b\b\b\b\b\b\b\b\b\b\b\b\b\b\b\b\b\b\b\r37\/37 [==============================] - 0s 2ms\/step - loss: 20697668.0000 - val_loss: 22038300.0000\n",
            "Epoch 174\/300\n",
            "\r 1\/37 [..............................] - ETA: 0s - loss: 20776054.0000\b\b\b\b\b\b\b\b\b\b\b\b\b\b\b\b\b\b\b\b\b\b\b\b\b\b\b\b\b\b\b\b\b\b\b\b\b\b\b\b\b\b\b\b\b\b\b\b\b\b\b\b\b\b\b\b\b\b\b\b\b\b\b\b\b\b\b\b\b\b\r36\/37 [============================>.] - ETA: 0s - loss: 20668776.0000\b\b\b\b\b\b\b\b\b\b\b\b\b\b\b\b\b\b\b\b\b\b\b\b\b\b\b\b\b\b\b\b\b\b\b\b\b\b\b\b\b\b\b\b\b\b\b\b\b\b\b\b\b\b\b\b\b\b\b\b\b\b\b\b\b\b\b\b\b\b\r37\/37 [==============================] - 0s 3ms\/step - loss: 20616828.0000 - val_loss: 22027274.0000\n",
            "Epoch 175\/300\n",
            "\r 1\/37 [..............................] - ETA: 0s - loss: 21915960.0000\b\b\b\b\b\b\b\b\b\b\b\b\b\b\b\b\b\b\b\b\b\b\b\b\b\b\b\b\b\b\b\b\b\b\b\b\b\b\b\b\b\b\b\b\b\b\b\b\b\b\b\b\b\b\b\b\b\b\b\b\b\b\b\b\b\b\b\b\b\b\r37\/37 [==============================] - 0s 3ms\/step - loss: 20591284.0000 - val_loss: 21996274.0000\n",
            "Epoch 176\/300\n",
            "\r 1\/37 [..............................] - ETA: 0s - loss: 20737148.0000\b\b\b\b\b\b\b\b\b\b\b\b\b\b\b\b\b\b\b\b\b\b\b\b\b\b\b\b\b\b\b\b\b\b\b\b\b\b\b\b\b\b\b\b\b\b\b\b\b\b\b\b\b\b\b\b\b\b\b\b\b\b\b\b\b\b\b\b\b\b\r37\/37 [==============================] - ETA: 0s - loss: 20575996.0000\b\b\b\b\b\b\b\b\b\b\b\b\b\b\b\b\b\b\b\b\b\b\b\b\b\b\b\b\b\b\b\b\b\b\b\b\b\b\b\b\b\b\b\b\b\b\b\b\b\b\b\b\b\b\b\b\b\b\b\b\b\b\b\b\b\b\b\b\b\b\r37\/37 [==============================] - 0s 2ms\/step - loss: 20575996.0000 - val_loss: 21956226.0000\n",
            "Epoch 177\/300\n",
            "\r 1\/37 [..............................] - ETA: 0s - loss: 21081228.0000\b\b\b\b\b\b\b\b\b\b\b\b\b\b\b\b\b\b\b\b\b\b\b\b\b\b\b\b\b\b\b\b\b\b\b\b\b\b\b\b\b\b\b\b\b\b\b\b\b\b\b\b\b\b\b\b\b\b\b\b\b\b\b\b\b\b\b\b\b\b\r37\/37 [==============================] - 0s 2ms\/step - loss: 20542030.0000 - val_loss: 21950722.0000\n",
            "Epoch 178\/300\n",
            "\r 1\/37 [..............................] - ETA: 0s - loss: 21824084.0000\b\b\b\b\b\b\b\b\b\b\b\b\b\b\b\b\b\b\b\b\b\b\b\b\b\b\b\b\b\b\b\b\b\b\b\b\b\b\b\b\b\b\b\b\b\b\b\b\b\b\b\b\b\b\b\b\b\b\b\b\b\b\b\b\b\b\b\b\b\b\r37\/37 [==============================] - ETA: 0s - loss: 20514194.0000\b\b\b\b\b\b\b\b\b\b\b\b\b\b\b\b\b\b\b\b\b\b\b\b\b\b\b\b\b\b\b\b\b\b\b\b\b\b\b\b\b\b\b\b\b\b\b\b\b\b\b\b\b\b\b\b\b\b\b\b\b\b\b\b\b\b\b\b\b\b\r37\/37 [==============================] - 0s 3ms\/step - loss: 20514194.0000 - val_loss: 21898460.0000\n",
            "Epoch 179\/300\n",
            "\r 1\/37 [..............................] - ETA: 0s - loss: 23143364.0000\b\b\b\b\b\b\b\b\b\b\b\b\b\b\b\b\b\b\b\b\b\b\b\b\b\b\b\b\b\b\b\b\b\b\b\b\b\b\b\b\b\b\b\b\b\b\b\b\b\b\b\b\b\b\b\b\b\b\b\b\b\b\b\b\b\b\b\b\b\b\r37\/37 [==============================] - 0s 2ms\/step - loss: 20485642.0000 - val_loss: 21928742.0000\n",
            "Epoch 180\/300\n",
            "\r 1\/37 [..............................] - ETA: 0s - loss: 23447708.0000\b\b\b\b\b\b\b\b\b\b\b\b\b\b\b\b\b\b\b\b\b\b\b\b\b\b\b\b\b\b\b\b\b\b\b\b\b\b\b\b\b\b\b\b\b\b\b\b\b\b\b\b\b\b\b\b\b\b\b\b\b\b\b\b\b\b\b\b\b\b\r37\/37 [==============================] - 0s 2ms\/step - loss: 20440726.0000 - val_loss: 21861462.0000\n",
            "Epoch 181\/300\n",
            "\r 1\/37 [..............................] - ETA: 0s - loss: 25318806.0000\b\b\b\b\b\b\b\b\b\b\b\b\b\b\b\b\b\b\b\b\b\b\b\b\b\b\b\b\b\b\b\b\b\b\b\b\b\b\b\b\b\b\b\b\b\b\b\b\b\b\b\b\b\b\b\b\b\b\b\b\b\b\b\b\b\b\b\b\b\b\r37\/37 [==============================] - ETA: 0s - loss: 20417958.0000\b\b\b\b\b\b\b\b\b\b\b\b\b\b\b\b\b\b\b\b\b\b\b\b\b\b\b\b\b\b\b\b\b\b\b\b\b\b\b\b\b\b\b\b\b\b\b\b\b\b\b\b\b\b\b\b\b\b\b\b\b\b\b\b\b\b\b\b\b\b\r37\/37 [==============================] - 0s 2ms\/step - loss: 20417958.0000 - val_loss: 21836432.0000\n",
            "Epoch 182\/300\n",
            "\r 1\/37 [..............................] - ETA: 0s - loss: 23518486.0000\b\b\b\b\b\b\b\b\b\b\b\b\b\b\b\b\b\b\b\b\b\b\b\b\b\b\b\b\b\b\b\b\b\b\b\b\b\b\b\b\b\b\b\b\b\b\b\b\b\b\b\b\b\b\b\b\b\b\b\b\b\b\b\b\b\b\b\b\b\b\r34\/37 [==========================>...] - ETA: 0s - loss: 20579478.0000\b\b\b\b\b\b\b\b\b\b\b\b\b\b\b\b\b\b\b\b\b\b\b\b\b\b\b\b\b\b\b\b\b\b\b\b\b\b\b\b\b\b\b\b\b\b\b\b\b\b\b\b\b\b\b\b\b\b\b\b\b\b\b\b\b\b\b\b\b\b\r37\/37 [==============================] - 0s 3ms\/step - loss: 20383200.0000 - val_loss: 21830710.0000\n",
            "Epoch 183\/300\n",
            "\r 1\/37 [..............................] - ETA: 0s - loss: 22723446.0000\b\b\b\b\b\b\b\b\b\b\b\b\b\b\b\b\b\b\b\b\b\b\b\b\b\b\b\b\b\b\b\b\b\b\b\b\b\b\b\b\b\b\b\b\b\b\b\b\b\b\b\b\b\b\b\b\b\b\b\b\b\b\b\b\b\b\b\b\b\b\r37\/37 [==============================] - 0s 3ms\/step - loss: 20373156.0000 - val_loss: 21787716.0000\n",
            "Epoch 184\/300\n",
            "\r 1\/37 [..............................] - ETA: 0s - loss: 20281042.0000\b\b\b\b\b\b\b\b\b\b\b\b\b\b\b\b\b\b\b\b\b\b\b\b\b\b\b\b\b\b\b\b\b\b\b\b\b\b\b\b\b\b\b\b\b\b\b\b\b\b\b\b\b\b\b\b\b\b\b\b\b\b\b\b\b\b\b\b\b\b\r34\/37 [==========================>...] - ETA: 0s - loss: 20280842.0000\b\b\b\b\b\b\b\b\b\b\b\b\b\b\b\b\b\b\b\b\b\b\b\b\b\b\b\b\b\b\b\b\b\b\b\b\b\b\b\b\b\b\b\b\b\b\b\b\b\b\b\b\b\b\b\b\b\b\b\b\b\b\b\b\b\b\b\b\b\b\r37\/37 [==============================] - 0s 3ms\/step - loss: 20345892.0000 - val_loss: 21777688.0000\n",
            "Epoch 185\/300\n",
            "\r 1\/37 [..............................] - ETA: 0s - loss: 19591134.0000\b\b\b\b\b\b\b\b\b\b\b\b\b\b\b\b\b\b\b\b\b\b\b\b\b\b\b\b\b\b\b\b\b\b\b\b\b\b\b\b\b\b\b\b\b\b\b\b\b\b\b\b\b\b\b\b\b\b\b\b\b\b\b\b\b\b\b\b\b\b\r34\/37 [==========================>...] - ETA: 0s - loss: 20220738.0000\b\b\b\b\b\b\b\b\b\b\b\b\b\b\b\b\b\b\b\b\b\b\b\b\b\b\b\b\b\b\b\b\b\b\b\b\b\b\b\b\b\b\b\b\b\b\b\b\b\b\b\b\b\b\b\b\b\b\b\b\b\b\b\b\b\b\b\b\b\b\r37\/37 [==============================] - 0s 3ms\/step - loss: 20311256.0000 - val_loss: 21756612.0000\n",
            "Epoch 186\/300\n",
            "\r 1\/37 [..............................] - ETA: 0s - loss: 20381680.0000\b\b\b\b\b\b\b\b\b\b\b\b\b\b\b\b\b\b\b\b\b\b\b\b\b\b\b\b\b\b\b\b\b\b\b\b\b\b\b\b\b\b\b\b\b\b\b\b\b\b\b\b\b\b\b\b\b\b\b\b\b\b\b\b\b\b\b\b\b\b\r36\/37 [============================>.] - ETA: 0s - loss: 20263380.0000\b\b\b\b\b\b\b\b\b\b\b\b\b\b\b\b\b\b\b\b\b\b\b\b\b\b\b\b\b\b\b\b\b\b\b\b\b\b\b\b\b\b\b\b\b\b\b\b\b\b\b\b\b\b\b\b\b\b\b\b\b\b\b\b\b\b\b\b\b\b\r37\/37 [==============================] - 0s 3ms\/step - loss: 20289618.0000 - val_loss: 21727340.0000\n",
            "Epoch 187\/300\n",
            "\r 1\/37 [..............................] - ETA: 0s - loss: 22034160.0000\b\b\b\b\b\b\b\b\b\b\b\b\b\b\b\b\b\b\b\b\b\b\b\b\b\b\b\b\b\b\b\b\b\b\b\b\b\b\b\b\b\b\b\b\b\b\b\b\b\b\b\b\b\b\b\b\b\b\b\b\b\b\b\b\b\b\b\b\b\b\r34\/37 [==========================>...] - ETA: 0s - loss: 20364370.0000\b\b\b\b\b\b\b\b\b\b\b\b\b\b\b\b\b\b\b\b\b\b\b\b\b\b\b\b\b\b\b\b\b\b\b\b\b\b\b\b\b\b\b\b\b\b\b\b\b\b\b\b\b\b\b\b\b\b\b\b\b\b\b\b\b\b\b\b\b\b\r37\/37 [==============================] - 0s 3ms\/step - loss: 20256112.0000 - val_loss: 21776648.0000\n",
            "Epoch 188\/300\n",
            "\r 1\/37 [..............................] - ETA: 0s - loss: 20047588.0000\b\b\b\b\b\b\b\b\b\b\b\b\b\b\b\b\b\b\b\b\b\b\b\b\b\b\b\b\b\b\b\b\b\b\b\b\b\b\b\b\b\b\b\b\b\b\b\b\b\b\b\b\b\b\b\b\b\b\b\b\b\b\b\b\b\b\b\b\b\b\r37\/37 [==============================] - 0s 2ms\/step - loss: 20262406.0000 - val_loss: 21695724.0000\n",
            "Epoch 189\/300\n",
            "\r 1\/37 [..............................] - ETA: 0s - loss: 17883492.0000\b\b\b\b\b\b\b\b\b\b\b\b\b\b\b\b\b\b\b\b\b\b\b\b\b\b\b\b\b\b\b\b\b\b\b\b\b\b\b\b\b\b\b\b\b\b\b\b\b\b\b\b\b\b\b\b\b\b\b\b\b\b\b\b\b\b\b\b\b\b\r37\/37 [==============================] - 0s 2ms\/step - loss: 20218408.0000 - val_loss: 21670972.0000\n",
            "Epoch 190\/300\n",
            "\r 1\/37 [..............................] - ETA: 0s - loss: 20167982.0000\b\b\b\b\b\b\b\b\b\b\b\b\b\b\b\b\b\b\b\b\b\b\b\b\b\b\b\b\b\b\b\b\b\b\b\b\b\b\b\b\b\b\b\b\b\b\b\b\b\b\b\b\b\b\b\b\b\b\b\b\b\b\b\b\b\b\b\b\b\b\r37\/37 [==============================] - 0s 2ms\/step - loss: 20185784.0000 - val_loss: 21651362.0000\n",
            "Epoch 191\/300\n",
            "\r 1\/37 [..............................] - ETA: 0s - loss: 18577216.0000\b\b\b\b\b\b\b\b\b\b\b\b\b\b\b\b\b\b\b\b\b\b\b\b\b\b\b\b\b\b\b\b\b\b\b\b\b\b\b\b\b\b\b\b\b\b\b\b\b\b\b\b\b\b\b\b\b\b\b\b\b\b\b\b\b\b\b\b\b\b\r37\/37 [==============================] - 0s 2ms\/step - loss: 20151214.0000 - val_loss: 21624038.0000\n",
            "Epoch 192\/300\n",
            "\r 1\/37 [..............................] - ETA: 0s - loss: 22642680.0000\b\b\b\b\b\b\b\b\b\b\b\b\b\b\b\b\b\b\b\b\b\b\b\b\b\b\b\b\b\b\b\b\b\b\b\b\b\b\b\b\b\b\b\b\b\b\b\b\b\b\b\b\b\b\b\b\b\b\b\b\b\b\b\b\b\b\b\b\b\b\r37\/37 [==============================] - ETA: 0s - loss: 20143854.0000\b\b\b\b\b\b\b\b\b\b\b\b\b\b\b\b\b\b\b\b\b\b\b\b\b\b\b\b\b\b\b\b\b\b\b\b\b\b\b\b\b\b\b\b\b\b\b\b\b\b\b\b\b\b\b\b\b\b\b\b\b\b\b\b\b\b\b\b\b\b\r37\/37 [==============================] - 0s 2ms\/step - loss: 20143854.0000 - val_loss: 21632536.0000\n",
            "Epoch 193\/300\n",
            "\r 1\/37 [..............................] - ETA: 0s - loss: 22832322.0000\b\b\b\b\b\b\b\b\b\b\b\b\b\b\b\b\b\b\b\b\b\b\b\b\b\b\b\b\b\b\b\b\b\b\b\b\b\b\b\b\b\b\b\b\b\b\b\b\b\b\b\b\b\b\b\b\b\b\b\b\b\b\b\b\b\b\b\b\b\b\r35\/37 [===========================>..] - ETA: 0s - loss: 20200042.0000\b\b\b\b\b\b\b\b\b\b\b\b\b\b\b\b\b\b\b\b\b\b\b\b\b\b\b\b\b\b\b\b\b\b\b\b\b\b\b\b\b\b\b\b\b\b\b\b\b\b\b\b\b\b\b\b\b\b\b\b\b\b\b\b\b\b\b\b\b\b\r37\/37 [==============================] - 0s 3ms\/step - loss: 20119304.0000 - val_loss: 21577568.0000\n",
            "Epoch 194\/300\n",
            "\r 1\/37 [..............................] - ETA: 0s - loss: 21351592.0000\b\b\b\b\b\b\b\b\b\b\b\b\b\b\b\b\b\b\b\b\b\b\b\b\b\b\b\b\b\b\b\b\b\b\b\b\b\b\b\b\b\b\b\b\b\b\b\b\b\b\b\b\b\b\b\b\b\b\b\b\b\b\b\b\b\b\b\b\b\b\r37\/37 [==============================] - ETA: 0s - loss: 20094512.0000\b\b\b\b\b\b\b\b\b\b\b\b\b\b\b\b\b\b\b\b\b\b\b\b\b\b\b\b\b\b\b\b\b\b\b\b\b\b\b\b\b\b\b\b\b\b\b\b\b\b\b\b\b\b\b\b\b\b\b\b\b\b\b\b\b\b\b\b\b\b\r37\/37 [==============================] - 0s 3ms\/step - loss: 20094512.0000 - val_loss: 21586220.0000\n",
            "Epoch 195\/300\n",
            "\r 1\/37 [..............................] - ETA: 0s - loss: 17988662.0000\b\b\b\b\b\b\b\b\b\b\b\b\b\b\b\b\b\b\b\b\b\b\b\b\b\b\b\b\b\b\b\b\b\b\b\b\b\b\b\b\b\b\b\b\b\b\b\b\b\b\b\b\b\b\b\b\b\b\b\b\b\b\b\b\b\b\b\b\b\b\r37\/37 [==============================] - ETA: 0s - loss: 20076854.0000\b\b\b\b\b\b\b\b\b\b\b\b\b\b\b\b\b\b\b\b\b\b\b\b\b\b\b\b\b\b\b\b\b\b\b\b\b\b\b\b\b\b\b\b\b\b\b\b\b\b\b\b\b\b\b\b\b\b\b\b\b\b\b\b\b\b\b\b\b\b\r37\/37 [==============================] - 0s 2ms\/step - loss: 20076854.0000 - val_loss: 21542376.0000\n",
            "Epoch 196\/300\n",
            "\r 1\/37 [..............................] - ETA: 0s - loss: 21343680.0000\b\b\b\b\b\b\b\b\b\b\b\b\b\b\b\b\b\b\b\b\b\b\b\b\b\b\b\b\b\b\b\b\b\b\b\b\b\b\b\b\b\b\b\b\b\b\b\b\b\b\b\b\b\b\b\b\b\b\b\b\b\b\b\b\b\b\b\b\b\b\r36\/37 [============================>.] - ETA: 0s - loss: 20031592.0000\b\b\b\b\b\b\b\b\b\b\b\b\b\b\b\b\b\b\b\b\b\b\b\b\b\b\b\b\b\b\b\b\b\b\b\b\b\b\b\b\b\b\b\b\b\b\b\b\b\b\b\b\b\b\b\b\b\b\b\b\b\b\b\b\b\b\b\b\b\b\r37\/37 [==============================] - 0s 2ms\/step - loss: 20014452.0000 - val_loss: 21593760.0000\n",
            "Epoch 197\/300\n",
            "\r 1\/37 [..............................] - ETA: 0s - loss: 20189792.0000\b\b\b\b\b\b\b\b\b\b\b\b\b\b\b\b\b\b\b\b\b\b\b\b\b\b\b\b\b\b\b\b\b\b\b\b\b\b\b\b\b\b\b\b\b\b\b\b\b\b\b\b\b\b\b\b\b\b\b\b\b\b\b\b\b\b\b\b\b\b\r33\/37 [=========================>....] - ETA: 0s - loss: 19972294.0000\b\b\b\b\b\b\b\b\b\b\b\b\b\b\b\b\b\b\b\b\b\b\b\b\b\b\b\b\b\b\b\b\b\b\b\b\b\b\b\b\b\b\b\b\b\b\b\b\b\b\b\b\b\b\b\b\b\b\b\b\b\b\b\b\b\b\b\b\b\b\r37\/37 [==============================] - 0s 3ms\/step - loss: 20047548.0000 - val_loss: 21541606.0000\n",
            "Epoch 198\/300\n",
            "\r 1\/37 [..............................] - ETA: 0s - loss: 21273924.0000\b\b\b\b\b\b\b\b\b\b\b\b\b\b\b\b\b\b\b\b\b\b\b\b\b\b\b\b\b\b\b\b\b\b\b\b\b\b\b\b\b\b\b\b\b\b\b\b\b\b\b\b\b\b\b\b\b\b\b\b\b\b\b\b\b\b\b\b\b\b\r37\/37 [==============================] - ETA: 0s - loss: 20024988.0000\b\b\b\b\b\b\b\b\b\b\b\b\b\b\b\b\b\b\b\b\b\b\b\b\b\b\b\b\b\b\b\b\b\b\b\b\b\b\b\b\b\b\b\b\b\b\b\b\b\b\b\b\b\b\b\b\b\b\b\b\b\b\b\b\b\b\b\b\b\b\r37\/37 [==============================] - 0s 3ms\/step - loss: 20024988.0000 - val_loss: 21515462.0000\n",
            "Epoch 199\/300\n",
            "\r 1\/37 [..............................] - ETA: 0s - loss: 19494444.0000\b\b\b\b\b\b\b\b\b\b\b\b\b\b\b\b\b\b\b\b\b\b\b\b\b\b\b\b\b\b\b\b\b\b\b\b\b\b\b\b\b\b\b\b\b\b\b\b\b\b\b\b\b\b\b\b\b\b\b\b\b\b\b\b\b\b\b\b\b\b\r37\/37 [==============================] - 0s 2ms\/step - loss: 19965646.0000 - val_loss: 21493310.0000\n",
            "Epoch 200\/300\n",
            "\r 1\/37 [..............................] - ETA: 0s - loss: 18343002.0000\b\b\b\b\b\b\b\b\b\b\b\b\b\b\b\b\b\b\b\b\b\b\b\b\b\b\b\b\b\b\b\b\b\b\b\b\b\b\b\b\b\b\b\b\b\b\b\b\b\b\b\b\b\b\b\b\b\b\b\b\b\b\b\b\b\b\b\b\b\b\r37\/37 [==============================] - ETA: 0s - loss: 19985724.0000\b\b\b\b\b\b\b\b\b\b\b\b\b\b\b\b\b\b\b\b\b\b\b\b\b\b\b\b\b\b\b\b\b\b\b\b\b\b\b\b\b\b\b\b\b\b\b\b\b\b\b\b\b\b\b\b\b\b\b\b\b\b\b\b\b\b\b\b\b\b\r37\/37 [==============================] - 0s 2ms\/step - loss: 19985724.0000 - val_loss: 21497998.0000\n",
            "Epoch 201\/300\n",
            "\r 1\/37 [..............................] - ETA: 0s - loss: 19904304.0000\b\b\b\b\b\b\b\b\b\b\b\b\b\b\b\b\b\b\b\b\b\b\b\b\b\b\b\b\b\b\b\b\b\b\b\b\b\b\b\b\b\b\b\b\b\b\b\b\b\b\b\b\b\b\b\b\b\b\b\b\b\b\b\b\b\b\b\b\b\b\r37\/37 [==============================] - 0s 3ms\/step - loss: 19932088.0000 - val_loss: 21479844.0000\n",
            "Epoch 202\/300\n",
            "\r 1\/37 [..............................] - ETA: 0s - loss: 17998372.0000\b\b\b\b\b\b\b\b\b\b\b\b\b\b\b\b\b\b\b\b\b\b\b\b\b\b\b\b\b\b\b\b\b\b\b\b\b\b\b\b\b\b\b\b\b\b\b\b\b\b\b\b\b\b\b\b\b\b\b\b\b\b\b\b\b\b\b\b\b\b\r36\/37 [============================>.] - ETA: 0s - loss: 19872488.0000\b\b\b\b\b\b\b\b\b\b\b\b\b\b\b\b\b\b\b\b\b\b\b\b\b\b\b\b\b\b\b\b\b\b\b\b\b\b\b\b\b\b\b\b\b\b\b\b\b\b\b\b\b\b\b\b\b\b\b\b\b\b\b\b\b\b\b\b\b\b\r37\/37 [==============================] - 0s 3ms\/step - loss: 19914524.0000 - val_loss: 21446862.0000\n",
            "Epoch 203\/300\n",
            "\r 1\/37 [..............................] - ETA: 0s - loss: 18461688.0000\b\b\b\b\b\b\b\b\b\b\b\b\b\b\b\b\b\b\b\b\b\b\b\b\b\b\b\b\b\b\b\b\b\b\b\b\b\b\b\b\b\b\b\b\b\b\b\b\b\b\b\b\b\b\b\b\b\b\b\b\b\b\b\b\b\b\b\b\b\b\r36\/37 [============================>.] - ETA: 0s - loss: 19901214.0000\b\b\b\b\b\b\b\b\b\b\b\b\b\b\b\b\b\b\b\b\b\b\b\b\b\b\b\b\b\b\b\b\b\b\b\b\b\b\b\b\b\b\b\b\b\b\b\b\b\b\b\b\b\b\b\b\b\b\b\b\b\b\b\b\b\b\b\b\b\b\r37\/37 [==============================] - 0s 3ms\/step - loss: 19896170.0000 - val_loss: 21386710.0000\n",
            "Epoch 204\/300\n",
            "\r 1\/37 [..............................] - ETA: 0s - loss: 19186764.0000\b\b\b\b\b\b\b\b\b\b\b\b\b\b\b\b\b\b\b\b\b\b\b\b\b\b\b\b\b\b\b\b\b\b\b\b\b\b\b\b\b\b\b\b\b\b\b\b\b\b\b\b\b\b\b\b\b\b\b\b\b\b\b\b\b\b\b\b\b\b\r37\/37 [==============================] - 0s 2ms\/step - loss: 19910672.0000 - val_loss: 21356508.0000\n",
            "Epoch 205\/300\n",
            "\r 1\/37 [..............................] - ETA: 0s - loss: 19255894.0000\b\b\b\b\b\b\b\b\b\b\b\b\b\b\b\b\b\b\b\b\b\b\b\b\b\b\b\b\b\b\b\b\b\b\b\b\b\b\b\b\b\b\b\b\b\b\b\b\b\b\b\b\b\b\b\b\b\b\b\b\b\b\b\b\b\b\b\b\b\b\r37\/37 [==============================] - 0s 2ms\/step - loss: 19868440.0000 - val_loss: 21344156.0000\n",
            "Epoch 206\/300\n",
            "\r 1\/37 [..............................] - ETA: 0s - loss: 22991568.0000\b\b\b\b\b\b\b\b\b\b\b\b\b\b\b\b\b\b\b\b\b\b\b\b\b\b\b\b\b\b\b\b\b\b\b\b\b\b\b\b\b\b\b\b\b\b\b\b\b\b\b\b\b\b\b\b\b\b\b\b\b\b\b\b\b\b\b\b\b\b\r37\/37 [==============================] - 0s 3ms\/step - loss: 19846868.0000 - val_loss: 21315598.0000\n",
            "Epoch 207\/300\n",
            "\r 1\/37 [..............................] - ETA: 0s - loss: 15823248.0000\b\b\b\b\b\b\b\b\b\b\b\b\b\b\b\b\b\b\b\b\b\b\b\b\b\b\b\b\b\b\b\b\b\b\b\b\b\b\b\b\b\b\b\b\b\b\b\b\b\b\b\b\b\b\b\b\b\b\b\b\b\b\b\b\b\b\b\b\b\b\r37\/37 [==============================] - ETA: 0s - loss: 19806080.0000\b\b\b\b\b\b\b\b\b\b\b\b\b\b\b\b\b\b\b\b\b\b\b\b\b\b\b\b\b\b\b\b\b\b\b\b\b\b\b\b\b\b\b\b\b\b\b\b\b\b\b\b\b\b\b\b\b\b\b\b\b\b\b\b\b\b\b\b\b\b\r37\/37 [==============================] - 0s 2ms\/step - loss: 19806080.0000 - val_loss: 21303272.0000\n",
            "Epoch 208\/300\n",
            "\r 1\/37 [..............................] - ETA: 0s - loss: 21672658.0000\b\b\b\b\b\b\b\b\b\b\b\b\b\b\b\b\b\b\b\b\b\b\b\b\b\b\b\b\b\b\b\b\b\b\b\b\b\b\b\b\b\b\b\b\b\b\b\b\b\b\b\b\b\b\b\b\b\b\b\b\b\b\b\b\b\b\b\b\b\b\r37\/37 [==============================] - ETA: 0s - loss: 19795568.0000\b\b\b\b\b\b\b\b\b\b\b\b\b\b\b\b\b\b\b\b\b\b\b\b\b\b\b\b\b\b\b\b\b\b\b\b\b\b\b\b\b\b\b\b\b\b\b\b\b\b\b\b\b\b\b\b\b\b\b\b\b\b\b\b\b\b\b\b\b\b\r37\/37 [==============================] - 0s 2ms\/step - loss: 19795568.0000 - val_loss: 21276574.0000\n",
            "Epoch 209\/300\n",
            "\r 1\/37 [..............................] - ETA: 0s - loss: 21199308.0000\b\b\b\b\b\b\b\b\b\b\b\b\b\b\b\b\b\b\b\b\b\b\b\b\b\b\b\b\b\b\b\b\b\b\b\b\b\b\b\b\b\b\b\b\b\b\b\b\b\b\b\b\b\b\b\b\b\b\b\b\b\b\b\b\b\b\b\b\b\b\r37\/37 [==============================] - ETA: 0s - loss: 19777154.0000\b\b\b\b\b\b\b\b\b\b\b\b\b\b\b\b\b\b\b\b\b\b\b\b\b\b\b\b\b\b\b\b\b\b\b\b\b\b\b\b\b\b\b\b\b\b\b\b\b\b\b\b\b\b\b\b\b\b\b\b\b\b\b\b\b\b\b\b\b\b\r37\/37 [==============================] - 0s 3ms\/step - loss: 19777154.0000 - val_loss: 21265726.0000\n",
            "Epoch 210\/300\n",
            "\r 1\/37 [..............................] - ETA: 0s - loss: 16107310.0000\b\b\b\b\b\b\b\b\b\b\b\b\b\b\b\b\b\b\b\b\b\b\b\b\b\b\b\b\b\b\b\b\b\b\b\b\b\b\b\b\b\b\b\b\b\b\b\b\b\b\b\b\b\b\b\b\b\b\b\b\b\b\b\b\b\b\b\b\b\b\r37\/37 [==============================] - 0s 2ms\/step - loss: 19758302.0000 - val_loss: 21245012.0000\n",
            "Epoch 211\/300\n",
            "\r 1\/37 [..............................] - ETA: 0s - loss: 17317774.0000\b\b\b\b\b\b\b\b\b\b\b\b\b\b\b\b\b\b\b\b\b\b\b\b\b\b\b\b\b\b\b\b\b\b\b\b\b\b\b\b\b\b\b\b\b\b\b\b\b\b\b\b\b\b\b\b\b\b\b\b\b\b\b\b\b\b\b\b\b\b\r36\/37 [============================>.] - ETA: 0s - loss: 19814528.0000\b\b\b\b\b\b\b\b\b\b\b\b\b\b\b\b\b\b\b\b\b\b\b\b\b\b\b\b\b\b\b\b\b\b\b\b\b\b\b\b\b\b\b\b\b\b\b\b\b\b\b\b\b\b\b\b\b\b\b\b\b\b\b\b\b\b\b\b\b\b\r37\/37 [==============================] - 0s 2ms\/step - loss: 19743564.0000 - val_loss: 21238310.0000\n",
            "Epoch 212\/300\n",
            "\r 1\/37 [..............................] - ETA: 0s - loss: 20678392.0000\b\b\b\b\b\b\b\b\b\b\b\b\b\b\b\b\b\b\b\b\b\b\b\b\b\b\b\b\b\b\b\b\b\b\b\b\b\b\b\b\b\b\b\b\b\b\b\b\b\b\b\b\b\b\b\b\b\b\b\b\b\b\b\b\b\b\b\b\b\b\r37\/37 [==============================] - 0s 2ms\/step - loss: 19705658.0000 - val_loss: 21215494.0000\n",
            "Epoch 213\/300\n",
            "\r 1\/37 [..............................] - ETA: 0s - loss: 19269496.0000\b\b\b\b\b\b\b\b\b\b\b\b\b\b\b\b\b\b\b\b\b\b\b\b\b\b\b\b\b\b\b\b\b\b\b\b\b\b\b\b\b\b\b\b\b\b\b\b\b\b\b\b\b\b\b\b\b\b\b\b\b\b\b\b\b\b\b\b\b\b\r37\/37 [==============================] - 0s 2ms\/step - loss: 19691592.0000 - val_loss: 21176796.0000\n",
            "Epoch 214\/300\n",
            "\r 1\/37 [..............................] - ETA: 0s - loss: 20794638.0000\b\b\b\b\b\b\b\b\b\b\b\b\b\b\b\b\b\b\b\b\b\b\b\b\b\b\b\b\b\b\b\b\b\b\b\b\b\b\b\b\b\b\b\b\b\b\b\b\b\b\b\b\b\b\b\b\b\b\b\b\b\b\b\b\b\b\b\b\b\b\r37\/37 [==============================] - 0s 2ms\/step - loss: 19679028.0000 - val_loss: 21155952.0000\n",
            "Epoch 215\/300\n",
            "\r 1\/37 [..............................] - ETA: 0s - loss: 21878112.0000\b\b\b\b\b\b\b\b\b\b\b\b\b\b\b\b\b\b\b\b\b\b\b\b\b\b\b\b\b\b\b\b\b\b\b\b\b\b\b\b\b\b\b\b\b\b\b\b\b\b\b\b\b\b\b\b\b\b\b\b\b\b\b\b\b\b\b\b\b\b\r37\/37 [==============================] - 0s 3ms\/step - loss: 19656232.0000 - val_loss: 21134382.0000\n",
            "Epoch 216\/300\n",
            "\r 1\/37 [..............................] - ETA: 0s - loss: 15704770.0000\b\b\b\b\b\b\b\b\b\b\b\b\b\b\b\b\b\b\b\b\b\b\b\b\b\b\b\b\b\b\b\b\b\b\b\b\b\b\b\b\b\b\b\b\b\b\b\b\b\b\b\b\b\b\b\b\b\b\b\b\b\b\b\b\b\b\b\b\b\b\r37\/37 [==============================] - 0s 3ms\/step - loss: 19635284.0000 - val_loss: 21109748.0000\n",
            "Epoch 217\/300\n",
            "\r 1\/37 [..............................] - ETA: 0s - loss: 19449694.0000\b\b\b\b\b\b\b\b\b\b\b\b\b\b\b\b\b\b\b\b\b\b\b\b\b\b\b\b\b\b\b\b\b\b\b\b\b\b\b\b\b\b\b\b\b\b\b\b\b\b\b\b\b\b\b\b\b\b\b\b\b\b\b\b\b\b\b\b\b\b\r35\/37 [===========================>..] - ETA: 0s - loss: 19608656.0000\b\b\b\b\b\b\b\b\b\b\b\b\b\b\b\b\b\b\b\b\b\b\b\b\b\b\b\b\b\b\b\b\b\b\b\b\b\b\b\b\b\b\b\b\b\b\b\b\b\b\b\b\b\b\b\b\b\b\b\b\b\b\b\b\b\b\b\b\b\b\r37\/37 [==============================] - 0s 2ms\/step - loss: 19617208.0000 - val_loss: 21117130.0000\n",
            "Epoch 218\/300\n",
            "\r 1\/37 [..............................] - ETA: 0s - loss: 17578946.0000\b\b\b\b\b\b\b\b\b\b\b\b\b\b\b\b\b\b\b\b\b\b\b\b\b\b\b\b\b\b\b\b\b\b\b\b\b\b\b\b\b\b\b\b\b\b\b\b\b\b\b\b\b\b\b\b\b\b\b\b\b\b\b\b\b\b\b\b\b\b\r37\/37 [==============================] - 0s 2ms\/step - loss: 19610304.0000 - val_loss: 21065298.0000\n",
            "Epoch 219\/300\n",
            "\r 1\/37 [..............................] - ETA: 0s - loss: 23467458.0000\b\b\b\b\b\b\b\b\b\b\b\b\b\b\b\b\b\b\b\b\b\b\b\b\b\b\b\b\b\b\b\b\b\b\b\b\b\b\b\b\b\b\b\b\b\b\b\b\b\b\b\b\b\b\b\b\b\b\b\b\b\b\b\b\b\b\b\b\b\b\r37\/37 [==============================] - 0s 2ms\/step - loss: 19583452.0000 - val_loss: 21056278.0000\n",
            "Epoch 220\/300\n",
            "\r 1\/37 [..............................] - ETA: 0s - loss: 18745806.0000\b\b\b\b\b\b\b\b\b\b\b\b\b\b\b\b\b\b\b\b\b\b\b\b\b\b\b\b\b\b\b\b\b\b\b\b\b\b\b\b\b\b\b\b\b\b\b\b\b\b\b\b\b\b\b\b\b\b\b\b\b\b\b\b\b\b\b\b\b\b\r37\/37 [==============================] - 0s 2ms\/step - loss: 19571158.0000 - val_loss: 21033630.0000\n",
            "Epoch 221\/300\n",
            "\r 1\/37 [..............................] - ETA: 0s - loss: 19907650.0000\b\b\b\b\b\b\b\b\b\b\b\b\b\b\b\b\b\b\b\b\b\b\b\b\b\b\b\b\b\b\b\b\b\b\b\b\b\b\b\b\b\b\b\b\b\b\b\b\b\b\b\b\b\b\b\b\b\b\b\b\b\b\b\b\b\b\b\b\b\b\r37\/37 [==============================] - ETA: 0s - loss: 19550294.0000\b\b\b\b\b\b\b\b\b\b\b\b\b\b\b\b\b\b\b\b\b\b\b\b\b\b\b\b\b\b\b\b\b\b\b\b\b\b\b\b\b\b\b\b\b\b\b\b\b\b\b\b\b\b\b\b\b\b\b\b\b\b\b\b\b\b\b\b\b\b\r37\/37 [==============================] - 0s 2ms\/step - loss: 19550294.0000 - val_loss: 21009586.0000\n",
            "Epoch 222\/300\n",
            "\r 1\/37 [..............................] - ETA: 0s - loss: 19199084.0000\b\b\b\b\b\b\b\b\b\b\b\b\b\b\b\b\b\b\b\b\b\b\b\b\b\b\b\b\b\b\b\b\b\b\b\b\b\b\b\b\b\b\b\b\b\b\b\b\b\b\b\b\b\b\b\b\b\b\b\b\b\b\b\b\b\b\b\b\b\b\r37\/37 [==============================] - 0s 2ms\/step - loss: 19531226.0000 - val_loss: 21005438.0000\n",
            "Epoch 223\/300\n",
            "\r 1\/37 [..............................] - ETA: 0s - loss: 19615874.0000\b\b\b\b\b\b\b\b\b\b\b\b\b\b\b\b\b\b\b\b\b\b\b\b\b\b\b\b\b\b\b\b\b\b\b\b\b\b\b\b\b\b\b\b\b\b\b\b\b\b\b\b\b\b\b\b\b\b\b\b\b\b\b\b\b\b\b\b\b\b\r37\/37 [==============================] - 0s 2ms\/step - loss: 19502904.0000 - val_loss: 21018422.0000\n",
            "Epoch 224\/300\n",
            "\r 1\/37 [..............................] - ETA: 0s - loss: 16092706.0000\b\b\b\b\b\b\b\b\b\b\b\b\b\b\b\b\b\b\b\b\b\b\b\b\b\b\b\b\b\b\b\b\b\b\b\b\b\b\b\b\b\b\b\b\b\b\b\b\b\b\b\b\b\b\b\b\b\b\b\b\b\b\b\b\b\b\b\b\b\b\r37\/37 [==============================] - 0s 2ms\/step - loss: 19553228.0000 - val_loss: 20965766.0000\n",
            "Epoch 225\/300\n",
            "\r 1\/37 [..............................] - ETA: 0s - loss: 24391884.0000\b\b\b\b\b\b\b\b\b\b\b\b\b\b\b\b\b\b\b\b\b\b\b\b\b\b\b\b\b\b\b\b\b\b\b\b\b\b\b\b\b\b\b\b\b\b\b\b\b\b\b\b\b\b\b\b\b\b\b\b\b\b\b\b\b\b\b\b\b\b\r37\/37 [==============================] - 0s 2ms\/step - loss: 19499802.0000 - val_loss: 20993160.0000\n",
            "Epoch 226\/300\n",
            "\r 1\/37 [..............................] - ETA: 0s - loss: 18853308.0000\b\b\b\b\b\b\b\b\b\b\b\b\b\b\b\b\b\b\b\b\b\b\b\b\b\b\b\b\b\b\b\b\b\b\b\b\b\b\b\b\b\b\b\b\b\b\b\b\b\b\b\b\b\b\b\b\b\b\b\b\b\b\b\b\b\b\b\b\b\b\r37\/37 [==============================] - 0s 2ms\/step - loss: 19472864.0000 - val_loss: 20967270.0000\n",
            "Epoch 227\/300\n",
            "\r 1\/37 [..............................] - ETA: 0s - loss: 17833056.0000\b\b\b\b\b\b\b\b\b\b\b\b\b\b\b\b\b\b\b\b\b\b\b\b\b\b\b\b\b\b\b\b\b\b\b\b\b\b\b\b\b\b\b\b\b\b\b\b\b\b\b\b\b\b\b\b\b\b\b\b\b\b\b\b\b\b\b\b\b\b\r37\/37 [==============================] - ETA: 0s - loss: 19478816.0000\b\b\b\b\b\b\b\b\b\b\b\b\b\b\b\b\b\b\b\b\b\b\b\b\b\b\b\b\b\b\b\b\b\b\b\b\b\b\b\b\b\b\b\b\b\b\b\b\b\b\b\b\b\b\b\b\b\b\b\b\b\b\b\b\b\b\b\b\b\b\r37\/37 [==============================] - 0s 2ms\/step - loss: 19478816.0000 - val_loss: 20922046.0000\n",
            "Epoch 228\/300\n",
            "\r 1\/37 [..............................] - ETA: 0s - loss: 18077310.0000\b\b\b\b\b\b\b\b\b\b\b\b\b\b\b\b\b\b\b\b\b\b\b\b\b\b\b\b\b\b\b\b\b\b\b\b\b\b\b\b\b\b\b\b\b\b\b\b\b\b\b\b\b\b\b\b\b\b\b\b\b\b\b\b\b\b\b\b\b\b\r30\/37 [=======================>......] - ETA: 0s - loss: 19198844.0000\b\b\b\b\b\b\b\b\b\b\b\b\b\b\b\b\b\b\b\b\b\b\b\b\b\b\b\b\b\b\b\b\b\b\b\b\b\b\b\b\b\b\b\b\b\b\b\b\b\b\b\b\b\b\b\b\b\b\b\b\b\b\b\b\b\b\b\b\b\b\r37\/37 [==============================] - 0s 3ms\/step - loss: 19448790.0000 - val_loss: 20958138.0000\n",
            "Epoch 229\/300\n",
            "\r 1\/37 [..............................] - ETA: 0s - loss: 17869790.0000\b\b\b\b\b\b\b\b\b\b\b\b\b\b\b\b\b\b\b\b\b\b\b\b\b\b\b\b\b\b\b\b\b\b\b\b\b\b\b\b\b\b\b\b\b\b\b\b\b\b\b\b\b\b\b\b\b\b\b\b\b\b\b\b\b\b\b\b\b\b\r27\/37 [====================>.........] - ETA: 0s - loss: 19728720.0000\b\b\b\b\b\b\b\b\b\b\b\b\b\b\b\b\b\b\b\b\b\b\b\b\b\b\b\b\b\b\b\b\b\b\b\b\b\b\b\b\b\b\b\b\b\b\b\b\b\b\b\b\b\b\b\b\b\b\b\b\b\b\b\b\b\b\b\b\b\b\r37\/37 [==============================] - 0s 3ms\/step - loss: 19437770.0000 - val_loss: 20896918.0000\n",
            "Epoch 230\/300\n",
            "\r 1\/37 [..............................] - ETA: 0s - loss: 15554636.0000\b\b\b\b\b\b\b\b\b\b\b\b\b\b\b\b\b\b\b\b\b\b\b\b\b\b\b\b\b\b\b\b\b\b\b\b\b\b\b\b\b\b\b\b\b\b\b\b\b\b\b\b\b\b\b\b\b\b\b\b\b\b\b\b\b\b\b\b\b\b\r23\/37 [=================>............] - ETA: 0s - loss: 19185788.0000\b\b\b\b\b\b\b\b\b\b\b\b\b\b\b\b\b\b\b\b\b\b\b\b\b\b\b\b\b\b\b\b\b\b\b\b\b\b\b\b\b\b\b\b\b\b\b\b\b\b\b\b\b\b\b\b\b\b\b\b\b\b\b\b\b\b\b\b\b\b\r37\/37 [==============================] - 0s 3ms\/step - loss: 19420426.0000 - val_loss: 20894802.0000\n",
            "Epoch 231\/300\n",
            "\r 1\/37 [..............................] - ETA: 0s - loss: 19419902.0000\b\b\b\b\b\b\b\b\b\b\b\b\b\b\b\b\b\b\b\b\b\b\b\b\b\b\b\b\b\b\b\b\b\b\b\b\b\b\b\b\b\b\b\b\b\b\b\b\b\b\b\b\b\b\b\b\b\b\b\b\b\b\b\b\b\b\b\b\b\b\r30\/37 [=======================>......] - ETA: 0s - loss: 19558702.0000\b\b\b\b\b\b\b\b\b\b\b\b\b\b\b\b\b\b\b\b\b\b\b\b\b\b\b\b\b\b\b\b\b\b\b\b\b\b\b\b\b\b\b\b\b\b\b\b\b\b\b\b\b\b\b\b\b\b\b\b\b\b\b\b\b\b\b\b\b\b\r37\/37 [==============================] - 0s 3ms\/step - loss: 19406984.0000 - val_loss: 20868944.0000\n",
            "Epoch 232\/300\n",
            "\r 1\/37 [..............................] - ETA: 0s - loss: 17867728.0000\b\b\b\b\b\b\b\b\b\b\b\b\b\b\b\b\b\b\b\b\b\b\b\b\b\b\b\b\b\b\b\b\b\b\b\b\b\b\b\b\b\b\b\b\b\b\b\b\b\b\b\b\b\b\b\b\b\b\b\b\b\b\b\b\b\b\b\b\b\b\r36\/37 [============================>.] - ETA: 0s - loss: 19372186.0000\b\b\b\b\b\b\b\b\b\b\b\b\b\b\b\b\b\b\b\b\b\b\b\b\b\b\b\b\b\b\b\b\b\b\b\b\b\b\b\b\b\b\b\b\b\b\b\b\b\b\b\b\b\b\b\b\b\b\b\b\b\b\b\b\b\b\b\b\b\b\r37\/37 [==============================] - 0s 2ms\/step - loss: 19382282.0000 - val_loss: 20856286.0000\n",
            "Epoch 233\/300\n",
            "\r 1\/37 [..............................] - ETA: 0s - loss: 19779154.0000\b\b\b\b\b\b\b\b\b\b\b\b\b\b\b\b\b\b\b\b\b\b\b\b\b\b\b\b\b\b\b\b\b\b\b\b\b\b\b\b\b\b\b\b\b\b\b\b\b\b\b\b\b\b\b\b\b\b\b\b\b\b\b\b\b\b\b\b\b\b\r35\/37 [===========================>..] - ETA: 0s - loss: 19295704.0000\b\b\b\b\b\b\b\b\b\b\b\b\b\b\b\b\b\b\b\b\b\b\b\b\b\b\b\b\b\b\b\b\b\b\b\b\b\b\b\b\b\b\b\b\b\b\b\b\b\b\b\b\b\b\b\b\b\b\b\b\b\b\b\b\b\b\b\b\b\b\r37\/37 [==============================] - 0s 3ms\/step - loss: 19380158.0000 - val_loss: 20848194.0000\n",
            "Epoch 234\/300\n",
            "\r 1\/37 [..............................] - ETA: 0s - loss: 18479010.0000\b\b\b\b\b\b\b\b\b\b\b\b\b\b\b\b\b\b\b\b\b\b\b\b\b\b\b\b\b\b\b\b\b\b\b\b\b\b\b\b\b\b\b\b\b\b\b\b\b\b\b\b\b\b\b\b\b\b\b\b\b\b\b\b\b\b\b\b\b\b\r37\/37 [==============================] - ETA: 0s - loss: 19362772.0000\b\b\b\b\b\b\b\b\b\b\b\b\b\b\b\b\b\b\b\b\b\b\b\b\b\b\b\b\b\b\b\b\b\b\b\b\b\b\b\b\b\b\b\b\b\b\b\b\b\b\b\b\b\b\b\b\b\b\b\b\b\b\b\b\b\b\b\b\b\b\r37\/37 [==============================] - 0s 3ms\/step - loss: 19362772.0000 - val_loss: 20862744.0000\n",
            "Epoch 235\/300\n",
            "\r 1\/37 [..............................] - ETA: 0s - loss: 18453544.0000\b\b\b\b\b\b\b\b\b\b\b\b\b\b\b\b\b\b\b\b\b\b\b\b\b\b\b\b\b\b\b\b\b\b\b\b\b\b\b\b\b\b\b\b\b\b\b\b\b\b\b\b\b\b\b\b\b\b\b\b\b\b\b\b\b\b\b\b\b\b\r36\/37 [============================>.] - ETA: 0s - loss: 19403910.0000\b\b\b\b\b\b\b\b\b\b\b\b\b\b\b\b\b\b\b\b\b\b\b\b\b\b\b\b\b\b\b\b\b\b\b\b\b\b\b\b\b\b\b\b\b\b\b\b\b\b\b\b\b\b\b\b\b\b\b\b\b\b\b\b\b\b\b\b\b\b\r37\/37 [==============================] - 0s 2ms\/step - loss: 19346766.0000 - val_loss: 20825192.0000\n",
            "Epoch 236\/300\n",
            "\r 1\/37 [..............................] - ETA: 0s - loss: 19373508.0000\b\b\b\b\b\b\b\b\b\b\b\b\b\b\b\b\b\b\b\b\b\b\b\b\b\b\b\b\b\b\b\b\b\b\b\b\b\b\b\b\b\b\b\b\b\b\b\b\b\b\b\b\b\b\b\b\b\b\b\b\b\b\b\b\b\b\b\b\b\b\r37\/37 [==============================] - 0s 2ms\/step - loss: 19339266.0000 - val_loss: 20837014.0000\n",
            "Epoch 237\/300\n",
            "\r 1\/37 [..............................] - ETA: 0s - loss: 18237490.0000\b\b\b\b\b\b\b\b\b\b\b\b\b\b\b\b\b\b\b\b\b\b\b\b\b\b\b\b\b\b\b\b\b\b\b\b\b\b\b\b\b\b\b\b\b\b\b\b\b\b\b\b\b\b\b\b\b\b\b\b\b\b\b\b\b\b\b\b\b\b\r37\/37 [==============================] - 0s 2ms\/step - loss: 19322460.0000 - val_loss: 20802538.0000\n",
            "Epoch 238\/300\n",
            "\r 1\/37 [..............................] - ETA: 0s - loss: 16360734.0000\b\b\b\b\b\b\b\b\b\b\b\b\b\b\b\b\b\b\b\b\b\b\b\b\b\b\b\b\b\b\b\b\b\b\b\b\b\b\b\b\b\b\b\b\b\b\b\b\b\b\b\b\b\b\b\b\b\b\b\b\b\b\b\b\b\b\b\b\b\b\r37\/37 [==============================] - 0s 2ms\/step - loss: 19303414.0000 - val_loss: 20827212.0000\n",
            "Epoch 239\/300\n",
            "\r 1\/37 [..............................] - ETA: 0s - loss: 24766084.0000\b\b\b\b\b\b\b\b\b\b\b\b\b\b\b\b\b\b\b\b\b\b\b\b\b\b\b\b\b\b\b\b\b\b\b\b\b\b\b\b\b\b\b\b\b\b\b\b\b\b\b\b\b\b\b\b\b\b\b\b\b\b\b\b\b\b\b\b\b\b\r37\/37 [==============================] - 0s 2ms\/step - loss: 19321704.0000 - val_loss: 20778912.0000\n",
            "Epoch 240\/300\n",
            "\r 1\/37 [..............................] - ETA: 0s - loss: 17892774.0000\b\b\b\b\b\b\b\b\b\b\b\b\b\b\b\b\b\b\b\b\b\b\b\b\b\b\b\b\b\b\b\b\b\b\b\b\b\b\b\b\b\b\b\b\b\b\b\b\b\b\b\b\b\b\b\b\b\b\b\b\b\b\b\b\b\b\b\b\b\b\r37\/37 [==============================] - 0s 2ms\/step - loss: 19294506.0000 - val_loss: 20812006.0000\n",
            "Epoch 241\/300\n",
            "\r 1\/37 [..............................] - ETA: 0s - loss: 23938230.0000\b\b\b\b\b\b\b\b\b\b\b\b\b\b\b\b\b\b\b\b\b\b\b\b\b\b\b\b\b\b\b\b\b\b\b\b\b\b\b\b\b\b\b\b\b\b\b\b\b\b\b\b\b\b\b\b\b\b\b\b\b\b\b\b\b\b\b\b\b\b\r31\/37 [========================>.....] - ETA: 0s - loss: 19354128.0000\b\b\b\b\b\b\b\b\b\b\b\b\b\b\b\b\b\b\b\b\b\b\b\b\b\b\b\b\b\b\b\b\b\b\b\b\b\b\b\b\b\b\b\b\b\b\b\b\b\b\b\b\b\b\b\b\b\b\b\b\b\b\b\b\b\b\b\b\b\b\r37\/37 [==============================] - 0s 3ms\/step - loss: 19281976.0000 - val_loss: 20749662.0000\n",
            "Epoch 242\/300\n",
            "\r 1\/37 [..............................] - ETA: 0s - loss: 18645114.0000\b\b\b\b\b\b\b\b\b\b\b\b\b\b\b\b\b\b\b\b\b\b\b\b\b\b\b\b\b\b\b\b\b\b\b\b\b\b\b\b\b\b\b\b\b\b\b\b\b\b\b\b\b\b\b\b\b\b\b\b\b\b\b\b\b\b\b\b\b\b\r37\/37 [==============================] - ETA: 0s - loss: 19262466.0000\b\b\b\b\b\b\b\b\b\b\b\b\b\b\b\b\b\b\b\b\b\b\b\b\b\b\b\b\b\b\b\b\b\b\b\b\b\b\b\b\b\b\b\b\b\b\b\b\b\b\b\b\b\b\b\b\b\b\b\b\b\b\b\b\b\b\b\b\b\b\r37\/37 [==============================] - 0s 2ms\/step - loss: 19262466.0000 - val_loss: 20738532.0000\n",
            "Epoch 243\/300\n",
            "\r 1\/37 [..............................] - ETA: 0s - loss: 16621463.0000\b\b\b\b\b\b\b\b\b\b\b\b\b\b\b\b\b\b\b\b\b\b\b\b\b\b\b\b\b\b\b\b\b\b\b\b\b\b\b\b\b\b\b\b\b\b\b\b\b\b\b\b\b\b\b\b\b\b\b\b\b\b\b\b\b\b\b\b\b\b\r37\/37 [==============================] - 0s 2ms\/step - loss: 19261526.0000 - val_loss: 20787484.0000\n",
            "Epoch 244\/300\n",
            "\r 1\/37 [..............................] - ETA: 0s - loss: 22730678.0000\b\b\b\b\b\b\b\b\b\b\b\b\b\b\b\b\b\b\b\b\b\b\b\b\b\b\b\b\b\b\b\b\b\b\b\b\b\b\b\b\b\b\b\b\b\b\b\b\b\b\b\b\b\b\b\b\b\b\b\b\b\b\b\b\b\b\b\b\b\b\r37\/37 [==============================] - ETA: 0s - loss: 19241522.0000\b\b\b\b\b\b\b\b\b\b\b\b\b\b\b\b\b\b\b\b\b\b\b\b\b\b\b\b\b\b\b\b\b\b\b\b\b\b\b\b\b\b\b\b\b\b\b\b\b\b\b\b\b\b\b\b\b\b\b\b\b\b\b\b\b\b\b\b\b\b\r37\/37 [==============================] - 0s 3ms\/step - loss: 19241522.0000 - val_loss: 20717766.0000\n",
            "Epoch 245\/300\n",
            "\r 1\/37 [..............................] - ETA: 0s - loss: 22374176.0000\b\b\b\b\b\b\b\b\b\b\b\b\b\b\b\b\b\b\b\b\b\b\b\b\b\b\b\b\b\b\b\b\b\b\b\b\b\b\b\b\b\b\b\b\b\b\b\b\b\b\b\b\b\b\b\b\b\b\b\b\b\b\b\b\b\b\b\b\b\b\r36\/37 [============================>.] - ETA: 0s - loss: 19226308.0000\b\b\b\b\b\b\b\b\b\b\b\b\b\b\b\b\b\b\b\b\b\b\b\b\b\b\b\b\b\b\b\b\b\b\b\b\b\b\b\b\b\b\b\b\b\b\b\b\b\b\b\b\b\b\b\b\b\b\b\b\b\b\b\b\b\b\b\b\b\b\r37\/37 [==============================] - 0s 2ms\/step - loss: 19249950.0000 - val_loss: 20744828.0000\n",
            "Epoch 246\/300\n",
            "\r 1\/37 [..............................] - ETA: 0s - loss: 21692404.0000\b\b\b\b\b\b\b\b\b\b\b\b\b\b\b\b\b\b\b\b\b\b\b\b\b\b\b\b\b\b\b\b\b\b\b\b\b\b\b\b\b\b\b\b\b\b\b\b\b\b\b\b\b\b\b\b\b\b\b\b\b\b\b\b\b\b\b\b\b\b\r37\/37 [==============================] - 0s 3ms\/step - loss: 19219406.0000 - val_loss: 20689190.0000\n",
            "Epoch 247\/300\n",
            "\r 1\/37 [..............................] - ETA: 0s - loss: 18237760.0000\b\b\b\b\b\b\b\b\b\b\b\b\b\b\b\b\b\b\b\b\b\b\b\b\b\b\b\b\b\b\b\b\b\b\b\b\b\b\b\b\b\b\b\b\b\b\b\b\b\b\b\b\b\b\b\b\b\b\b\b\b\b\b\b\b\b\b\b\b\b\r37\/37 [==============================] - 0s 2ms\/step - loss: 19229474.0000 - val_loss: 20694758.0000\n",
            "Epoch 248\/300\n",
            "\r 1\/37 [..............................] - ETA: 0s - loss: 18683446.0000\b\b\b\b\b\b\b\b\b\b\b\b\b\b\b\b\b\b\b\b\b\b\b\b\b\b\b\b\b\b\b\b\b\b\b\b\b\b\b\b\b\b\b\b\b\b\b\b\b\b\b\b\b\b\b\b\b\b\b\b\b\b\b\b\b\b\b\b\b\b\r37\/37 [==============================] - 0s 2ms\/step - loss: 19183060.0000 - val_loss: 20669490.0000\n",
            "Epoch 249\/300\n",
            "\r 1\/37 [..............................] - ETA: 0s - loss: 17597950.0000\b\b\b\b\b\b\b\b\b\b\b\b\b\b\b\b\b\b\b\b\b\b\b\b\b\b\b\b\b\b\b\b\b\b\b\b\b\b\b\b\b\b\b\b\b\b\b\b\b\b\b\b\b\b\b\b\b\b\b\b\b\b\b\b\b\b\b\b\b\b\r37\/37 [==============================] - ETA: 0s - loss: 19188410.0000\b\b\b\b\b\b\b\b\b\b\b\b\b\b\b\b\b\b\b\b\b\b\b\b\b\b\b\b\b\b\b\b\b\b\b\b\b\b\b\b\b\b\b\b\b\b\b\b\b\b\b\b\b\b\b\b\b\b\b\b\b\b\b\b\b\b\b\b\b\b\r37\/37 [==============================] - 0s 3ms\/step - loss: 19188410.0000 - val_loss: 20659692.0000\n",
            "Epoch 250\/300\n",
            "\r 1\/37 [..............................] - ETA: 0s - loss: 19371336.0000\b\b\b\b\b\b\b\b\b\b\b\b\b\b\b\b\b\b\b\b\b\b\b\b\b\b\b\b\b\b\b\b\b\b\b\b\b\b\b\b\b\b\b\b\b\b\b\b\b\b\b\b\b\b\b\b\b\b\b\b\b\b\b\b\b\b\b\b\b\b\r37\/37 [==============================] - 0s 2ms\/step - loss: 19192476.0000 - val_loss: 20698762.0000\n",
            "Epoch 251\/300\n",
            "\r 1\/37 [..............................] - ETA: 0s - loss: 20880660.0000\b\b\b\b\b\b\b\b\b\b\b\b\b\b\b\b\b\b\b\b\b\b\b\b\b\b\b\b\b\b\b\b\b\b\b\b\b\b\b\b\b\b\b\b\b\b\b\b\b\b\b\b\b\b\b\b\b\b\b\b\b\b\b\b\b\b\b\b\b\b\r37\/37 [==============================] - 0s 3ms\/step - loss: 19152176.0000 - val_loss: 20629148.0000\n",
            "Epoch 252\/300\n",
            "\r 1\/37 [..............................] - ETA: 0s - loss: 21247896.0000\b\b\b\b\b\b\b\b\b\b\b\b\b\b\b\b\b\b\b\b\b\b\b\b\b\b\b\b\b\b\b\b\b\b\b\b\b\b\b\b\b\b\b\b\b\b\b\b\b\b\b\b\b\b\b\b\b\b\b\b\b\b\b\b\b\b\b\b\b\b\r36\/37 [============================>.] - ETA: 0s - loss: 19191772.0000\b\b\b\b\b\b\b\b\b\b\b\b\b\b\b\b\b\b\b\b\b\b\b\b\b\b\b\b\b\b\b\b\b\b\b\b\b\b\b\b\b\b\b\b\b\b\b\b\b\b\b\b\b\b\b\b\b\b\b\b\b\b\b\b\b\b\b\b\b\b\r37\/37 [==============================] - 0s 2ms\/step - loss: 19138026.0000 - val_loss: 20633462.0000\n",
            "Epoch 253\/300\n",
            "\r 1\/37 [..............................] - ETA: 0s - loss: 23613472.0000\b\b\b\b\b\b\b\b\b\b\b\b\b\b\b\b\b\b\b\b\b\b\b\b\b\b\b\b\b\b\b\b\b\b\b\b\b\b\b\b\b\b\b\b\b\b\b\b\b\b\b\b\b\b\b\b\b\b\b\b\b\b\b\b\b\b\b\b\b\b\r37\/37 [==============================] - 0s 2ms\/step - loss: 19131936.0000 - val_loss: 20609714.0000\n",
            "Epoch 254\/300\n",
            "\r 1\/37 [..............................] - ETA: 0s - loss: 17224498.0000\b\b\b\b\b\b\b\b\b\b\b\b\b\b\b\b\b\b\b\b\b\b\b\b\b\b\b\b\b\b\b\b\b\b\b\b\b\b\b\b\b\b\b\b\b\b\b\b\b\b\b\b\b\b\b\b\b\b\b\b\b\b\b\b\b\b\b\b\b\b\r37\/37 [==============================] - 0s 2ms\/step - loss: 19112902.0000 - val_loss: 20597122.0000\n",
            "Epoch 255\/300\n",
            "\r 1\/37 [..............................] - ETA: 0s - loss: 24864508.0000\b\b\b\b\b\b\b\b\b\b\b\b\b\b\b\b\b\b\b\b\b\b\b\b\b\b\b\b\b\b\b\b\b\b\b\b\b\b\b\b\b\b\b\b\b\b\b\b\b\b\b\b\b\b\b\b\b\b\b\b\b\b\b\b\b\b\b\b\b\b\r37\/37 [==============================] - 0s 2ms\/step - loss: 19118882.0000 - val_loss: 20580502.0000\n",
            "Epoch 256\/300\n",
            "\r 1\/37 [..............................] - ETA: 0s - loss: 21636150.0000\b\b\b\b\b\b\b\b\b\b\b\b\b\b\b\b\b\b\b\b\b\b\b\b\b\b\b\b\b\b\b\b\b\b\b\b\b\b\b\b\b\b\b\b\b\b\b\b\b\b\b\b\b\b\b\b\b\b\b\b\b\b\b\b\b\b\b\b\b\b\r37\/37 [==============================] - 0s 2ms\/step - loss: 19098202.0000 - val_loss: 20573674.0000\n",
            "Epoch 257\/300\n",
            "\r 1\/37 [..............................] - ETA: 0s - loss: 21619236.0000\b\b\b\b\b\b\b\b\b\b\b\b\b\b\b\b\b\b\b\b\b\b\b\b\b\b\b\b\b\b\b\b\b\b\b\b\b\b\b\b\b\b\b\b\b\b\b\b\b\b\b\b\b\b\b\b\b\b\b\b\b\b\b\b\b\b\b\b\b\b\r37\/37 [==============================] - 0s 2ms\/step - loss: 19078598.0000 - val_loss: 20572770.0000\n",
            "Epoch 258\/300\n",
            "\r 1\/37 [..............................] - ETA: 0s - loss: 16276074.0000\b\b\b\b\b\b\b\b\b\b\b\b\b\b\b\b\b\b\b\b\b\b\b\b\b\b\b\b\b\b\b\b\b\b\b\b\b\b\b\b\b\b\b\b\b\b\b\b\b\b\b\b\b\b\b\b\b\b\b\b\b\b\b\b\b\b\b\b\b\b\r37\/37 [==============================] - 0s 3ms\/step - loss: 19074724.0000 - val_loss: 20560794.0000\n",
            "Epoch 259\/300\n",
            "\r 1\/37 [..............................] - ETA: 0s - loss: 18790440.0000\b\b\b\b\b\b\b\b\b\b\b\b\b\b\b\b\b\b\b\b\b\b\b\b\b\b\b\b\b\b\b\b\b\b\b\b\b\b\b\b\b\b\b\b\b\b\b\b\b\b\b\b\b\b\b\b\b\b\b\b\b\b\b\b\b\b\b\b\b\b\r37\/37 [==============================] - 0s 2ms\/step - loss: 19059172.0000 - val_loss: 20598038.0000\n",
            "Epoch 260\/300\n",
            "\r 1\/37 [..............................] - ETA: 0s - loss: 16010227.0000\b\b\b\b\b\b\b\b\b\b\b\b\b\b\b\b\b\b\b\b\b\b\b\b\b\b\b\b\b\b\b\b\b\b\b\b\b\b\b\b\b\b\b\b\b\b\b\b\b\b\b\b\b\b\b\b\b\b\b\b\b\b\b\b\b\b\b\b\b\b\r37\/37 [==============================] - ETA: 0s - loss: 19053156.0000\b\b\b\b\b\b\b\b\b\b\b\b\b\b\b\b\b\b\b\b\b\b\b\b\b\b\b\b\b\b\b\b\b\b\b\b\b\b\b\b\b\b\b\b\b\b\b\b\b\b\b\b\b\b\b\b\b\b\b\b\b\b\b\b\b\b\b\b\b\b\r37\/37 [==============================] - 0s 2ms\/step - loss: 19053156.0000 - val_loss: 20535984.0000\n",
            "Epoch 261\/300\n",
            "\r 1\/37 [..............................] - ETA: 0s - loss: 17400254.0000\b\b\b\b\b\b\b\b\b\b\b\b\b\b\b\b\b\b\b\b\b\b\b\b\b\b\b\b\b\b\b\b\b\b\b\b\b\b\b\b\b\b\b\b\b\b\b\b\b\b\b\b\b\b\b\b\b\b\b\b\b\b\b\b\b\b\b\b\b\b\r37\/37 [==============================] - ETA: 0s - loss: 19073174.0000\b\b\b\b\b\b\b\b\b\b\b\b\b\b\b\b\b\b\b\b\b\b\b\b\b\b\b\b\b\b\b\b\b\b\b\b\b\b\b\b\b\b\b\b\b\b\b\b\b\b\b\b\b\b\b\b\b\b\b\b\b\b\b\b\b\b\b\b\b\b\r37\/37 [==============================] - 0s 2ms\/step - loss: 19073174.0000 - val_loss: 20517804.0000\n",
            "Epoch 262\/300\n",
            "\r 1\/37 [..............................] - ETA: 0s - loss: 16857096.0000\b\b\b\b\b\b\b\b\b\b\b\b\b\b\b\b\b\b\b\b\b\b\b\b\b\b\b\b\b\b\b\b\b\b\b\b\b\b\b\b\b\b\b\b\b\b\b\b\b\b\b\b\b\b\b\b\b\b\b\b\b\b\b\b\b\b\b\b\b\b\r37\/37 [==============================] - ETA: 0s - loss: 19056508.0000\b\b\b\b\b\b\b\b\b\b\b\b\b\b\b\b\b\b\b\b\b\b\b\b\b\b\b\b\b\b\b\b\b\b\b\b\b\b\b\b\b\b\b\b\b\b\b\b\b\b\b\b\b\b\b\b\b\b\b\b\b\b\b\b\b\b\b\b\b\b\r37\/37 [==============================] - 0s 3ms\/step - loss: 19056508.0000 - val_loss: 20522854.0000\n",
            "Epoch 263\/300\n",
            "\r 1\/37 [..............................] - ETA: 0s - loss: 18210370.0000\b\b\b\b\b\b\b\b\b\b\b\b\b\b\b\b\b\b\b\b\b\b\b\b\b\b\b\b\b\b\b\b\b\b\b\b\b\b\b\b\b\b\b\b\b\b\b\b\b\b\b\b\b\b\b\b\b\b\b\b\b\b\b\b\b\b\b\b\b\b\r37\/37 [==============================] - 0s 2ms\/step - loss: 19015998.0000 - val_loss: 20544018.0000\n",
            "Epoch 264\/300\n",
            "\r 1\/37 [..............................] - ETA: 0s - loss: 18446360.0000\b\b\b\b\b\b\b\b\b\b\b\b\b\b\b\b\b\b\b\b\b\b\b\b\b\b\b\b\b\b\b\b\b\b\b\b\b\b\b\b\b\b\b\b\b\b\b\b\b\b\b\b\b\b\b\b\b\b\b\b\b\b\b\b\b\b\b\b\b\b\r37\/37 [==============================] - 0s 2ms\/step - loss: 19029464.0000 - val_loss: 20498410.0000\n",
            "Epoch 265\/300\n",
            "\r 1\/37 [..............................] - ETA: 0s - loss: 15397683.0000\b\b\b\b\b\b\b\b\b\b\b\b\b\b\b\b\b\b\b\b\b\b\b\b\b\b\b\b\b\b\b\b\b\b\b\b\b\b\b\b\b\b\b\b\b\b\b\b\b\b\b\b\b\b\b\b\b\b\b\b\b\b\b\b\b\b\b\b\b\b\r37\/37 [==============================] - 0s 2ms\/step - loss: 19001470.0000 - val_loss: 20485412.0000\n",
            "Epoch 266\/300\n",
            "\r 1\/37 [..............................] - ETA: 0s - loss: 18808184.0000\b\b\b\b\b\b\b\b\b\b\b\b\b\b\b\b\b\b\b\b\b\b\b\b\b\b\b\b\b\b\b\b\b\b\b\b\b\b\b\b\b\b\b\b\b\b\b\b\b\b\b\b\b\b\b\b\b\b\b\b\b\b\b\b\b\b\b\b\b\b\r37\/37 [==============================] - 0s 3ms\/step - loss: 18989818.0000 - val_loss: 20478916.0000\n",
            "Epoch 267\/300\n",
            "\r 1\/37 [..............................] - ETA: 0s - loss: 19840488.0000\b\b\b\b\b\b\b\b\b\b\b\b\b\b\b\b\b\b\b\b\b\b\b\b\b\b\b\b\b\b\b\b\b\b\b\b\b\b\b\b\b\b\b\b\b\b\b\b\b\b\b\b\b\b\b\b\b\b\b\b\b\b\b\b\b\b\b\b\b\b\r37\/37 [==============================] - 0s 2ms\/step - loss: 18986278.0000 - val_loss: 20528146.0000\n",
            "Epoch 268\/300\n",
            "\r 1\/37 [..............................] - ETA: 0s - loss: 19225098.0000\b\b\b\b\b\b\b\b\b\b\b\b\b\b\b\b\b\b\b\b\b\b\b\b\b\b\b\b\b\b\b\b\b\b\b\b\b\b\b\b\b\b\b\b\b\b\b\b\b\b\b\b\b\b\b\b\b\b\b\b\b\b\b\b\b\b\b\b\b\b\r37\/37 [==============================] - ETA: 0s - loss: 18990148.0000\b\b\b\b\b\b\b\b\b\b\b\b\b\b\b\b\b\b\b\b\b\b\b\b\b\b\b\b\b\b\b\b\b\b\b\b\b\b\b\b\b\b\b\b\b\b\b\b\b\b\b\b\b\b\b\b\b\b\b\b\b\b\b\b\b\b\b\b\b\b\r37\/37 [==============================] - 0s 3ms\/step - loss: 18990148.0000 - val_loss: 20462820.0000\n",
            "Epoch 269\/300\n",
            "\r 1\/37 [..............................] - ETA: 0s - loss: 18500452.0000\b\b\b\b\b\b\b\b\b\b\b\b\b\b\b\b\b\b\b\b\b\b\b\b\b\b\b\b\b\b\b\b\b\b\b\b\b\b\b\b\b\b\b\b\b\b\b\b\b\b\b\b\b\b\b\b\b\b\b\b\b\b\b\b\b\b\b\b\b\b\r37\/37 [==============================] - ETA: 0s - loss: 18986376.0000\b\b\b\b\b\b\b\b\b\b\b\b\b\b\b\b\b\b\b\b\b\b\b\b\b\b\b\b\b\b\b\b\b\b\b\b\b\b\b\b\b\b\b\b\b\b\b\b\b\b\b\b\b\b\b\b\b\b\b\b\b\b\b\b\b\b\b\b\b\b\r37\/37 [==============================] - 0s 2ms\/step - loss: 18986376.0000 - val_loss: 20517530.0000\n",
            "Epoch 270\/300\n",
            "\r 1\/37 [..............................] - ETA: 0s - loss: 20291180.0000\b\b\b\b\b\b\b\b\b\b\b\b\b\b\b\b\b\b\b\b\b\b\b\b\b\b\b\b\b\b\b\b\b\b\b\b\b\b\b\b\b\b\b\b\b\b\b\b\b\b\b\b\b\b\b\b\b\b\b\b\b\b\b\b\b\b\b\b\b\b\r36\/37 [============================>.] - ETA: 0s - loss: 18928674.0000\b\b\b\b\b\b\b\b\b\b\b\b\b\b\b\b\b\b\b\b\b\b\b\b\b\b\b\b\b\b\b\b\b\b\b\b\b\b\b\b\b\b\b\b\b\b\b\b\b\b\b\b\b\b\b\b\b\b\b\b\b\b\b\b\b\b\b\b\b\b\r37\/37 [==============================] - 0s 2ms\/step - loss: 18966544.0000 - val_loss: 20444620.0000\n",
            "Epoch 271\/300\n",
            "\r 1\/37 [..............................] - ETA: 0s - loss: 15038293.0000\b\b\b\b\b\b\b\b\b\b\b\b\b\b\b\b\b\b\b\b\b\b\b\b\b\b\b\b\b\b\b\b\b\b\b\b\b\b\b\b\b\b\b\b\b\b\b\b\b\b\b\b\b\b\b\b\b\b\b\b\b\b\b\b\b\b\b\b\b\b\r37\/37 [==============================] - ETA: 0s - loss: 18939908.0000\b\b\b\b\b\b\b\b\b\b\b\b\b\b\b\b\b\b\b\b\b\b\b\b\b\b\b\b\b\b\b\b\b\b\b\b\b\b\b\b\b\b\b\b\b\b\b\b\b\b\b\b\b\b\b\b\b\b\b\b\b\b\b\b\b\b\b\b\b\b\r37\/37 [==============================] - 0s 3ms\/step - loss: 18939908.0000 - val_loss: 20432806.0000\n",
            "Epoch 272\/300\n",
            "\r 1\/37 [..............................] - ETA: 0s - loss: 16687364.0000\b\b\b\b\b\b\b\b\b\b\b\b\b\b\b\b\b\b\b\b\b\b\b\b\b\b\b\b\b\b\b\b\b\b\b\b\b\b\b\b\b\b\b\b\b\b\b\b\b\b\b\b\b\b\b\b\b\b\b\b\b\b\b\b\b\b\b\b\b\b\r37\/37 [==============================] - ETA: 0s - loss: 18935422.0000\b\b\b\b\b\b\b\b\b\b\b\b\b\b\b\b\b\b\b\b\b\b\b\b\b\b\b\b\b\b\b\b\b\b\b\b\b\b\b\b\b\b\b\b\b\b\b\b\b\b\b\b\b\b\b\b\b\b\b\b\b\b\b\b\b\b\b\b\b\b\r37\/37 [==============================] - 0s 2ms\/step - loss: 18935422.0000 - val_loss: 20546086.0000\n",
            "Epoch 273\/300\n",
            "\r 1\/37 [..............................] - ETA: 0s - loss: 18542362.0000\b\b\b\b\b\b\b\b\b\b\b\b\b\b\b\b\b\b\b\b\b\b\b\b\b\b\b\b\b\b\b\b\b\b\b\b\b\b\b\b\b\b\b\b\b\b\b\b\b\b\b\b\b\b\b\b\b\b\b\b\b\b\b\b\b\b\b\b\b\b\r37\/37 [==============================] - 0s 2ms\/step - loss: 18984832.0000 - val_loss: 20434762.0000\n",
            "Epoch 274\/300\n",
            "\r 1\/37 [..............................] - ETA: 0s - loss: 18912496.0000\b\b\b\b\b\b\b\b\b\b\b\b\b\b\b\b\b\b\b\b\b\b\b\b\b\b\b\b\b\b\b\b\b\b\b\b\b\b\b\b\b\b\b\b\b\b\b\b\b\b\b\b\b\b\b\b\b\b\b\b\b\b\b\b\b\b\b\b\b\b\r37\/37 [==============================] - 0s 2ms\/step - loss: 18913672.0000 - val_loss: 20396192.0000\n",
            "Epoch 275\/300\n",
            "\r 1\/37 [..............................] - ETA: 0s - loss: 16039849.0000\b\b\b\b\b\b\b\b\b\b\b\b\b\b\b\b\b\b\b\b\b\b\b\b\b\b\b\b\b\b\b\b\b\b\b\b\b\b\b\b\b\b\b\b\b\b\b\b\b\b\b\b\b\b\b\b\b\b\b\b\b\b\b\b\b\b\b\b\b\b\r37\/37 [==============================] - 0s 2ms\/step - loss: 18927742.0000 - val_loss: 20424730.0000\n",
            "Epoch 276\/300\n",
            "\r 1\/37 [..............................] - ETA: 0s - loss: 20160132.0000\b\b\b\b\b\b\b\b\b\b\b\b\b\b\b\b\b\b\b\b\b\b\b\b\b\b\b\b\b\b\b\b\b\b\b\b\b\b\b\b\b\b\b\b\b\b\b\b\b\b\b\b\b\b\b\b\b\b\b\b\b\b\b\b\b\b\b\b\b\b\r37\/37 [==============================] - 0s 2ms\/step - loss: 18945222.0000 - val_loss: 20370724.0000\n",
            "Epoch 277\/300\n",
            "\r 1\/37 [..............................] - ETA: 0s - loss: 17767570.0000\b\b\b\b\b\b\b\b\b\b\b\b\b\b\b\b\b\b\b\b\b\b\b\b\b\b\b\b\b\b\b\b\b\b\b\b\b\b\b\b\b\b\b\b\b\b\b\b\b\b\b\b\b\b\b\b\b\b\b\b\b\b\b\b\b\b\b\b\b\b\r37\/37 [==============================] - ETA: 0s - loss: 18888596.0000\b\b\b\b\b\b\b\b\b\b\b\b\b\b\b\b\b\b\b\b\b\b\b\b\b\b\b\b\b\b\b\b\b\b\b\b\b\b\b\b\b\b\b\b\b\b\b\b\b\b\b\b\b\b\b\b\b\b\b\b\b\b\b\b\b\b\b\b\b\b\r37\/37 [==============================] - 0s 2ms\/step - loss: 18888596.0000 - val_loss: 20386852.0000\n",
            "Epoch 278\/300\n",
            "\r 1\/37 [..............................] - ETA: 0s - loss: 19396982.0000\b\b\b\b\b\b\b\b\b\b\b\b\b\b\b\b\b\b\b\b\b\b\b\b\b\b\b\b\b\b\b\b\b\b\b\b\b\b\b\b\b\b\b\b\b\b\b\b\b\b\b\b\b\b\b\b\b\b\b\b\b\b\b\b\b\b\b\b\b\b\r37\/37 [==============================] - 0s 2ms\/step - loss: 18917690.0000 - val_loss: 20366620.0000\n",
            "Epoch 279\/300\n",
            "\r 1\/37 [..............................] - ETA: 0s - loss: 18509634.0000\b\b\b\b\b\b\b\b\b\b\b\b\b\b\b\b\b\b\b\b\b\b\b\b\b\b\b\b\b\b\b\b\b\b\b\b\b\b\b\b\b\b\b\b\b\b\b\b\b\b\b\b\b\b\b\b\b\b\b\b\b\b\b\b\b\b\b\b\b\b\r37\/37 [==============================] - 0s 2ms\/step - loss: 18896308.0000 - val_loss: 20356726.0000\n",
            "Epoch 280\/300\n",
            "\r 1\/37 [..............................] - ETA: 0s - loss: 21652048.0000\b\b\b\b\b\b\b\b\b\b\b\b\b\b\b\b\b\b\b\b\b\b\b\b\b\b\b\b\b\b\b\b\b\b\b\b\b\b\b\b\b\b\b\b\b\b\b\b\b\b\b\b\b\b\b\b\b\b\b\b\b\b\b\b\b\b\b\b\b\b\r37\/37 [==============================] - ETA: 0s - loss: 18884448.0000\b\b\b\b\b\b\b\b\b\b\b\b\b\b\b\b\b\b\b\b\b\b\b\b\b\b\b\b\b\b\b\b\b\b\b\b\b\b\b\b\b\b\b\b\b\b\b\b\b\b\b\b\b\b\b\b\b\b\b\b\b\b\b\b\b\b\b\b\b\b\r37\/37 [==============================] - 0s 2ms\/step - loss: 18884448.0000 - val_loss: 20353368.0000\n",
            "Epoch 281\/300\n",
            "\r 1\/37 [..............................] - ETA: 0s - loss: 15712109.0000\b\b\b\b\b\b\b\b\b\b\b\b\b\b\b\b\b\b\b\b\b\b\b\b\b\b\b\b\b\b\b\b\b\b\b\b\b\b\b\b\b\b\b\b\b\b\b\b\b\b\b\b\b\b\b\b\b\b\b\b\b\b\b\b\b\b\b\b\b\b\r37\/37 [==============================] - ETA: 0s - loss: 18891314.0000\b\b\b\b\b\b\b\b\b\b\b\b\b\b\b\b\b\b\b\b\b\b\b\b\b\b\b\b\b\b\b\b\b\b\b\b\b\b\b\b\b\b\b\b\b\b\b\b\b\b\b\b\b\b\b\b\b\b\b\b\b\b\b\b\b\b\b\b\b\b\r37\/37 [==============================] - 0s 3ms\/step - loss: 18891314.0000 - val_loss: 20330804.0000\n",
            "Epoch 282\/300\n",
            "\r 1\/37 [..............................] - ETA: 0s - loss: 17679018.0000\b\b\b\b\b\b\b\b\b\b\b\b\b\b\b\b\b\b\b\b\b\b\b\b\b\b\b\b\b\b\b\b\b\b\b\b\b\b\b\b\b\b\b\b\b\b\b\b\b\b\b\b\b\b\b\b\b\b\b\b\b\b\b\b\b\b\b\b\b\b\r37\/37 [==============================] - ETA: 0s - loss: 18854232.0000\b\b\b\b\b\b\b\b\b\b\b\b\b\b\b\b\b\b\b\b\b\b\b\b\b\b\b\b\b\b\b\b\b\b\b\b\b\b\b\b\b\b\b\b\b\b\b\b\b\b\b\b\b\b\b\b\b\b\b\b\b\b\b\b\b\b\b\b\b\b\r37\/37 [==============================] - 0s 3ms\/step - loss: 18854232.0000 - val_loss: 20334910.0000\n",
            "Epoch 283\/300\n",
            "\r 1\/37 [..............................] - ETA: 0s - loss: 20853220.0000\b\b\b\b\b\b\b\b\b\b\b\b\b\b\b\b\b\b\b\b\b\b\b\b\b\b\b\b\b\b\b\b\b\b\b\b\b\b\b\b\b\b\b\b\b\b\b\b\b\b\b\b\b\b\b\b\b\b\b\b\b\b\b\b\b\b\b\b\b\b\r37\/37 [==============================] - 0s 2ms\/step - loss: 18843798.0000 - val_loss: 20315502.0000\n",
            "Epoch 284\/300\n",
            "\r 1\/37 [..............................] - ETA: 0s - loss: 21792286.0000\b\b\b\b\b\b\b\b\b\b\b\b\b\b\b\b\b\b\b\b\b\b\b\b\b\b\b\b\b\b\b\b\b\b\b\b\b\b\b\b\b\b\b\b\b\b\b\b\b\b\b\b\b\b\b\b\b\b\b\b\b\b\b\b\b\b\b\b\b\b\r37\/37 [==============================] - 0s 2ms\/step - loss: 18828498.0000 - val_loss: 20310100.0000\n",
            "Epoch 285\/300\n",
            "\r 1\/37 [..............................] - ETA: 0s - loss: 17267508.0000\b\b\b\b\b\b\b\b\b\b\b\b\b\b\b\b\b\b\b\b\b\b\b\b\b\b\b\b\b\b\b\b\b\b\b\b\b\b\b\b\b\b\b\b\b\b\b\b\b\b\b\b\b\b\b\b\b\b\b\b\b\b\b\b\b\b\b\b\b\b\r37\/37 [==============================] - 0s 2ms\/step - loss: 18829384.0000 - val_loss: 20317152.0000\n",
            "Epoch 286\/300\n",
            "\r 1\/37 [..............................] - ETA: 0s - loss: 15061797.0000\b\b\b\b\b\b\b\b\b\b\b\b\b\b\b\b\b\b\b\b\b\b\b\b\b\b\b\b\b\b\b\b\b\b\b\b\b\b\b\b\b\b\b\b\b\b\b\b\b\b\b\b\b\b\b\b\b\b\b\b\b\b\b\b\b\b\b\b\b\b\r37\/37 [==============================] - 0s 2ms\/step - loss: 18835844.0000 - val_loss: 20290014.0000\n",
            "Epoch 287\/300\n",
            "\r 1\/37 [..............................] - ETA: 0s - loss: 17464872.0000\b\b\b\b\b\b\b\b\b\b\b\b\b\b\b\b\b\b\b\b\b\b\b\b\b\b\b\b\b\b\b\b\b\b\b\b\b\b\b\b\b\b\b\b\b\b\b\b\b\b\b\b\b\b\b\b\b\b\b\b\b\b\b\b\b\b\b\b\b\b\r37\/37 [==============================] - 0s 2ms\/step - loss: 18809780.0000 - val_loss: 20292624.0000\n",
            "Epoch 288\/300\n",
            "\r 1\/37 [..............................] - ETA: 0s - loss: 18330524.0000\b\b\b\b\b\b\b\b\b\b\b\b\b\b\b\b\b\b\b\b\b\b\b\b\b\b\b\b\b\b\b\b\b\b\b\b\b\b\b\b\b\b\b\b\b\b\b\b\b\b\b\b\b\b\b\b\b\b\b\b\b\b\b\b\b\b\b\b\b\b\r37\/37 [==============================] - ETA: 0s - loss: 18800832.0000\b\b\b\b\b\b\b\b\b\b\b\b\b\b\b\b\b\b\b\b\b\b\b\b\b\b\b\b\b\b\b\b\b\b\b\b\b\b\b\b\b\b\b\b\b\b\b\b\b\b\b\b\b\b\b\b\b\b\b\b\b\b\b\b\b\b\b\b\b\b\r37\/37 [==============================] - 0s 2ms\/step - loss: 18800832.0000 - val_loss: 20290498.0000\n",
            "Epoch 289\/300\n",
            "\r 1\/37 [..............................] - ETA: 0s - loss: 17858522.0000\b\b\b\b\b\b\b\b\b\b\b\b\b\b\b\b\b\b\b\b\b\b\b\b\b\b\b\b\b\b\b\b\b\b\b\b\b\b\b\b\b\b\b\b\b\b\b\b\b\b\b\b\b\b\b\b\b\b\b\b\b\b\b\b\b\b\b\b\b\b\r37\/37 [==============================] - 0s 2ms\/step - loss: 18794388.0000 - val_loss: 20273462.0000\n",
            "Epoch 290\/300\n",
            "\r 1\/37 [..............................] - ETA: 0s - loss: 20569944.0000\b\b\b\b\b\b\b\b\b\b\b\b\b\b\b\b\b\b\b\b\b\b\b\b\b\b\b\b\b\b\b\b\b\b\b\b\b\b\b\b\b\b\b\b\b\b\b\b\b\b\b\b\b\b\b\b\b\b\b\b\b\b\b\b\b\b\b\b\b\b\r35\/37 [===========================>..] - ETA: 0s - loss: 18801366.0000\b\b\b\b\b\b\b\b\b\b\b\b\b\b\b\b\b\b\b\b\b\b\b\b\b\b\b\b\b\b\b\b\b\b\b\b\b\b\b\b\b\b\b\b\b\b\b\b\b\b\b\b\b\b\b\b\b\b\b\b\b\b\b\b\b\b\b\b\b\b\r37\/37 [==============================] - 0s 2ms\/step - loss: 18769348.0000 - val_loss: 20349374.0000\n",
            "Epoch 291\/300\n",
            "\r 1\/37 [..............................] - ETA: 0s - loss: 20080614.0000\b\b\b\b\b\b\b\b\b\b\b\b\b\b\b\b\b\b\b\b\b\b\b\b\b\b\b\b\b\b\b\b\b\b\b\b\b\b\b\b\b\b\b\b\b\b\b\b\b\b\b\b\b\b\b\b\b\b\b\b\b\b\b\b\b\b\b\b\b\b\r37\/37 [==============================] - ETA: 0s - loss: 18803718.0000\b\b\b\b\b\b\b\b\b\b\b\b\b\b\b\b\b\b\b\b\b\b\b\b\b\b\b\b\b\b\b\b\b\b\b\b\b\b\b\b\b\b\b\b\b\b\b\b\b\b\b\b\b\b\b\b\b\b\b\b\b\b\b\b\b\b\b\b\b\b\r37\/37 [==============================] - 0s 3ms\/step - loss: 18803718.0000 - val_loss: 20251242.0000\n",
            "Epoch 292\/300\n",
            "\r 1\/37 [..............................] - ETA: 0s - loss: 17176482.0000\b\b\b\b\b\b\b\b\b\b\b\b\b\b\b\b\b\b\b\b\b\b\b\b\b\b\b\b\b\b\b\b\b\b\b\b\b\b\b\b\b\b\b\b\b\b\b\b\b\b\b\b\b\b\b\b\b\b\b\b\b\b\b\b\b\b\b\b\b\b\r37\/37 [==============================] - ETA: 0s - loss: 18769914.0000\b\b\b\b\b\b\b\b\b\b\b\b\b\b\b\b\b\b\b\b\b\b\b\b\b\b\b\b\b\b\b\b\b\b\b\b\b\b\b\b\b\b\b\b\b\b\b\b\b\b\b\b\b\b\b\b\b\b\b\b\b\b\b\b\b\b\b\b\b\b\r37\/37 [==============================] - 0s 3ms\/step - loss: 18769914.0000 - val_loss: 20250996.0000\n",
            "Epoch 293\/300\n",
            "\r 1\/37 [..............................] - ETA: 0s - loss: 22869232.0000\b\b\b\b\b\b\b\b\b\b\b\b\b\b\b\b\b\b\b\b\b\b\b\b\b\b\b\b\b\b\b\b\b\b\b\b\b\b\b\b\b\b\b\b\b\b\b\b\b\b\b\b\b\b\b\b\b\b\b\b\b\b\b\b\b\b\b\b\b\b\r37\/37 [==============================] - 0s 2ms\/step - loss: 18761152.0000 - val_loss: 20245424.0000\n",
            "Epoch 294\/300\n",
            "\r 1\/37 [..............................] - ETA: 0s - loss: 18577108.0000\b\b\b\b\b\b\b\b\b\b\b\b\b\b\b\b\b\b\b\b\b\b\b\b\b\b\b\b\b\b\b\b\b\b\b\b\b\b\b\b\b\b\b\b\b\b\b\b\b\b\b\b\b\b\b\b\b\b\b\b\b\b\b\b\b\b\b\b\b\b\r37\/37 [==============================] - ETA: 0s - loss: 18747086.0000\b\b\b\b\b\b\b\b\b\b\b\b\b\b\b\b\b\b\b\b\b\b\b\b\b\b\b\b\b\b\b\b\b\b\b\b\b\b\b\b\b\b\b\b\b\b\b\b\b\b\b\b\b\b\b\b\b\b\b\b\b\b\b\b\b\b\b\b\b\b\r37\/37 [==============================] - 0s 2ms\/step - loss: 18747086.0000 - val_loss: 20229224.0000\n",
            "Epoch 295\/300\n",
            "\r 1\/37 [..............................] - ETA: 0s - loss: 13123024.0000\b\b\b\b\b\b\b\b\b\b\b\b\b\b\b\b\b\b\b\b\b\b\b\b\b\b\b\b\b\b\b\b\b\b\b\b\b\b\b\b\b\b\b\b\b\b\b\b\b\b\b\b\b\b\b\b\b\b\b\b\b\b\b\b\b\b\b\b\b\b\r37\/37 [==============================] - 0s 2ms\/step - loss: 18782168.0000 - val_loss: 20247926.0000\n",
            "Epoch 296\/300\n",
            "\r 1\/37 [..............................] - ETA: 0s - loss: 21758492.0000\b\b\b\b\b\b\b\b\b\b\b\b\b\b\b\b\b\b\b\b\b\b\b\b\b\b\b\b\b\b\b\b\b\b\b\b\b\b\b\b\b\b\b\b\b\b\b\b\b\b\b\b\b\b\b\b\b\b\b\b\b\b\b\b\b\b\b\b\b\b\r37\/37 [==============================] - 0s 2ms\/step - loss: 18743930.0000 - val_loss: 20221984.0000\n",
            "Epoch 297\/300\n",
            "\r 1\/37 [..............................] - ETA: 0s - loss: 20268596.0000\b\b\b\b\b\b\b\b\b\b\b\b\b\b\b\b\b\b\b\b\b\b\b\b\b\b\b\b\b\b\b\b\b\b\b\b\b\b\b\b\b\b\b\b\b\b\b\b\b\b\b\b\b\b\b\b\b\b\b\b\b\b\b\b\b\b\b\b\b\b\r37\/37 [==============================] - 0s 2ms\/step - loss: 18748486.0000 - val_loss: 20247772.0000\n",
            "Epoch 298\/300\n",
            "\r 1\/37 [..............................] - ETA: 0s - loss: 16561452.0000\b\b\b\b\b\b\b\b\b\b\b\b\b\b\b\b\b\b\b\b\b\b\b\b\b\b\b\b\b\b\b\b\b\b\b\b\b\b\b\b\b\b\b\b\b\b\b\b\b\b\b\b\b\b\b\b\b\b\b\b\b\b\b\b\b\b\b\b\b\b\r37\/37 [==============================] - 0s 3ms\/step - loss: 18727006.0000 - val_loss: 20194628.0000\n",
            "Epoch 299\/300\n",
            "\r 1\/37 [..............................] - ETA: 0s - loss: 17720764.0000\b\b\b\b\b\b\b\b\b\b\b\b\b\b\b\b\b\b\b\b\b\b\b\b\b\b\b\b\b\b\b\b\b\b\b\b\b\b\b\b\b\b\b\b\b\b\b\b\b\b\b\b\b\b\b\b\b\b\b\b\b\b\b\b\b\b\b\b\b\b\r37\/37 [==============================] - 0s 2ms\/step - loss: 18744856.0000 - val_loss: 20208770.0000\n",
            "Epoch 300\/300\n",
            "\r 1\/37 [..............................] - ETA: 0s - loss: 18764940.0000\b\b\b\b\b\b\b\b\b\b\b\b\b\b\b\b\b\b\b\b\b\b\b\b\b\b\b\b\b\b\b\b\b\b\b\b\b\b\b\b\b\b\b\b\b\b\b\b\b\b\b\b\b\b\b\b\b\b\b\b\b\b\b\b\b\b\b\b\b\b\r30\/37 [=======================>......] - ETA: 0s - loss: 18506460.0000\b\b\b\b\b\b\b\b\b\b\b\b\b\b\b\b\b\b\b\b\b\b\b\b\b\b\b\b\b\b\b\b\b\b\b\b\b\b\b\b\b\b\b\b\b\b\b\b\b\b\b\b\b\b\b\b\b\b\b\b\b\b\b\b\b\b\b\b\b\b\r37\/37 [==============================] - 0s 3ms\/step - loss: 18720276.0000 - val_loss: 20186118.0000\n"
          ],
          "output_type":"stream"
        },
        {
          "data":{
            "text\/plain":[
              "<keras.callbacks.History at 0x7f64784f3940>"
            ]
          },
          "metadata":{
            
          },
          "output_type":"display_data"
        }
      ],
      "metadata":{
        "datalore":{
          "sheet_delimiter":false
        }
      }
    },
    {
      "cell_type":"markdown",
      "source":[
        "## Analyzing the Result"
      ],
      "attachments":{
        
      },
      "metadata":{
        "datalore":{
          "sheet_delimiter":false
        }
      }
    },
    {
      "cell_type":"code",
      "source":[
        "# Analyze the validation and default loss data\n",
        "loss = pd.DataFrame(model.history.history)\n",
        "loss.head()"
      ],
      "execution_count":30,
      "outputs":[
        {
          "data":{
            "text\/html":[
              "<div>\n",
              "<style scoped>\n",
              "    .dataframe tbody tr th:only-of-type {\n",
              "        vertical-align: middle;\n",
              "    }\n",
              "\n",
              "    .dataframe tbody tr th {\n",
              "        vertical-align: top;\n",
              "    }\n",
              "\n",
              "    .dataframe thead th {\n",
              "        text-align: right;\n",
              "    }\n",
              "<\/style>\n",
              "<table border=\"1\" class=\"dataframe\">\n",
              "  <thead>\n",
              "    <tr style=\"text-align: right;\">\n",
              "      <th><\/th>\n",
              "      <th>loss<\/th>\n",
              "      <th>val_loss<\/th>\n",
              "    <\/tr>\n",
              "  <\/thead>\n",
              "  <tbody>\n",
              "    <tr>\n",
              "      <th>0<\/th>\n",
              "      <td>672140992.0<\/td>\n",
              "      <td>688092352.0<\/td>\n",
              "    <\/tr>\n",
              "    <tr>\n",
              "      <th>1<\/th>\n",
              "      <td>672100224.0<\/td>\n",
              "      <td>688019520.0<\/td>\n",
              "    <\/tr>\n",
              "    <tr>\n",
              "      <th>2<\/th>\n",
              "      <td>671951232.0<\/td>\n",
              "      <td>687733056.0<\/td>\n",
              "    <\/tr>\n",
              "    <tr>\n",
              "      <th>3<\/th>\n",
              "      <td>671393216.0<\/td>\n",
              "      <td>686730176.0<\/td>\n",
              "    <\/tr>\n",
              "    <tr>\n",
              "      <th>4<\/th>\n",
              "      <td>669665024.0<\/td>\n",
              "      <td>683856128.0<\/td>\n",
              "    <\/tr>\n",
              "  <\/tbody>\n",
              "<\/table>\n",
              "<\/div>"
            ]
          },
          "metadata":{
            
          },
          "output_type":"display_data"
        }
      ],
      "metadata":{
        "datalore":{
          "sheet_delimiter":false
        }
      }
    },
    {
      "cell_type":"code",
      "source":[
        "#Visualizing the losses \n",
        "loss.plot()"
      ],
      "execution_count":31,
      "outputs":[
        {
          "data":{
            "text\/plain":[
              "<AxesSubplot:>"
            ],
            "image\/png":"[encoded data removed]"
          },
          "metadata":{
            "image\/png":{
              
            }
          },
          "output_type":"display_data"
        }
      ],
      "metadata":{
        "datalore":{
          "sheet_delimiter":false
        }
      }
    },
    {
      "cell_type":"code",
      "source":[
        "from sklearn.metrics import mean_squared_error, mean_absolute_error\n",
        "\n",
        "predict = model.predict(x_test)\n",
        "predict"
      ],
      "execution_count":33,
      "outputs":[
        {
          "data":{
            "text\/html":[
              
            ]
          },
          "metadata":{
            
          },
          "output_type":"display_data"
        }
      ],
      "metadata":{
        "datalore":{
          "sheet_delimiter":false
        }
      }
    },
    {
      "cell_type":"code",
      "source":[
        "mean_absolute_error(y_test, predict)"
      ],
      "execution_count":34,
      "outputs":[
        {
          "data":{
            "text\/plain":[
              "3182.5564810479027"
            ]
          },
          "metadata":{
            
          },
          "output_type":"display_data"
        }
      ],
      "metadata":{
        "datalore":{
          "sheet_delimiter":false
        }
      }
    },
    {
      "cell_type":"code",
      "source":[
        "plt.scatter(y_test, predict)\n",
        "plt.plot(y_test, y_test, \"g-*\")"
      ],
      "execution_count":36,
      "outputs":[
        {
          "data":{
            "text\/plain":[
              "[<matplotlib.lines.Line2D at 0x7f646b3dbdf0>]"
            ],
            "image\/png":"[encoded data removed]"
          },
          "metadata":{
            "image\/png":{
              
            }
          },
          "output_type":"display_data"
        }
      ],
      "metadata":{
        "datalore":{
          "sheet_delimiter":false
        }
      }
    },
    {
      "cell_type":"code",
      "source":[
        "# Looks like we made our regression successfully."
      ],
      "execution_count":0,
      "outputs":[
        
      ],
      "metadata":{
        "datalore":{
          "sheet_delimiter":false
        }
      }
    }
  ],
  "metadata":{
    
  },
  "nbformat":4,
  "nbformat_minor":0
}